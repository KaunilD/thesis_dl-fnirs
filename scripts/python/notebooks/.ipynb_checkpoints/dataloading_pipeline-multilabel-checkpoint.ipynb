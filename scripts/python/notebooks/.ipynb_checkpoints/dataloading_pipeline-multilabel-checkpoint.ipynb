{
 "cells": [
  {
   "cell_type": "code",
   "execution_count": 166,
   "metadata": {},
   "outputs": [],
   "source": [
    "import pandas as pd\n",
    "from scipy.io import loadmat\n",
    "import tables\n",
    "import numpy as np\n",
    "import glob\n",
    "import random"
   ]
  },
  {
   "cell_type": "code",
   "execution_count": 167,
   "metadata": {},
   "outputs": [],
   "source": [
    "\"\"\"\n",
    "Author: Trevor Jordan Grant.\n",
    "default4: spatial/verbal\n",
    "\"\"\"\n",
    "# Dictionary is labeled such that task labels in conditions files will have\n",
    "# more than one multilabeling schema.\n",
    "\n",
    "# To add more multilabeling schema - include them in the task Dictionary.\n",
    "# (The sub-dictionary where the task label is the key.)\n",
    "\n",
    "# default4 = [\"VerbalWM\", \"SpatialWM\", \"VisualPerceptual\", \"AuditoryPerceptual\"]\n",
    "# every label in default 4 has discrete values of 'off', 'low', 'high'\n",
    "\n",
    "# default3 = [\"WM\", \"VisualPerceptual\", \"AuditoryPerceptual\"]\n",
    "# every label in default 3 has discrete values of 'off', 'low', 'high'\n",
    "\n",
    "cog_load_label_dict = {\n",
    "# Mindfulness task labels.\n",
    "                       \"nb\": {\n",
    "                              \"default4\": [\"high\", \"off\", \"low\", \"off\"],\n",
    "                              \"default3\": [\"high\", \"low\", \"off\"],\n",
    "                             },\n",
    "                       \"anb\": {\n",
    "                               \"default4\": [\"high\", \"off\", \"off\", \"low\"],\n",
    "                               \"default3\": [\"high\", \"off\", \"low\"],\n",
    "                              },\n",
    "                       \"ewm\": {\n",
    "                               \"default4\": [\"low\", \"off\", \"high\", \"off\"],\n",
    "                               \"default3\": [\"low\", \"high\", \"off\"]\n",
    "                              },\n",
    "                        \"cr\": {\n",
    "                               \"default4\": [\"off\", \"off\", \"off\", \"off\"],\n",
    "                               \"default3\": [\"off\", \"off\", \"off\"],\n",
    "                              },\n",
    "                        \"rt\": {\n",
    "                               \"default4\": [\"off\", \"off\", \"low\", \"off\"],\n",
    "                               \"default3\": [\"off\", \"low\", \"off\"],\n",
    "                              },\n",
    "                        \"es\": {\n",
    "                               \"default4\": [\"off\", \"off\", \"low\", \"off\"],\n",
    "                               \"default3\": [\"off\", \"low\", \"off\"],\n",
    "                              },\n",
    "                       \"gng\": {\n",
    "                               \"default4\": [\"off\", \"off\", \"low\", \"off\"],\n",
    "                               \"default3\": [\"off\", \"low\", \"off\"],\n",
    "                              },\n",
    "            \"adaptive_words\": {\n",
    "                               \"default4\": [\"off\", \"off\", \"low\", \"off\"],\n",
    "                               \"default3\": [\"off\", \"low\", \"off\"],\n",
    "                              },\n",
    "                   \"go_nogo\": {\n",
    "                               \"default4\": [\"off\", \"off\", \"low\", \"off\"],\n",
    "                               \"default3\": [\"off\", \"low\", \"off\"],\n",
    "                              },\n",
    "                     \"nback\": {\n",
    "                               \"default4\": [\"high\", \"off\", \"low\", \"off\"],\n",
    "                               \"default3\": [\"high\", \"low\", \"off\"],\n",
    "                              },\n",
    "                    \"posner\": {\n",
    "                               \"default4\": [\"off\", \"off\", \"low\", \"off\"],\n",
    "                               \"default3\": [\"off\", \"low\", \"off\"],\n",
    "                              },\n",
    "                 \"simple_rt\": {\n",
    "                               \"default4\": [\"off\", \"off\", \"low\", \"off\"],\n",
    "                               \"default3\": [\"off\", \"low\", \"off\"],\n",
    "                              },\n",
    "             \"visual_search\": {\n",
    "                               \"default4\": [\"off\", \"off\", \"high\", \"off\"],\n",
    "                               \"default3\": [\"off\", \"high\", \"off\"],\n",
    "                              },\n",
    "                      }\n",
    "\n",
    "\n",
    "def strings_to_vectors(string_labels, as_list=False):\n",
    "    \"\"\"Maps strings in dict to interger values.\n",
    "    Args:\n",
    "        string_labels(list): The string label value of load.\n",
    "        as_list(bool): False, if True, return list instead of np.array()\n",
    "    Returns:\n",
    "        labels as np.array()\n",
    "    \"\"\"\n",
    "\n",
    "    maps = {\n",
    "            \"off\": 0,\n",
    "            \"low\": 1,\n",
    "            \"high\": 2,\n",
    "           }\n",
    "\n",
    "    if as_list:\n",
    "        return [maps[label] for label in string_labels]\n",
    "    return np.array([maps[label] for label in string_labels])\n",
    "\n",
    "\n",
    "def return_label(task, label_type=\"default3\", as_strings=False):\n",
    "    \"\"\"Returns a label from the cog_load_label_dict.\n",
    "    Args:\n",
    "        task(str): The task label from the coditions file.\n",
    "        label_type(string): The label schema used for the model.\n",
    "        as_strings(bool): False, if True, return string (in list) values instead.\n",
    "    Returns:\n",
    "        labels(np.array): Under defaults labels will be returned as interger\n",
    "        values in a np.array().\n",
    "    \"\"\"\n",
    "    if as_strings:\n",
    "        return cog_load_label_dict[task][label_type]\n",
    "    return strings_to_vectors(cog_load_label_dict[task][label_type])"
   ]
  },
  {
   "cell_type": "code",
   "execution_count": 168,
   "metadata": {},
   "outputs": [],
   "source": [
    "channel_52_5x11_mat = {\n",
    "           1:[0,1],  2:[0,2],  3:[0,3],  4:[0,4],  5:[0,5],  6:[0,6],  7:[0,7],  8:[0,8],  9:[0,9], 10:[0,10], \n",
    "11:[1,0], 12:[1,1], 13:[1,2], 14:[1,3], 15:[1,4], 16:[1,5], 17:[1,6], 18:[1,7], 19:[1,8], 20:[1,9], 21:[1,10], \n",
    "          22:[2,1], 23:[2,2], 24:[2,3], 25:[2,4], 26:[2,5], 27:[2,6], 28:[2,7], 29:[2,8], 30:[2,9], 31:[2,10], \n",
    "32:[3,0], 33:[3,1], 34:[3,2], 35:[3,3], 36:[3,4], 37:[3,5], 38:[3,6], 39:[3,7], 40:[3,8], 41:[3,9], 42:[3,10], \n",
    "          43:[4,1], 44:[4,2], 45:[4,3], 46:[4,4], 47:[4,5], 48:[4,6], 49:[4,7], 50:[4,8], 51:[4,9], 52:[4,10]\n",
    "}\n",
    "\n",
    "def get_52_5x11_mat(data):\n",
    "    # returns a matrix of size 5x11.\n",
    "    mat = np.zeros((5, 11))\n",
    "    for idx, i in enumerate((data)):\n",
    "        loc = channel_52_5x11_mat[idx+1]\n",
    "        mat[loc[0], loc[1]] = i\n",
    "    return mat\n",
    "\n",
    "channel_52_5x22_mat = {\n",
    "           1:[0,1],  2:[0,3],  3:[0,5],  4:[0,7],  5:[0,9],  6:[0,11],  7:[0,13],  8:[0,15],  9:[0,17], 10:[0,19], \n",
    "11:[1,0], 12:[1,2], 13:[1,4], 14:[1,6], 15:[1,8], 16:[1,10], 17:[1,12], 18:[1,14], 19:[1,16], 20:[1,18], 21:[1,20], \n",
    "          22:[2,1], 23:[2,3], 24:[2,5], 25:[2,7], 26:[2,9], 27:[2,11], 28:[2,13], 29:[2,15], 30:[2,17], 31:[2,19], \n",
    "32:[3,0], 33:[3,2], 34:[3,4], 35:[3,6], 36:[3,8], 37:[3,10], 38:[3,12], 39:[3,14], 40:[3,16], 41:[3,18], 42:[3,20], \n",
    "          43:[4,1], 44:[4,3], 45:[4,5], 46:[4,7], 47:[4,9], 48:[4,11], 49:[4,13], 50:[4,15], 51:[4,17], 52:[4,19]\n",
    "}\n",
    "\n",
    "def get_52_5x22_mat(data):\n",
    "    # returns a matrix of size 5x11.\n",
    "    mat = np.zeros((5, 22))\n",
    "    for idx, i in enumerate((data)):\n",
    "        loc = channel_52_5x22_mat[idx+1]\n",
    "        mat[loc[0], loc[1]] = i\n",
    "    return mat\n",
    "\n"
   ]
  },
  {
   "cell_type": "code",
   "execution_count": 169,
   "metadata": {},
   "outputs": [],
   "source": [
    "\n",
    "def collapse_tasks(tasks, min_dur):\n",
    "    collapsed_tasks = []\n",
    "    collapsed_tasks.append(\n",
    "        tasks[0]\n",
    "    )\n",
    "    for i in range(1, len(tasks)):\n",
    "        t1 = collapsed_tasks[-1]\n",
    "        t2 = tasks[i]\n",
    "        if t1[\"class\"] == t2[\"class\"] and (t2[\"duration\"] < min_dur and t1[\"duration\"] < min_dur):\n",
    "            \n",
    "            t1[\"data\"] = np.concatenate((t1[\"data\"], t2[\"data\"]), axis=0)\n",
    "            t1[\"duration\"]+=t2[\"duration\"]\n",
    "            t1[\"end\"]=t1[\"onset\"]+t2[\"duration\"]\n",
    "            # merge and append\n",
    "        else:\n",
    "            # just append\n",
    "            collapsed_tasks.append(t2)\n",
    "    return collapsed_tasks\n",
    "            \n",
    "def read_tasks(condition, data):\n",
    "    # conditions, data = csv, mat files\n",
    "    # tuple containing (class, onset, duration, offset, oxy_data, dxy_data)\n",
    "    tasks = []\n",
    "    # read conditions, data\n",
    "    c_data = pd.read_csv(condition)\n",
    "    m_data = loadmat(data)\n",
    "    # get oxy, dxy data\n",
    "    oxyDaya = m_data['nirs_data'][0][0][0]\n",
    "    dxyData = m_data['nirs_data'][0][0][1]\n",
    "    # iterate through all the tasks here now.\n",
    "    for idx, key in enumerate(list(c_data.keys())):\n",
    "        start = 0\n",
    "        end = 0\n",
    "        class_ = None\n",
    "        if 'Task' in key or 'all_benchmarks_fNIRS' in key:\n",
    "            # get start and end index of the task\n",
    "            if 'Task' in key:\n",
    "                start = int(c_data[key][0])\n",
    "                duration = int(c_data[key][1])\n",
    "                class_ = c_data[key][2]\n",
    "            else:\n",
    "                start = int(c_data[key][2])\n",
    "                duration = int(c_data[key][3]) \n",
    "                class_ = c_data[key][4]\n",
    "            end = start + duration\n",
    "            \n",
    "            # visualize heatmap: \n",
    "            # sns.heatmap(get_52_mat(oxyDaya[0]))\n",
    "\n",
    "            oxy_series = oxyDaya[start:end, :]\n",
    "            dxy_series = dxyData[start:end, :]\n",
    "\n",
    "            # a 100x5x22 list\n",
    "            oxy_dxy_series_mat = np.zeros((duration,2, 5, 11))\n",
    "\n",
    "            for ts, (oxy_slice, dxy_slice) in enumerate(zip(oxy_series, dxy_series)):\n",
    "                oxy_slice = get_52_5x11_mat(oxy_slice)\n",
    "                dxy_slice = get_52_5x11_mat(dxy_slice)\n",
    "\n",
    "                #oxy_dxy_series_mat[ts] = np.hstack([oxy_slice, dxy_slice])\n",
    "                oxy_dxy_series_mat[ts] = np.array([oxy_slice, dxy_slice])\n",
    "            tasks.append(\n",
    "                {\n",
    "                    \"class\": class_,\n",
    "                    \"onset\": start,\n",
    "                    \"end\": end,\n",
    "                    \"duration\": duration,\n",
    "                    \"data\" : oxy_dxy_series_mat\n",
    "                }\n",
    "            )\n",
    "    return tasks \n"
   ]
  },
  {
   "cell_type": "code",
   "execution_count": 170,
   "metadata": {},
   "outputs": [],
   "source": [
    "conditions = glob.glob('../../../data/multilabel/mats/*fNIRS_conditions_*.csv')\n",
    "data = glob.glob('../../../data/multilabel/mats/*Probe1_*.csv.mat')"
   ]
  },
  {
   "cell_type": "code",
   "execution_count": 171,
   "metadata": {},
   "outputs": [],
   "source": [
    "task_data = []\n",
    "time_series_length = 250\n",
    "\"\"\"\n",
    "default3 labels\n",
    "[ \n",
    "    wm, \n",
    "    v, \n",
    "    a\n",
    "]\n",
    "\"\"\"\n",
    "\n",
    "for idx, (cond, dat) in enumerate(zip(conditions, data)):\n",
    "    tasks = read_tasks(cond, dat)\n",
    "    for t in tasks:\n",
    "        task_data.append(t)\n",
    "    task_data = collapse_tasks(task_data, min_dur=time_series_length)"
   ]
  },
  {
   "cell_type": "code",
   "execution_count": 172,
   "metadata": {},
   "outputs": [],
   "source": [
    "labels_bin = {\"wm\":{0:0, 1:0, 2:0}, \"vl\":{0:0, 1:0, 2:0}, \"al\":{0:0, 1:0, 2:0}}\n",
    "task_cond_bin = {i:0 for i in cog_load_label_dict}\n",
    "for t in task_data:\n",
    "    label = return_label(t[\"class\"])\n",
    "    task_cond_bin[t[\"class\"]]+=1\n",
    "    labels_bin[\"wm\"][label[0]]+=1\n",
    "    labels_bin[\"vl\"][label[1]]+=1\n",
    "    labels_bin[\"al\"][label[2]]+=1"
   ]
  },
  {
   "cell_type": "code",
   "execution_count": 173,
   "metadata": {},
   "outputs": [
    {
     "name": "stdout",
     "output_type": "stream",
     "text": [
      "{'cr': 156, 'nback': 0, 'nb': 26, 'posner': 0, 'es': 26, 'simple_rt': 0, 'gng': 26, 'visual_search': 0, 'ewm': 26, 'adaptive_words': 0, 'rt': 26, 'go_nogo': 0, 'anb': 26} {'al': {0: 286, 1: 26, 2: 0}, 'vl': {0: 182, 1: 104, 2: 26}, 'wm': {0: 234, 1: 26, 2: 52}}\n"
     ]
    }
   ],
   "source": [
    "print(task_cond_bin, labels_bin)"
   ]
  },
  {
   "cell_type": "code",
   "execution_count": 174,
   "metadata": {},
   "outputs": [],
   "source": [
    "\"\"\"\n",
    "    write data to disk\n",
    "\"\"\"\n",
    "random.shuffle(task_data)\n",
    "for idx, data in enumerate(task_data[0:270]):\n",
    "    oxy_dxy_data = np.zeros((time_series_length, 2, 5, 11))\n",
    "    data_len = data[\"data\"].shape[0]\n",
    "    oxy_dxy_data[:min(data_len, time_series_length)] = data[\"data\"][:min(data_len, time_series_length)]\n",
    "    np.save(\"C:\\\\Users\\\\dhruv\\\\Development\\\\git\\\\thesis_dl-fnirs\\\\data\\\\multilabel\\\\train\\\\\" + str(idx), np.asarray([oxy_dxy_data, return_label(data[\"class\"])]))\n",
    "\n",
    "for idx, data in enumerate(task_data[270:]):\n",
    "    oxy_dxy_data = np.zeros((time_series_length, 2, 5, 11))\n",
    "    data_len = data[\"data\"].shape[0]\n",
    "    oxy_dxy_data[:min(data_len, time_series_length)] = data[\"data\"][:min(data_len, time_series_length)]\n",
    "    np.save(\"C:\\\\Users\\\\dhruv\\\\Development\\\\git\\\\thesis_dl-fnirs\\\\data\\\\multilabel\\\\val\\\\\" + str(idx), np.asarray([oxy_dxy_data, return_label(data[\"class\"])]))"
   ]
  },
  {
   "cell_type": "code",
   "execution_count": 175,
   "metadata": {},
   "outputs": [
    {
     "data": {
      "text/plain": [
       "(850, 2, 5, 11)"
      ]
     },
     "execution_count": 175,
     "metadata": {},
     "output_type": "execute_result"
    }
   ],
   "source": [
    "task_data[1][\"data\"].shape"
   ]
  },
  {
   "cell_type": "code",
   "execution_count": 164,
   "metadata": {},
   "outputs": [],
   "source": [
    "import seaborn as sns;\n",
    "import matplotlib.pyplot as plt"
   ]
  },
  {
   "cell_type": "code",
   "execution_count": 198,
   "metadata": {},
   "outputs": [
    {
     "data": {
      "text/plain": [
       "[<matplotlib.lines.Line2D at 0x26b04acb128>]"
      ]
     },
     "execution_count": 198,
     "metadata": {},
     "output_type": "execute_result"
    },
    {
     "data": {
      "image/png": "[encoded data removed]",
      "text/plain": [
       "<matplotlib.figure.Figure at 0x26b03ac0ac8>"
      ]
     },
     "metadata": {},
     "output_type": "display_data"
    }
   ],
   "source": [
    "oxy_1 = [i[0, 0, 1] for i in task_data[6][\"data\"]]\n",
    "dxy_1 = [i[1, 1, 1] for i in task_data[6][\"data\"]]\n",
    "y = np.reshape([oxy_1, dxy_1], (len(oxy_1), 2))\n",
    "x = np.linspace(0, len(oxy_1), len(oxy_1))\n",
    "plt.figure(figsize=(19, 9))\n",
    "plt.plot(x, y)"
   ]
  },
  {
   "cell_type": "code",
   "execution_count": 196,
   "metadata": {},
   "outputs": [
    {
     "data": {
      "text/plain": [
       "(250, 2)"
      ]
     },
     "execution_count": 196,
     "metadata": {},
     "output_type": "execute_result"
    }
   ],
   "source": [
    "y.shape"
   ]
  },
  {
   "cell_type": "code",
   "execution_count": 88,
   "metadata": {},
   "outputs": [
    {
     "ename": "PlotlyRequestError",
     "evalue": "Hi there, you've reached the threshold of 100 combined image exports and chart saves per 24h period. If you need to raise your daily limit, please consider upgrading to a paid plan.",
     "output_type": "error",
     "traceback": [
      "\u001b[1;31m---------------------------------------------------------------------------\u001b[0m",
      "\u001b[1;31mPlotlyRequestError\u001b[0m                        Traceback (most recent call last)",
      "\u001b[1;32m<ipython-input-88-a86d732c9260>\u001b[0m in \u001b[0;36m<module>\u001b[1;34m()\u001b[0m\n\u001b[0;32m     54\u001b[0m \u001b[1;33m\u001b[0m\u001b[0m\n\u001b[0;32m     55\u001b[0m         \u001b[0mfig\u001b[0m \u001b[1;33m=\u001b[0m \u001b[0mgo\u001b[0m\u001b[1;33m.\u001b[0m\u001b[0mFigure\u001b[0m\u001b[1;33m(\u001b[0m\u001b[0mdata\u001b[0m\u001b[1;33m,\u001b[0m \u001b[0mlayout\u001b[0m\u001b[1;33m=\u001b[0m\u001b[0mlayout\u001b[0m\u001b[1;33m)\u001b[0m\u001b[1;33m\u001b[0m\u001b[0m\n\u001b[1;32m---> 56\u001b[1;33m         \u001b[0mpy\u001b[0m\u001b[1;33m.\u001b[0m\u001b[0miplot\u001b[0m\u001b[1;33m(\u001b[0m\u001b[0mfig\u001b[0m\u001b[1;33m,\u001b[0m \u001b[0mfilename\u001b[0m\u001b[1;33m=\u001b[0m\u001b[1;34m\"dataset_thesis-dl\"\u001b[0m\u001b[1;33m)\u001b[0m\u001b[1;33m\u001b[0m\u001b[0m\n\u001b[0m\u001b[0;32m     57\u001b[0m         \u001b[0mpio\u001b[0m\u001b[1;33m.\u001b[0m\u001b[0mwrite_image\u001b[0m\u001b[1;33m(\u001b[0m\u001b[0mfig\u001b[0m\u001b[1;33m,\u001b[0m \u001b[0mtask_data\u001b[0m\u001b[1;33m[\u001b[0m\u001b[0mcond_1\u001b[0m\u001b[1;33m]\u001b[0m\u001b[1;33m[\u001b[0m\u001b[1;34m\"class\"\u001b[0m\u001b[1;33m]\u001b[0m\u001b[1;33m+\u001b[0m\u001b[1;34m'_'\u001b[0m\u001b[1;33m+\u001b[0m\u001b[0mtask_data\u001b[0m\u001b[1;33m[\u001b[0m\u001b[0mcond_2\u001b[0m\u001b[1;33m]\u001b[0m\u001b[1;33m[\u001b[0m\u001b[1;34m\"class\"\u001b[0m\u001b[1;33m]\u001b[0m\u001b[1;33m+\u001b[0m\u001b[1;34m'_'\u001b[0m\u001b[1;33m+\u001b[0m\u001b[0mstr\u001b[0m\u001b[1;33m(\u001b[0m\u001b[0mi\u001b[0m\u001b[1;33m*\u001b[0m\u001b[1;36m11\u001b[0m\u001b[1;33m+\u001b[0m\u001b[0mj\u001b[0m\u001b[1;33m)\u001b[0m\u001b[1;33m+\u001b[0m\u001b[1;34m'.png'\u001b[0m\u001b[1;33m)\u001b[0m\u001b[1;33m\u001b[0m\u001b[0m\n",
      "\u001b[1;32m~\\AppData\\Local\\conda\\conda\\envs\\pytorch\\lib\\site-packages\\chart_studio\\plotly\\plotly.py\u001b[0m in \u001b[0;36miplot\u001b[1;34m(figure_or_data, **plot_options)\u001b[0m\n\u001b[0;32m    157\u001b[0m     \u001b[1;32mif\u001b[0m \u001b[1;34m'auto_open'\u001b[0m \u001b[1;32mnot\u001b[0m \u001b[1;32min\u001b[0m \u001b[0mplot_options\u001b[0m\u001b[1;33m:\u001b[0m\u001b[1;33m\u001b[0m\u001b[0m\n\u001b[0;32m    158\u001b[0m         \u001b[0mplot_options\u001b[0m\u001b[1;33m[\u001b[0m\u001b[1;34m'auto_open'\u001b[0m\u001b[1;33m]\u001b[0m \u001b[1;33m=\u001b[0m \u001b[1;32mFalse\u001b[0m\u001b[1;33m\u001b[0m\u001b[0m\n\u001b[1;32m--> 159\u001b[1;33m     \u001b[0murl\u001b[0m \u001b[1;33m=\u001b[0m \u001b[0mplot\u001b[0m\u001b[1;33m(\u001b[0m\u001b[0mfigure_or_data\u001b[0m\u001b[1;33m,\u001b[0m \u001b[1;33m**\u001b[0m\u001b[0mplot_options\u001b[0m\u001b[1;33m)\u001b[0m\u001b[1;33m\u001b[0m\u001b[0m\n\u001b[0m\u001b[0;32m    160\u001b[0m \u001b[1;33m\u001b[0m\u001b[0m\n\u001b[0;32m    161\u001b[0m     \u001b[1;32mif\u001b[0m \u001b[0misinstance\u001b[0m\u001b[1;33m(\u001b[0m\u001b[0mfigure_or_data\u001b[0m\u001b[1;33m,\u001b[0m \u001b[0mdict\u001b[0m\u001b[1;33m)\u001b[0m\u001b[1;33m:\u001b[0m\u001b[1;33m\u001b[0m\u001b[0m\n",
      "\u001b[1;32m~\\AppData\\Local\\conda\\conda\\envs\\pytorch\\lib\\site-packages\\chart_studio\\plotly\\plotly.py\u001b[0m in \u001b[0;36mplot\u001b[1;34m(figure_or_data, validate, **plot_options)\u001b[0m\n\u001b[0;32m    255\u001b[0m     \u001b[0mdata\u001b[0m \u001b[1;33m=\u001b[0m \u001b[0mfig\u001b[0m\u001b[1;33m.\u001b[0m\u001b[0mget\u001b[0m\u001b[1;33m(\u001b[0m\u001b[1;34m'data'\u001b[0m\u001b[1;33m,\u001b[0m \u001b[1;33m[\u001b[0m\u001b[1;33m]\u001b[0m\u001b[1;33m)\u001b[0m\u001b[1;33m\u001b[0m\u001b[0m\n\u001b[0;32m    256\u001b[0m     \u001b[0mplot_options\u001b[0m\u001b[1;33m[\u001b[0m\u001b[1;34m'layout'\u001b[0m\u001b[1;33m]\u001b[0m \u001b[1;33m=\u001b[0m \u001b[0mfig\u001b[0m\u001b[1;33m.\u001b[0m\u001b[0mget\u001b[0m\u001b[1;33m(\u001b[0m\u001b[1;34m'layout'\u001b[0m\u001b[1;33m,\u001b[0m \u001b[1;33m{\u001b[0m\u001b[1;33m}\u001b[0m\u001b[1;33m)\u001b[0m\u001b[1;33m\u001b[0m\u001b[0m\n\u001b[1;32m--> 257\u001b[1;33m     \u001b[0mresponse\u001b[0m \u001b[1;33m=\u001b[0m \u001b[0mv1\u001b[0m\u001b[1;33m.\u001b[0m\u001b[0mclientresp\u001b[0m\u001b[1;33m(\u001b[0m\u001b[0mdata\u001b[0m\u001b[1;33m,\u001b[0m \u001b[1;33m**\u001b[0m\u001b[0mplot_options\u001b[0m\u001b[1;33m)\u001b[0m\u001b[1;33m\u001b[0m\u001b[0m\n\u001b[0m\u001b[0;32m    258\u001b[0m \u001b[1;33m\u001b[0m\u001b[0m\n\u001b[0;32m    259\u001b[0m     \u001b[1;31m# Check if the url needs a secret key\u001b[0m\u001b[1;33m\u001b[0m\u001b[1;33m\u001b[0m\u001b[0m\n",
      "\u001b[1;32m~\\AppData\\Local\\conda\\conda\\envs\\pytorch\\lib\\site-packages\\chart_studio\\api\\v1\\clientresp.py\u001b[0m in \u001b[0;36mclientresp\u001b[1;34m(data, **kwargs)\u001b[0m\n\u001b[0;32m     37\u001b[0m \u001b[1;33m\u001b[0m\u001b[0m\n\u001b[0;32m     38\u001b[0m     \u001b[0murl\u001b[0m \u001b[1;33m=\u001b[0m \u001b[1;34m'{plotly_domain}/clientresp'\u001b[0m\u001b[1;33m.\u001b[0m\u001b[0mformat\u001b[0m\u001b[1;33m(\u001b[0m\u001b[1;33m**\u001b[0m\u001b[0mcfg\u001b[0m\u001b[1;33m)\u001b[0m\u001b[1;33m\u001b[0m\u001b[0m\n\u001b[1;32m---> 39\u001b[1;33m     \u001b[0mresponse\u001b[0m \u001b[1;33m=\u001b[0m \u001b[0mrequest\u001b[0m\u001b[1;33m(\u001b[0m\u001b[1;34m'post'\u001b[0m\u001b[1;33m,\u001b[0m \u001b[0murl\u001b[0m\u001b[1;33m,\u001b[0m \u001b[0mdata\u001b[0m\u001b[1;33m=\u001b[0m\u001b[0mpayload\u001b[0m\u001b[1;33m)\u001b[0m\u001b[1;33m\u001b[0m\u001b[0m\n\u001b[0m\u001b[0;32m     40\u001b[0m \u001b[1;33m\u001b[0m\u001b[0m\n\u001b[0;32m     41\u001b[0m     \u001b[1;31m# Old functionality, just keeping it around.\u001b[0m\u001b[1;33m\u001b[0m\u001b[1;33m\u001b[0m\u001b[0m\n",
      "\u001b[1;32m~\\AppData\\Local\\conda\\conda\\envs\\pytorch\\lib\\site-packages\\retrying.py\u001b[0m in \u001b[0;36mwrapped_f\u001b[1;34m(*args, **kw)\u001b[0m\n\u001b[0;32m     47\u001b[0m             \u001b[1;33m@\u001b[0m\u001b[0msix\u001b[0m\u001b[1;33m.\u001b[0m\u001b[0mwraps\u001b[0m\u001b[1;33m(\u001b[0m\u001b[0mf\u001b[0m\u001b[1;33m)\u001b[0m\u001b[1;33m\u001b[0m\u001b[0m\n\u001b[0;32m     48\u001b[0m             \u001b[1;32mdef\u001b[0m \u001b[0mwrapped_f\u001b[0m\u001b[1;33m(\u001b[0m\u001b[1;33m*\u001b[0m\u001b[0margs\u001b[0m\u001b[1;33m,\u001b[0m \u001b[1;33m**\u001b[0m\u001b[0mkw\u001b[0m\u001b[1;33m)\u001b[0m\u001b[1;33m:\u001b[0m\u001b[1;33m\u001b[0m\u001b[0m\n\u001b[1;32m---> 49\u001b[1;33m                 \u001b[1;32mreturn\u001b[0m \u001b[0mRetrying\u001b[0m\u001b[1;33m(\u001b[0m\u001b[1;33m*\u001b[0m\u001b[0mdargs\u001b[0m\u001b[1;33m,\u001b[0m \u001b[1;33m**\u001b[0m\u001b[0mdkw\u001b[0m\u001b[1;33m)\u001b[0m\u001b[1;33m.\u001b[0m\u001b[0mcall\u001b[0m\u001b[1;33m(\u001b[0m\u001b[0mf\u001b[0m\u001b[1;33m,\u001b[0m \u001b[1;33m*\u001b[0m\u001b[0margs\u001b[0m\u001b[1;33m,\u001b[0m \u001b[1;33m**\u001b[0m\u001b[0mkw\u001b[0m\u001b[1;33m)\u001b[0m\u001b[1;33m\u001b[0m\u001b[0m\n\u001b[0m\u001b[0;32m     50\u001b[0m \u001b[1;33m\u001b[0m\u001b[0m\n\u001b[0;32m     51\u001b[0m             \u001b[1;32mreturn\u001b[0m \u001b[0mwrapped_f\u001b[0m\u001b[1;33m\u001b[0m\u001b[0m\n",
      "\u001b[1;32m~\\AppData\\Local\\conda\\conda\\envs\\pytorch\\lib\\site-packages\\retrying.py\u001b[0m in \u001b[0;36mcall\u001b[1;34m(self, fn, *args, **kwargs)\u001b[0m\n\u001b[0;32m    204\u001b[0m \u001b[1;33m\u001b[0m\u001b[0m\n\u001b[0;32m    205\u001b[0m             \u001b[1;32mif\u001b[0m \u001b[1;32mnot\u001b[0m \u001b[0mself\u001b[0m\u001b[1;33m.\u001b[0m\u001b[0mshould_reject\u001b[0m\u001b[1;33m(\u001b[0m\u001b[0mattempt\u001b[0m\u001b[1;33m)\u001b[0m\u001b[1;33m:\u001b[0m\u001b[1;33m\u001b[0m\u001b[0m\n\u001b[1;32m--> 206\u001b[1;33m                 \u001b[1;32mreturn\u001b[0m \u001b[0mattempt\u001b[0m\u001b[1;33m.\u001b[0m\u001b[0mget\u001b[0m\u001b[1;33m(\u001b[0m\u001b[0mself\u001b[0m\u001b[1;33m.\u001b[0m\u001b[0m_wrap_exception\u001b[0m\u001b[1;33m)\u001b[0m\u001b[1;33m\u001b[0m\u001b[0m\n\u001b[0m\u001b[0;32m    207\u001b[0m \u001b[1;33m\u001b[0m\u001b[0m\n\u001b[0;32m    208\u001b[0m             \u001b[0mdelay_since_first_attempt_ms\u001b[0m \u001b[1;33m=\u001b[0m \u001b[0mint\u001b[0m\u001b[1;33m(\u001b[0m\u001b[0mround\u001b[0m\u001b[1;33m(\u001b[0m\u001b[0mtime\u001b[0m\u001b[1;33m.\u001b[0m\u001b[0mtime\u001b[0m\u001b[1;33m(\u001b[0m\u001b[1;33m)\u001b[0m \u001b[1;33m*\u001b[0m \u001b[1;36m1000\u001b[0m\u001b[1;33m)\u001b[0m\u001b[1;33m)\u001b[0m \u001b[1;33m-\u001b[0m \u001b[0mstart_time\u001b[0m\u001b[1;33m\u001b[0m\u001b[0m\n",
      "\u001b[1;32m~\\AppData\\Local\\conda\\conda\\envs\\pytorch\\lib\\site-packages\\retrying.py\u001b[0m in \u001b[0;36mget\u001b[1;34m(self, wrap_exception)\u001b[0m\n\u001b[0;32m    245\u001b[0m                 \u001b[1;32mraise\u001b[0m \u001b[0mRetryError\u001b[0m\u001b[1;33m(\u001b[0m\u001b[0mself\u001b[0m\u001b[1;33m)\u001b[0m\u001b[1;33m\u001b[0m\u001b[0m\n\u001b[0;32m    246\u001b[0m             \u001b[1;32melse\u001b[0m\u001b[1;33m:\u001b[0m\u001b[1;33m\u001b[0m\u001b[0m\n\u001b[1;32m--> 247\u001b[1;33m                 \u001b[0msix\u001b[0m\u001b[1;33m.\u001b[0m\u001b[0mreraise\u001b[0m\u001b[1;33m(\u001b[0m\u001b[0mself\u001b[0m\u001b[1;33m.\u001b[0m\u001b[0mvalue\u001b[0m\u001b[1;33m[\u001b[0m\u001b[1;36m0\u001b[0m\u001b[1;33m]\u001b[0m\u001b[1;33m,\u001b[0m \u001b[0mself\u001b[0m\u001b[1;33m.\u001b[0m\u001b[0mvalue\u001b[0m\u001b[1;33m[\u001b[0m\u001b[1;36m1\u001b[0m\u001b[1;33m]\u001b[0m\u001b[1;33m,\u001b[0m \u001b[0mself\u001b[0m\u001b[1;33m.\u001b[0m\u001b[0mvalue\u001b[0m\u001b[1;33m[\u001b[0m\u001b[1;36m2\u001b[0m\u001b[1;33m]\u001b[0m\u001b[1;33m)\u001b[0m\u001b[1;33m\u001b[0m\u001b[0m\n\u001b[0m\u001b[0;32m    248\u001b[0m         \u001b[1;32melse\u001b[0m\u001b[1;33m:\u001b[0m\u001b[1;33m\u001b[0m\u001b[0m\n\u001b[0;32m    249\u001b[0m             \u001b[1;32mreturn\u001b[0m \u001b[0mself\u001b[0m\u001b[1;33m.\u001b[0m\u001b[0mvalue\u001b[0m\u001b[1;33m\u001b[0m\u001b[0m\n",
      "\u001b[1;32m~\\AppData\\Local\\conda\\conda\\envs\\pytorch\\lib\\site-packages\\six.py\u001b[0m in \u001b[0;36mreraise\u001b[1;34m(tp, value, tb)\u001b[0m\n\u001b[0;32m    691\u001b[0m             \u001b[1;32mif\u001b[0m \u001b[0mvalue\u001b[0m\u001b[1;33m.\u001b[0m\u001b[0m__traceback__\u001b[0m \u001b[1;32mis\u001b[0m \u001b[1;32mnot\u001b[0m \u001b[0mtb\u001b[0m\u001b[1;33m:\u001b[0m\u001b[1;33m\u001b[0m\u001b[0m\n\u001b[0;32m    692\u001b[0m                 \u001b[1;32mraise\u001b[0m \u001b[0mvalue\u001b[0m\u001b[1;33m.\u001b[0m\u001b[0mwith_traceback\u001b[0m\u001b[1;33m(\u001b[0m\u001b[0mtb\u001b[0m\u001b[1;33m)\u001b[0m\u001b[1;33m\u001b[0m\u001b[0m\n\u001b[1;32m--> 693\u001b[1;33m             \u001b[1;32mraise\u001b[0m \u001b[0mvalue\u001b[0m\u001b[1;33m\u001b[0m\u001b[0m\n\u001b[0m\u001b[0;32m    694\u001b[0m         \u001b[1;32mfinally\u001b[0m\u001b[1;33m:\u001b[0m\u001b[1;33m\u001b[0m\u001b[0m\n\u001b[0;32m    695\u001b[0m             \u001b[0mvalue\u001b[0m \u001b[1;33m=\u001b[0m \u001b[1;32mNone\u001b[0m\u001b[1;33m\u001b[0m\u001b[0m\n",
      "\u001b[1;32m~\\AppData\\Local\\conda\\conda\\envs\\pytorch\\lib\\site-packages\\retrying.py\u001b[0m in \u001b[0;36mcall\u001b[1;34m(self, fn, *args, **kwargs)\u001b[0m\n\u001b[0;32m    198\u001b[0m         \u001b[1;32mwhile\u001b[0m \u001b[1;32mTrue\u001b[0m\u001b[1;33m:\u001b[0m\u001b[1;33m\u001b[0m\u001b[0m\n\u001b[0;32m    199\u001b[0m             \u001b[1;32mtry\u001b[0m\u001b[1;33m:\u001b[0m\u001b[1;33m\u001b[0m\u001b[0m\n\u001b[1;32m--> 200\u001b[1;33m                 \u001b[0mattempt\u001b[0m \u001b[1;33m=\u001b[0m \u001b[0mAttempt\u001b[0m\u001b[1;33m(\u001b[0m\u001b[0mfn\u001b[0m\u001b[1;33m(\u001b[0m\u001b[1;33m*\u001b[0m\u001b[0margs\u001b[0m\u001b[1;33m,\u001b[0m \u001b[1;33m**\u001b[0m\u001b[0mkwargs\u001b[0m\u001b[1;33m)\u001b[0m\u001b[1;33m,\u001b[0m \u001b[0mattempt_number\u001b[0m\u001b[1;33m,\u001b[0m \u001b[1;32mFalse\u001b[0m\u001b[1;33m)\u001b[0m\u001b[1;33m\u001b[0m\u001b[0m\n\u001b[0m\u001b[0;32m    201\u001b[0m             \u001b[1;32mexcept\u001b[0m\u001b[1;33m:\u001b[0m\u001b[1;33m\u001b[0m\u001b[0m\n\u001b[0;32m    202\u001b[0m                 \u001b[0mtb\u001b[0m \u001b[1;33m=\u001b[0m \u001b[0msys\u001b[0m\u001b[1;33m.\u001b[0m\u001b[0mexc_info\u001b[0m\u001b[1;33m(\u001b[0m\u001b[1;33m)\u001b[0m\u001b[1;33m\u001b[0m\u001b[0m\n",
      "\u001b[1;32m~\\AppData\\Local\\conda\\conda\\envs\\pytorch\\lib\\site-packages\\chart_studio\\api\\v1\\utils.py\u001b[0m in \u001b[0;36mrequest\u001b[1;34m(method, url, **kwargs)\u001b[0m\n\u001b[0;32m     90\u001b[0m         \u001b[0mcontent\u001b[0m \u001b[1;33m=\u001b[0m \u001b[0mresponse\u001b[0m\u001b[1;33m.\u001b[0m\u001b[0mcontent\u001b[0m \u001b[1;32mif\u001b[0m \u001b[0mresponse\u001b[0m \u001b[1;32melse\u001b[0m \u001b[1;34m'No content'\u001b[0m\u001b[1;33m\u001b[0m\u001b[0m\n\u001b[0;32m     91\u001b[0m         \u001b[1;32mraise\u001b[0m \u001b[0mexceptions\u001b[0m\u001b[1;33m.\u001b[0m\u001b[0mPlotlyRequestError\u001b[0m\u001b[1;33m(\u001b[0m\u001b[0mmessage\u001b[0m\u001b[1;33m,\u001b[0m \u001b[0mstatus_code\u001b[0m\u001b[1;33m,\u001b[0m \u001b[0mcontent\u001b[0m\u001b[1;33m)\u001b[0m\u001b[1;33m\u001b[0m\u001b[0m\n\u001b[1;32m---> 92\u001b[1;33m     \u001b[0mvalidate_response\u001b[0m\u001b[1;33m(\u001b[0m\u001b[0mresponse\u001b[0m\u001b[1;33m)\u001b[0m\u001b[1;33m\u001b[0m\u001b[0m\n\u001b[0m\u001b[0;32m     93\u001b[0m     \u001b[1;32mreturn\u001b[0m \u001b[0mresponse\u001b[0m\u001b[1;33m\u001b[0m\u001b[0m\n",
      "\u001b[1;32m~\\AppData\\Local\\conda\\conda\\envs\\pytorch\\lib\\site-packages\\chart_studio\\api\\v1\\utils.py\u001b[0m in \u001b[0;36mvalidate_response\u001b[1;34m(response)\u001b[0m\n\u001b[0;32m     39\u001b[0m         \u001b[0mmessage\u001b[0m \u001b[1;33m=\u001b[0m \u001b[0mcontent\u001b[0m \u001b[1;32mif\u001b[0m \u001b[0mcontent\u001b[0m \u001b[1;32melse\u001b[0m \u001b[1;34m'No Content'\u001b[0m\u001b[1;33m\u001b[0m\u001b[0m\n\u001b[0;32m     40\u001b[0m \u001b[1;33m\u001b[0m\u001b[0m\n\u001b[1;32m---> 41\u001b[1;33m     \u001b[1;32mraise\u001b[0m \u001b[0mexceptions\u001b[0m\u001b[1;33m.\u001b[0m\u001b[0mPlotlyRequestError\u001b[0m\u001b[1;33m(\u001b[0m\u001b[0mmessage\u001b[0m\u001b[1;33m,\u001b[0m \u001b[0mstatus_code\u001b[0m\u001b[1;33m,\u001b[0m \u001b[0mcontent\u001b[0m\u001b[1;33m)\u001b[0m\u001b[1;33m\u001b[0m\u001b[0m\n\u001b[0m\u001b[0;32m     42\u001b[0m \u001b[1;33m\u001b[0m\u001b[0m\n\u001b[0;32m     43\u001b[0m \u001b[1;33m\u001b[0m\u001b[0m\n",
      "\u001b[1;31mPlotlyRequestError\u001b[0m: Hi there, you've reached the threshold of 100 combined image exports and chart saves per 24h period. If you need to raise your daily limit, please consider upgrading to a paid plan."
     ]
    }
   ],
   "source": [
    "cond_1 = 0\n",
    "cond_2 = 1\n",
    "\n",
    "for i in range(0, 5):\n",
    "    for j in range(0, 11):\n",
    "        oxy_1 = go.Scatter(\n",
    "                x = np.linspace(0, time_series_length, time_series_length),\n",
    "                y = task_data[cond_1][\"data\"][:, i, j],\n",
    "                mode = 'lines+markers',\n",
    "                name = task_data[cond_1][\"class\"]+'-oxy',\n",
    "                marker = {\"symbol\":200}\n",
    "            )\n",
    "\n",
    "        oxy_2 = go.Scatter(\n",
    "                x = np.linspace(0, time_series_length, time_series_length),\n",
    "                y = task_data[cond_2][\"data\"][:, i, j],\n",
    "                mode = 'lines+markers',\n",
    "                name = task_data[cond_2][\"class\"]+'-oxy',\n",
    "                marker = {\"symbol\":200}\n",
    "            )\n",
    "\n",
    "\n",
    "        dxy_1 = go.Scatter(\n",
    "                x = np.linspace(0, time_series_length, time_series_length),\n",
    "                y = task_data[cond_1][\"data\"][:, i, j+11],\n",
    "                mode = 'lines+markers',\n",
    "                name = task_data[cond_1][\"class\"]+'-dxy',\n",
    "                marker = {\"symbol\":300}\n",
    "            )\n",
    "\n",
    "        dxy_2 = go.Scatter(\n",
    "                x = np.linspace(0, time_series_length, time_series_length),\n",
    "                y = task_data[cond_2][\"data\"][:, i, j+11],\n",
    "                mode = 'lines+markers',\n",
    "                name = task_data[cond_2][\"class\"]+'-dxy',\n",
    "                marker = {\"symbol\":300}\n",
    "            )\n",
    "        data = [oxy_1, oxy_2, dxy_1, dxy_2]\n",
    "        layout = go.Layout(\n",
    "                title= 'CLASSWISE SIGNAL COMPARISION',\n",
    "                hovermode= 'closest',\n",
    "                xaxis= dict(\n",
    "                    title= 'TIME',\n",
    "                    ticklen= 5,\n",
    "                    zeroline= False,\n",
    "                    gridwidth= 2,\n",
    "                ),\n",
    "                yaxis=dict(\n",
    "                    title= 'AMP',\n",
    "                    ticklen= 5,\n",
    "                    gridwidth= 2,\n",
    "                )\n",
    "            )\n",
    "\n",
    "        fig = go.Figure(data, layout=layout)\n",
    "        py.iplot(fig, filename=\"dataset_thesis-dl\")\n",
    "        pio.write_image(fig, task_data[cond_1][\"class\"]+'_'+task_data[cond_2][\"class\"]+'_'+str(i*11+j)+'.png')"
   ]
  },
  {
   "cell_type": "code",
   "execution_count": 93,
   "metadata": {},
   "outputs": [],
   "source": [
    "import torch\n",
    "import torchvision"
   ]
  },
  {
   "cell_type": "code",
   "execution_count": 94,
   "metadata": {},
   "outputs": [
    {
     "name": "stdout",
     "output_type": "stream",
     "text": [
      "Downloading http://yann.lecun.com/exdb/mnist/train-images-idx3-ubyte.gz to ./MNIST\\raw\\train-images-idx3-ubyte.gz\n"
     ]
    },
    {
     "name": "stderr",
     "output_type": "stream",
     "text": [
      "9920512it [00:01, 5644419.31it/s]                                                                                      \n"
     ]
    },
    {
     "name": "stdout",
     "output_type": "stream",
     "text": [
      "Extracting ./MNIST\\raw\\train-images-idx3-ubyte.gz\n",
      "Downloading http://yann.lecun.com/exdb/mnist/train-labels-idx1-ubyte.gz to ./MNIST\\raw\\train-labels-idx1-ubyte.gz\n"
     ]
    },
    {
     "name": "stderr",
     "output_type": "stream",
     "text": [
      "32768it [00:00, 151410.68it/s]                                                                                         \n"
     ]
    },
    {
     "name": "stdout",
     "output_type": "stream",
     "text": [
      "Extracting ./MNIST\\raw\\train-labels-idx1-ubyte.gz\n",
      "Downloading http://yann.lecun.com/exdb/mnist/t10k-images-idx3-ubyte.gz to ./MNIST\\raw\\t10k-images-idx3-ubyte.gz\n"
     ]
    },
    {
     "name": "stderr",
     "output_type": "stream",
     "text": [
      "1654784it [00:00, 2343504.93it/s]                                                                                      \n"
     ]
    },
    {
     "name": "stdout",
     "output_type": "stream",
     "text": [
      "Extracting ./MNIST\\raw\\t10k-images-idx3-ubyte.gz\n",
      "Downloading http://yann.lecun.com/exdb/mnist/t10k-labels-idx1-ubyte.gz to ./MNIST\\raw\\t10k-labels-idx1-ubyte.gz\n"
     ]
    },
    {
     "name": "stderr",
     "output_type": "stream",
     "text": [
      "8192it [00:00, 60843.96it/s]                                                                                           \n"
     ]
    },
    {
     "name": "stdout",
     "output_type": "stream",
     "text": [
      "Extracting ./MNIST\\raw\\t10k-labels-idx1-ubyte.gz\n",
      "Processing...\n",
      "Done!\n"
     ]
    }
   ],
   "source": [
    "train_loader = torch.utils.data.DataLoader(\n",
    "  torchvision.datasets.MNIST('./', train=True, download=True,\n",
    "                             transform=torchvision.transforms.Compose([\n",
    "                               torchvision.transforms.ToTensor(),\n",
    "                               torchvision.transforms.Normalize(\n",
    "                                 (0.1307,), (0.3081,))\n",
    "                             ])),\n",
    "  batch_size=8, shuffle=True)"
   ]
  },
  {
   "cell_type": "code",
   "execution_count": 97,
   "metadata": {},
   "outputs": [
    {
     "data": {
      "text/plain": [
       "5"
      ]
     },
     "execution_count": 97,
     "metadata": {},
     "output_type": "execute_result"
    }
   ],
   "source": [
    "train_loader.dataset.__getitem__(0)[1]"
   ]
  },
  {
   "cell_type": "code",
   "execution_count": null,
   "metadata": {},
   "outputs": [],
   "source": []
  }
 ],
 "metadata": {
  "kernelspec": {
   "display_name": "Python (pytorch)",
   "language": "python",
   "name": "pytorch"
  },
  "language_info": {
   "codemirror_mode": {
    "name": "ipython",
    "version": 3
   },
   "file_extension": ".py",
   "mimetype": "text/x-python",
   "name": "python",
   "nbconvert_exporter": "python",
   "pygments_lexer": "ipython3",
   "version": "3.5.6"
  }
 },
 "nbformat": 4,
 "nbformat_minor": 2
}
