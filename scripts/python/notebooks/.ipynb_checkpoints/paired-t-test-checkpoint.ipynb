{
 "cells": [
  {
   "cell_type": "code",
   "execution_count": 1,
   "metadata": {},
   "outputs": [],
   "source": [
    "import pandas as pd\n",
    "import numpy as np\n",
    "from biosppy import storage\n",
    "from biosppy.signals import ecg, eda, resp, eeg\n",
    "import matplotlib.pyplot as plt\n",
    "import glob\n",
    "import statsmodels.formula.api as sm\n",
    "import scipy\n",
    "import mes2hb"
   ]
  },
  {
   "cell_type": "code",
   "execution_count": 2,
   "metadata": {},
   "outputs": [],
   "source": [
    "import plotly \n",
    "plotly.tools.set_credentials_file(username='kaunil.dhruv', api_key='MnfbNkjkRetqM6XYkKO4')"
   ]
  },
  {
   "cell_type": "markdown",
   "metadata": {},
   "source": [
    "| CHANNEL |  SENSOR   |\n",
    "| :-----: | :-------: |\n",
    "|   CH1   |   RESP    |\n",
    "|  CH10   |    EDA    |\n",
    "|  CH13   |    ECG    |\n",
    "|   CH3   |   EEG-a   |\n",
    "|  CH16   |   EEG-b   |\n",
    "|  CH20   | timestamp |"
   ]
  },
  {
   "cell_type": "code",
   "execution_count": 527,
   "metadata": {},
   "outputs": [],
   "source": [
    "def get_eda_features(eda_raw):\n",
    "    \"\"\"\n",
    "        returns \n",
    "        1. mean rise time\n",
    "        2. mean amplitude\n",
    "        3. total SCR peaks\n",
    "    \"\"\"\n",
    "    ts, filtered, peaks_min, onsets, amp = eda.eda(\n",
    "        signal=eda_raw, sampling_rate=1000, show=False\n",
    "    )\n",
    "    # indices for local maxima\n",
    "    peaks_max = []\n",
    "    # rise times of SCR peaks\n",
    "    rise_times = []\n",
    "    \n",
    "    for idx, onset in enumerate(onsets[:-1]):\n",
    "        peaks_max.append(onset + np.argmax(filtered[onset:onsets[idx+1]]))\n",
    "        rise_times.append(peaks_max[-1] - onset)\n",
    "    plt.plot(filtered)\n",
    "    plt.plot(onsets, filtered[onsets], 'ro')\n",
    "    plt.plot(peaks_max, filtered[peaks_max], 'go')\n",
    "    if len(peaks_max) == 0:\n",
    "        return np.array([0, 0])\n",
    "    else:\n",
    "        return np.hstack([np.mean(rise_times), np.mean(amp)])\n",
    "\n",
    "def get_resp_features(resp_raw):\n",
    "    resp_ts, resp_filtered, _, _, resp_rate = resp.resp(\n",
    "        signal=resp_raw, sampling_rate=1000, show=False\n",
    "    )\n",
    "    plt.plot(resp_filtered)\n",
    "    return np.mean(resp_rate)\n",
    "    \n",
    "def get_ecg_features(ecg_raw):\n",
    "    \"\"\"\n",
    "        1. returns mean heart rate - meanHR\n",
    "        2. mean distance between 2 rpeaks - meanRR\n",
    "    \"\"\"\n",
    "    ts, filtered, rpeaks, templates_ts, templates, heart_rate_ts, heart_rate = ecg.ecg(\n",
    "        signal=ecg_raw, sampling_rate=1000, show=False\n",
    "    )\n",
    "    rpeak_interval = []\n",
    "    for idx, rpeak in enumerate(rpeaks[:-1]):\n",
    "        rpeak_interval.append(rpeaks[idx+1] - rpeaks[idx])\n",
    "    plt.plot(filtered)\n",
    "    plt.plot(rpeaks, filtered[rpeaks], 'ro')\n",
    "    return np.hstack((np.mean(rpeak_interval), np.mean(heart_rate)))\n",
    "\n",
    "def get_eeg_features(eeg_raw):\n",
    "    eeg_raw = np.reshape(np.array(eeg_raw), (60000, 2))\n",
    "    _, eeg_filtered, _, theta, alpha_h, alpha_l, beta, gamma, _, _ = eeg.eeg(\n",
    "        signal=eeg_raw, sampling_rate=1000, show=False\n",
    "    )\n",
    "    \n",
    "    alpha = np.mean(\n",
    "        np.vstack((\n",
    "            np.mean(alpha_l, axis=0), \n",
    "            np.mean(alpha_h, axis=0)\n",
    "        )), \n",
    "        axis=0)\n",
    "\n",
    "    \"\"\"\n",
    "    fig, ax = plt.subplots(4, 1, sharey=\"row\")\n",
    "    ax[0].plot(np.sum(theta, axis=1))\n",
    "    ax[1].plot(np.sum(alpha, axis=1))\n",
    "    ax[2].plot(np.sum(beta, axis=1))\n",
    "    ax[3].plot(np.sum(gamma, axis=1))\n",
    "    \"\"\"\n",
    "    return np.hstack([np.mean(theta, axis=0), alpha, np.mean(beta, axis=0), np.mean(gamma, axis=0)])\n"
   ]
  },
  {
   "cell_type": "code",
   "execution_count": 528,
   "metadata": {},
   "outputs": [],
   "source": [
    "csv_data = pd.read_csv('data/BIOPAC/aptima_5.txt', skiprows=15)\n",
    "csv_data = csv_data[1:]"
   ]
  },
  {
   "cell_type": "code",
   "execution_count": 529,
   "metadata": {},
   "outputs": [],
   "source": [
    "resp_raw = csv_data[\"CH1\"].values\n",
    "eda_raw = csv_data[\"CH10\"].values\n",
    "ecg_raw = csv_data[\"CH13\"].values\n",
    "\n",
    "eeg_a_raw = csv_data[\"CH3\"].values\n",
    "eeg_b_raw = csv_data[\"CH16\"].values"
   ]
  },
  {
   "cell_type": "code",
   "execution_count": 530,
   "metadata": {},
   "outputs": [
    {
     "name": "stderr",
     "output_type": "stream",
     "text": [
      "C:\\Users\\dhruv\\AppData\\Local\\conda\\conda\\envs\\pytorch\\lib\\site-packages\\scipy\\signal\\_arraytools.py:45: FutureWarning:\n",
      "\n",
      "Using a non-tuple sequence for multidimensional indexing is deprecated; use `arr[tuple(seq)]` instead of `arr[seq]`. In the future this will be interpreted as an array index, `arr[np.array(seq)]`, which will result either in an error or a different result.\n",
      "\n"
     ]
    },
    {
     "data": {
      "text/plain": [
       "0.2660872880169904"
      ]
     },
     "execution_count": 530,
     "metadata": {},
     "output_type": "execute_result"
    },
    {
     "data": {
      "image/png": "[encoded data removed]",
      "text/plain": [
       "<matplotlib.figure.Figure at 0x21334451d68>"
      ]
     },
     "metadata": {
      "needs_background": "light"
     },
     "output_type": "display_data"
    }
   ],
   "source": [
    "\"\"\"\n",
    "Task1,Task2,Task3,Task4,Task5,Task6,Task7,Task8,Task9,Task10,Task11,Task12\n",
    "131937,194227,316614,408845,498276,569670,673067,770846,850102,914459,1033507,1138836\n",
    "rest,MATB_med,MATB_easy,MATB_hard,rest,MATB_hard,MATB_easy,MATB_med,rest,MATB_med,MATB_hard,MATB_easy\n",
    "\"\"\"\n",
    "\n",
    "onsets = [131937, 194227,316614,408845,498276,569670,673067,770846,850102,914459,1033507,1138836]\n",
    "onset = onsets[1]\n",
    "\"\"\"\n",
    "get_eeg_features([\n",
    "    eeg_a_raw[onset:onset+60000],\n",
    "    eeg_b_raw[onset:onset+60000]\n",
    "])\n",
    "\"\"\"\n",
    "get_resp_features(resp_raw[onset:onset+50000])"
   ]
  },
  {
   "cell_type": "code",
   "execution_count": 19,
   "metadata": {},
   "outputs": [],
   "source": [
    "conditions_files = sorted(glob.glob('data/BIOPAC/*BIOPAC_conditions.csv'))\n",
    "data_files = sorted(glob.glob('data/BIOPAC/aptima_*.txt'))"
   ]
  },
  {
   "cell_type": "code",
   "execution_count": 20,
   "metadata": {
    "scrolled": true
   },
   "outputs": [
    {
     "ename": "NameError",
     "evalue": "name 'get_ecg_features' is not defined",
     "output_type": "error",
     "traceback": [
      "\u001b[1;31m---------------------------------------------------------------------------\u001b[0m",
      "\u001b[1;31mNameError\u001b[0m                                 Traceback (most recent call last)",
      "\u001b[1;32m<ipython-input-20-d373ea90299b>\u001b[0m in \u001b[0;36m<module>\u001b[1;34m()\u001b[0m\n\u001b[0;32m     29\u001b[0m \u001b[1;33m\u001b[0m\u001b[0m\n\u001b[0;32m     30\u001b[0m             \u001b[1;31m#resp_data = np.reshape(resp_filtered[start:end], (duration, 1))\u001b[0m\u001b[1;33m\u001b[0m\u001b[1;33m\u001b[0m\u001b[0m\n\u001b[1;32m---> 31\u001b[1;33m             \u001b[0mecg_features\u001b[0m\u001b[1;33m.\u001b[0m\u001b[0mappend\u001b[0m\u001b[1;33m(\u001b[0m\u001b[0mget_ecg_features\u001b[0m\u001b[1;33m(\u001b[0m\u001b[0mecg_raw\u001b[0m\u001b[1;33m[\u001b[0m\u001b[0mstart\u001b[0m\u001b[1;33m:\u001b[0m\u001b[0mend\u001b[0m\u001b[1;33m]\u001b[0m\u001b[1;33m)\u001b[0m\u001b[1;33m)\u001b[0m\u001b[1;33m\u001b[0m\u001b[0m\n\u001b[0m\u001b[0;32m     32\u001b[0m             \u001b[0meda_features\u001b[0m\u001b[1;33m.\u001b[0m\u001b[0mappend\u001b[0m\u001b[1;33m(\u001b[0m\u001b[0mget_eda_features\u001b[0m\u001b[1;33m(\u001b[0m\u001b[0meda_raw\u001b[0m\u001b[1;33m[\u001b[0m\u001b[0mstart\u001b[0m\u001b[1;33m:\u001b[0m\u001b[0mend\u001b[0m\u001b[1;33m]\u001b[0m\u001b[1;33m)\u001b[0m\u001b[1;33m)\u001b[0m\u001b[1;33m\u001b[0m\u001b[0m\n\u001b[0;32m     33\u001b[0m             \u001b[0mresp_features\u001b[0m\u001b[1;33m.\u001b[0m\u001b[0mappend\u001b[0m\u001b[1;33m(\u001b[0m\u001b[0mget_resp_features\u001b[0m\u001b[1;33m(\u001b[0m\u001b[0mresp_raw\u001b[0m\u001b[1;33m[\u001b[0m\u001b[0mstart\u001b[0m\u001b[1;33m:\u001b[0m\u001b[0mend\u001b[0m\u001b[1;33m]\u001b[0m\u001b[1;33m)\u001b[0m\u001b[1;33m)\u001b[0m\u001b[1;33m\u001b[0m\u001b[0m\n",
      "\u001b[1;31mNameError\u001b[0m: name 'get_ecg_features' is not defined"
     ]
    }
   ],
   "source": [
    "eeg_features = []\n",
    "eda_features = []\n",
    "ecg_features = []\n",
    "resp_features = []\n",
    "\n",
    "resp_idx = {\"rest\":1, \"MATB_med\":3, \"MATB_easy\": 2, \"MATB_hard\": 4}\n",
    "response = []\n",
    "for cond_f, data_f in zip(conditions_files, data_files):\n",
    "    cond = pd.read_csv(cond_f)\n",
    "    \n",
    "    data = pd.read_csv(data_f, skiprows=15)\n",
    "    data = data[1:]\n",
    "    \n",
    "    resp_raw = data[\"CH1\"].values\n",
    "    eda_raw = data[\"CH10\"].values\n",
    "    ecg_raw = data[\"CH13\"].values\n",
    "    eeg_a_raw = data[\"CH3\"].values\n",
    "    eeg_b_raw = data[\"CH16\"].values\n",
    "    \n",
    "    for key in cond:\n",
    "        if 'Task' in key:\n",
    "            start = int(cond[key][0])\n",
    "            duration = int(cond[key][1])\n",
    "            end = start + duration\n",
    "            \n",
    "            res = str(cond[key][2])\n",
    "            \n",
    "            response.append(resp_idx[res])\n",
    "            \n",
    "            #resp_data = np.reshape(resp_filtered[start:end], (duration, 1))\n",
    "            ecg_features.append(get_ecg_features(ecg_raw[start:end]))\n",
    "            eda_features.append(get_eda_features(eda_raw[start:end]))\n",
    "            resp_features.append(get_resp_features(resp_raw[start:end]))\n",
    "            eeg_features.append(get_eeg_features([eeg_a_raw[start:end], eeg_b_raw[start:end]]))\n"
   ]
  },
  {
   "cell_type": "code",
   "execution_count": 533,
   "metadata": {},
   "outputs": [],
   "source": [
    "rest = [1 if i == 1 else 0 for i in response]\n",
    "easy = [1 if i == 2 else 0 for i in response]\n",
    "med = [1 if i == 3 else 0 for i in response]\n",
    "hard = [1 if i == 4 else 0 for i in response]"
   ]
  },
  {
   "cell_type": "markdown",
   "metadata": {},
   "source": [
    "# RESP"
   ]
  },
  {
   "cell_type": "markdown",
   "metadata": {},
   "source": [
    "##### easy"
   ]
  },
  {
   "cell_type": "code",
   "execution_count": 536,
   "metadata": {},
   "outputs": [
    {
     "name": "stdout",
     "output_type": "stream",
     "text": [
      "1.2127575301959475 0.25981630832342095\n"
     ]
    }
   ],
   "source": [
    "resp_rest = np.array([resp_features[i] for i in range(len(rest)) if rest[i] == 1 ])\n",
    "resp_easy = np.array([resp_features[i] for i in range(len(easy)) if easy[i] == 1 ])\n",
    "\n",
    "#step 1: calculate pair diffrernces\n",
    "resp_diff_easy = - resp_rest + resp_easy\n",
    "\n",
    "#step 2: mean_diff\n",
    "mean_resp_diff_easy = np.mean(resp_diff_easy)\n",
    "\n",
    "#step 3: standard deviation\n",
    "std_resp_diff_easy = np.std(resp_diff_easy)\n",
    "\n",
    "#step4: standard error:\n",
    "se_resp_diff_easy = std_resp_diff_easy/np.sqrt(len(resp_easy))\n",
    "\n",
    "# step 5: t-statistic\n",
    "t_resp_easy = mean_resp_diff_easy/se_resp_diff_easy\n",
    "p_resp_easy = scipy.stats.t.sf(np.abs(t_resp_easy), len(resp_rest)-1)*2\n",
    "print(t_resp_easy, p_resp_easy)"
   ]
  },
  {
   "cell_type": "markdown",
   "metadata": {},
   "source": [
    "##### med"
   ]
  },
  {
   "cell_type": "code",
   "execution_count": 537,
   "metadata": {},
   "outputs": [
    {
     "name": "stdout",
     "output_type": "stream",
     "text": [
      "-0.07033349636202149 0.9456546136655606\n"
     ]
    }
   ],
   "source": [
    "resp_rest = np.array([resp_features[i] for i in range(len(rest)) if rest[i] == 1 ])\n",
    "resp_med = np.array([resp_features[i] for i in range(len(med)) if med[i] == 1 ])\n",
    "\n",
    "#step 1: calculate pair diffrernces\n",
    "resp_diff_med = - resp_rest + resp_med\n",
    "\n",
    "#step 2: mean_diff\n",
    "mean_resp_diff_med = np.mean(resp_diff_med)\n",
    "\n",
    "#step 3: standard deviation\n",
    "std_resp_diff_med = np.std(resp_diff_med)\n",
    "\n",
    "#step4: standard error:\n",
    "se_resp_diff_med = std_resp_diff_med/np.sqrt(len(resp_med))\n",
    "\n",
    "# step 5: t-statistic\n",
    "t_resp_med = mean_resp_diff_med/se_resp_diff_med\n",
    "p_resp_med = scipy.stats.t.sf(np.abs(t_resp_med), len(resp_rest)-1)*2\n",
    "print(t_resp_med, p_resp_med)"
   ]
  },
  {
   "cell_type": "markdown",
   "metadata": {},
   "source": [
    "##### hard"
   ]
  },
  {
   "cell_type": "code",
   "execution_count": 538,
   "metadata": {},
   "outputs": [
    {
     "name": "stdout",
     "output_type": "stream",
     "text": [
      "0.3637836414518582 0.7254459154862064\n"
     ]
    }
   ],
   "source": [
    "resp_rest = np.array([resp_features[i] for i in range(len(rest)) if rest[i] == 1 ])\n",
    "resp_hard = np.array([resp_features[i] for i in range(len(hard)) if hard[i] == 1 ])\n",
    "\n",
    "#step 1: calculate pair diffrernces\n",
    "resp_diff_hard = - resp_rest + resp_hard\n",
    "\n",
    "#step 2: mean_diff\n",
    "mean_resp_diff_hard = np.mean(resp_diff_hard)\n",
    "\n",
    "#step 3: standard deviation\n",
    "std_resp_diff_hard = np.std(resp_diff_hard)\n",
    "\n",
    "#step4: standard error:\n",
    "se_resp_diff_hard = std_resp_diff_hard/np.sqrt(len(resp_hard))\n",
    "\n",
    "# step 5: t-statistic\n",
    "t_resp_hard = mean_resp_diff_hard/se_resp_diff_hard\n",
    "p_resp_hard = scipy.stats.t.sf(np.abs(t_resp_hard), len(resp_rest)-1)*2\n",
    "print(t_resp_hard, p_resp_hard)"
   ]
  },
  {
   "cell_type": "markdown",
   "metadata": {},
   "source": [
    "##### easy - med"
   ]
  },
  {
   "cell_type": "code",
   "execution_count": 539,
   "metadata": {},
   "outputs": [
    {
     "name": "stdout",
     "output_type": "stream",
     "text": [
      "1.2973544792898493 0.23066870375204046\n"
     ]
    }
   ],
   "source": [
    "resp_easy = np.array([resp_features[i] for i in range(len(easy)) if easy[i] == 1 ])\n",
    "resp_med = np.array([resp_features[i] for i in range(len(med)) if med[i] == 1 ])\n",
    "\n",
    "#step 1: calculate pair diffrernces\n",
    "resp_diff_easy_med = - resp_med + resp_easy\n",
    "\n",
    "#step 2: mean_diff\n",
    "mean_resp_diff_easy_med = np.mean(resp_diff_easy_med)\n",
    "\n",
    "#step 3: standard deviation\n",
    "std_resp_diff_easy_med = np.std(resp_diff_easy_med)\n",
    "\n",
    "#step4: standard error:\n",
    "se_resp_diff_easy_med = std_resp_diff_easy_med/np.sqrt(len(resp_easy))\n",
    "\n",
    "# step 5: t-statistic\n",
    "t_resp_easy_med = mean_resp_diff_easy_med/se_resp_diff_easy_med\n",
    "p_resp_easy_med = scipy.stats.t.sf(np.abs(t_resp_easy_med), len(resp_rest)-1)*2\n",
    "print(t_resp_easy_med, p_resp_easy_med)"
   ]
  },
  {
   "cell_type": "markdown",
   "metadata": {},
   "source": [
    "##### easy-hard"
   ]
  },
  {
   "cell_type": "code",
   "execution_count": 540,
   "metadata": {},
   "outputs": [
    {
     "name": "stdout",
     "output_type": "stream",
     "text": [
      "1.288549137437755 0.2335679680343891\n"
     ]
    }
   ],
   "source": [
    "resp_easy = np.array([resp_features[i] for i in range(len(easy)) if easy[i] == 1 ])\n",
    "resp_hard = np.array([resp_features[i] for i in range(len(hard)) if hard[i] == 1 ])\n",
    "\n",
    "#step 1: calculate pair diffrernces\n",
    "resp_diff_easy_hard = - resp_hard + resp_easy\n",
    "\n",
    "#step 2: mean_diff\n",
    "mean_resp_diff_easy_hard = np.mean(resp_diff_easy_hard)\n",
    "\n",
    "#step 3: standard deviation\n",
    "std_resp_diff_easy_hard = np.std(resp_diff_easy_hard)\n",
    "\n",
    "#step4: standard error:\n",
    "se_resp_diff_easy_hard = std_resp_diff_easy_hard/np.sqrt(len(resp_easy))\n",
    "\n",
    "# step 5: t-statistic\n",
    "t_resp_easy_hard = mean_resp_diff_easy_hard/se_resp_diff_easy_hard\n",
    "p_resp_easy_hard = scipy.stats.t.sf(np.abs(t_resp_easy_hard), len(resp_rest)-1)*2\n",
    "print(t_resp_easy_hard, p_resp_easy_hard)"
   ]
  },
  {
   "cell_type": "markdown",
   "metadata": {},
   "source": [
    "##### med-hard"
   ]
  },
  {
   "cell_type": "code",
   "execution_count": 541,
   "metadata": {},
   "outputs": [
    {
     "name": "stdout",
     "output_type": "stream",
     "text": [
      "-0.48860506359874084 0.6382330111165673\n"
     ]
    }
   ],
   "source": [
    "resp_med = np.array([resp_features[i] for i in range(len(med)) if med[i] == 1 ])\n",
    "resp_hard = np.array([resp_features[i] for i in range(len(hard)) if hard[i] == 1 ])\n",
    "\n",
    "#step 1: calculate pair diffrernces\n",
    "resp_diff_med_hard = - resp_hard + resp_med\n",
    "\n",
    "#step 2: mean_diff\n",
    "mean_resp_diff_med_hard = np.mean(resp_diff_med_hard)\n",
    "\n",
    "#step 3: standard deviation\n",
    "std_resp_diff_med_hard = np.std(resp_diff_med_hard)\n",
    "\n",
    "#step4: standard error:\n",
    "se_resp_diff_med_hard = std_resp_diff_med_hard/np.sqrt(len(resp_med))\n",
    "\n",
    "# step 5: t-statistic\n",
    "t_resp_med_hard = mean_resp_diff_med_hard/se_resp_diff_med_hard\n",
    "p_resp_med_hard = scipy.stats.t.sf(np.abs(t_resp_med_hard), len(resp_rest)-1)*2\n",
    "print(t_resp_med_hard, p_resp_med_hard)"
   ]
  },
  {
   "cell_type": "code",
   "execution_count": 542,
   "metadata": {},
   "outputs": [
    {
     "name": "stdout",
     "output_type": "stream",
     "text": [
      "High five! You successfully sent some data to your account on plotly. View your plot in your browser at https://plot.ly/~kaunil.dhruv/0 or inside your plot.ly account where it is named 'error-bar-bar'\n"
     ]
    },
    {
     "data": {
      "text/html": [
       "<iframe id=\"igraph\" scrolling=\"no\" style=\"border:none;\" seamless=\"seamless\" src=\"https://plot.ly/~kaunil.dhruv/0.embed\" height=\"525px\" width=\"100%\"></iframe>"
      ],
      "text/plain": [
       "<chart_studio.tools.PlotlyDisplay object>"
      ]
     },
     "execution_count": 542,
     "metadata": {},
     "output_type": "execute_result"
    }
   ],
   "source": [
    "import plotly.plotly as py\n",
    "import plotly.graph_objs as go\n",
    "\n",
    "trace1 = go.Bar(\n",
    "    x=['REST-EASY', 'REST-MED', 'REST-HIGH', 'EASY-MED', 'EASY-HARD', 'MED-HARD'],\n",
    "    y=[mean_resp_diff_easy, -mean_resp_diff_med,mean_resp_diff_hard, mean_resp_diff_easy_med, mean_resp_diff_easy_hard, -mean_resp_diff_med_hard],\n",
    "    name='Avg. Respiration Rate',\n",
    "    error_y=dict(\n",
    "        type='data',\n",
    "        array=[se_resp_diff_easy, se_resp_diff_med, se_resp_diff_hard, se_resp_diff_easy_med, se_resp_diff_easy_hard, se_resp_diff_med_hard],\n",
    "        visible=True\n",
    "    )\n",
    ")\n",
    "data = [trace1]\n",
    "layout = go.Layout(\n",
    "    showlegend=True,\n",
    "    barmode='group',\n",
    "    legend=dict(\n",
    "        x=1,\n",
    "        y=1,\n",
    "        traceorder='normal',\n",
    "        font=dict(\n",
    "            family='sans-serif',\n",
    "            size=16,\n",
    "            color='#000'\n",
    "        ),\n",
    "        bgcolor='#E2E2E2',\n",
    "        bordercolor='#FFFFFF',\n",
    "        borderwidth=2\n",
    "    )\n",
    ")\n",
    "fig = go.Figure(data=data, layout=layout)\n",
    "py.iplot(fig, filename='error-bar-bar')"
   ]
  },
  {
   "cell_type": "markdown",
   "metadata": {},
   "source": [
    "# ECG"
   ]
  },
  {
   "cell_type": "code",
   "execution_count": 543,
   "metadata": {},
   "outputs": [],
   "source": [
    "ecg_features_std=ecg_features - np.mean(ecg_features, axis=0)\n",
    "ecg_features_std/=np.std(ecg_features, axis=0)"
   ]
  },
  {
   "cell_type": "markdown",
   "metadata": {},
   "source": [
    "##### easy"
   ]
  },
  {
   "cell_type": "code",
   "execution_count": 545,
   "metadata": {},
   "outputs": [
    {
     "name": "stdout",
     "output_type": "stream",
     "text": [
      "[ 0.47977574 -1.07653157] [0.64422928 0.31307954]\n"
     ]
    }
   ],
   "source": [
    "ecg_rest = np.array([ecg_features[i] for i in range(len(rest)) if rest[i] == 1 ])\n",
    "ecg_easy = np.array([ecg_features[i] for i in range(len(easy)) if easy[i] == 1 ])\n",
    "\n",
    "#step 1: calculate pair diffrernces\n",
    "ecg_diff_easy = - ecg_rest + ecg_easy\n",
    "\n",
    "#step 2: mean_diff\n",
    "mean_ecg_diff_easy = np.mean(ecg_diff_easy, axis=0)\n",
    "\n",
    "#step 3: standard deviation\n",
    "std_ecg_diff_easy = np.std(ecg_diff_easy, axis=0)\n",
    "#step4: standard error:\n",
    "se_ecg_diff_easy = std_ecg_diff_easy/np.sqrt(len(ecg_easy))\n",
    "\n",
    "# step 5: t-statistic\n",
    "t_ecg_easy = mean_ecg_diff_easy/se_ecg_diff_easy\n",
    "p_ecg_easy = scipy.stats.t.sf(np.abs(t_ecg_easy), len(ecg_rest)-1)*2\n",
    "print(t_ecg_easy, p_ecg_easy)"
   ]
  },
  {
   "cell_type": "markdown",
   "metadata": {},
   "source": [
    "##### medium"
   ]
  },
  {
   "cell_type": "code",
   "execution_count": 546,
   "metadata": {},
   "outputs": [
    {
     "name": "stdout",
     "output_type": "stream",
     "text": [
      "[ 1.30519598 -1.16309504] [0.22811258 0.27830764]\n"
     ]
    }
   ],
   "source": [
    "ecg_rest = np.array([ecg_features[i] for i in range(len(rest)) if rest[i] == 1 ])\n",
    "ecg_med = np.array([ecg_features[i] for i in range(len(med)) if med[i] == 1 ])\n",
    "\n",
    "#step 1: calculate pair diffrernces\n",
    "ecg_diff_med = - ecg_rest + ecg_med\n",
    "\n",
    "#step 2: mean_diff\n",
    "mean_ecg_diff_med = np.mean(ecg_diff_med, axis=0)\n",
    "\n",
    "#step 3: standard deviation\n",
    "std_ecg_diff_med = np.std(ecg_diff_med, axis=0)\n",
    "#step4: standard error:\n",
    "se_ecg_diff_med = std_ecg_diff_med/np.sqrt(len(ecg_med))\n",
    "\n",
    "# step 5: t-statistic\n",
    "t_ecg_med = mean_ecg_diff_med/se_ecg_diff_med\n",
    "p_ecg_med = scipy.stats.t.sf(np.abs(t_ecg_med), len(ecg_rest)-1)*2\n",
    "print(t_ecg_med, p_ecg_med)"
   ]
  },
  {
   "cell_type": "markdown",
   "metadata": {},
   "source": [
    "##### hard"
   ]
  },
  {
   "cell_type": "code",
   "execution_count": 547,
   "metadata": {},
   "outputs": [
    {
     "name": "stdout",
     "output_type": "stream",
     "text": [
      "[ 0.72403328 -1.41058018] [0.48967392 0.19604739]\n"
     ]
    }
   ],
   "source": [
    "ecg_rest = np.array([ecg_features[i] for i in range(len(rest)) if rest[i] == 1 ])\n",
    "ecg_hard = np.array([ecg_features[i] for i in range(len(hard)) if hard[i] == 1 ])\n",
    "\n",
    "#step 1: calculate pair diffrernces\n",
    "ecg_diff_hard = - ecg_rest + ecg_hard\n",
    "\n",
    "#step 2: mean_diff\n",
    "mean_ecg_diff_hard = np.mean(ecg_diff_hard, axis=0)\n",
    "\n",
    "#step 3: standard deviation\n",
    "std_ecg_diff_hard = np.std(ecg_diff_hard, axis=0)\n",
    "#step4: standard error:\n",
    "se_ecg_diff_hard = std_ecg_diff_hard/np.sqrt(len(ecg_hard))\n",
    "\n",
    "# step 5: t-statistic\n",
    "t_ecg_hard = mean_ecg_diff_hard/se_ecg_diff_hard\n",
    "p_ecg_hard = scipy.stats.t.sf(np.abs(t_ecg_hard), len(ecg_rest)-1)*2\n",
    "print(t_ecg_hard, p_ecg_hard)"
   ]
  },
  {
   "cell_type": "markdown",
   "metadata": {},
   "source": [
    "##### easy - med"
   ]
  },
  {
   "cell_type": "code",
   "execution_count": 548,
   "metadata": {},
   "outputs": [
    {
     "name": "stdout",
     "output_type": "stream",
     "text": [
      "[-0.88693057 -0.00630504] [0.40099252 0.99512373]\n"
     ]
    }
   ],
   "source": [
    "ecg_easy = np.array([ecg_features[i] for i in range(len(easy)) if easy[i] == 1 ])\n",
    "ecg_med = np.array([ecg_features[i] for i in range(len(med)) if med[i] == 1 ])\n",
    "\n",
    "#step 1: calculate pair diffrernces\n",
    "ecg_diff_easy_med = - ecg_med + ecg_easy\n",
    "\n",
    "#step 2: mean_diff\n",
    "mean_ecg_diff_easy_med = np.mean(ecg_diff_easy_med, axis=0)\n",
    "\n",
    "#step 3: standard deviation\n",
    "std_ecg_diff_easy_med = np.std(ecg_diff_easy_med, axis=0)\n",
    "\n",
    "#step4: standard error:\n",
    "se_ecg_diff_easy_med = std_ecg_diff_easy_med/np.sqrt(len(ecg_easy))\n",
    "\n",
    "# step 5: t-statistic\n",
    "t_ecg_easy_med = mean_ecg_diff_easy_med/se_ecg_diff_easy_med\n",
    "p_ecg_easy_med = scipy.stats.t.sf(np.abs(t_ecg_easy_med), len(ecg_rest)-1)*2\n",
    "print(t_ecg_easy_med, p_ecg_easy_med)"
   ]
  },
  {
   "cell_type": "markdown",
   "metadata": {},
   "source": [
    "##### easy-hard"
   ]
  },
  {
   "cell_type": "code",
   "execution_count": 549,
   "metadata": {},
   "outputs": [
    {
     "name": "stdout",
     "output_type": "stream",
     "text": [
      "[-0.16023266  0.12481473] [0.8766698 0.9037496]\n"
     ]
    }
   ],
   "source": [
    "ecg_easy = np.array([ecg_features[i] for i in range(len(easy)) if easy[i] == 1 ])\n",
    "ecg_hard = np.array([ecg_features[i] for i in range(len(hard)) if hard[i] == 1 ])\n",
    "\n",
    "#step 1: calculate pair diffrernces\n",
    "ecg_diff_easy_hard = - ecg_hard + ecg_easy\n",
    "\n",
    "#step 2: mean_diff\n",
    "mean_ecg_diff_easy_hard = np.mean(ecg_diff_easy_hard, axis=0)\n",
    "\n",
    "#step 3: standard deviation\n",
    "std_ecg_diff_easy_hard = np.std(ecg_diff_easy_hard, axis=0)\n",
    "\n",
    "#step4: standard error:\n",
    "se_ecg_diff_easy_hard = std_ecg_diff_easy_hard/np.sqrt(len(ecg_easy))\n",
    "\n",
    "# step 5: t-statistic\n",
    "t_ecg_easy_hard = mean_ecg_diff_easy_hard/se_ecg_diff_easy_hard\n",
    "p_ecg_easy_hard = scipy.stats.t.sf(np.abs(t_ecg_easy_hard), len(ecg_rest)-1)*2\n",
    "print(t_ecg_easy_hard, p_ecg_easy_hard)"
   ]
  },
  {
   "cell_type": "markdown",
   "metadata": {},
   "source": [
    "##### med-hard"
   ]
  },
  {
   "cell_type": "code",
   "execution_count": 550,
   "metadata": {},
   "outputs": [
    {
     "name": "stdout",
     "output_type": "stream",
     "text": [
      "[0.83617003 0.13859718] [0.42732686 0.89319376]\n"
     ]
    }
   ],
   "source": [
    "ecg_med = np.array([ecg_features[i] for i in range(len(med)) if med[i] == 1 ])\n",
    "ecg_hard = np.array([ecg_features[i] for i in range(len(hard)) if hard[i] == 1 ])\n",
    "\n",
    "#step 1: calculate pair diffrernces\n",
    "ecg_diff_med_hard = - ecg_hard + ecg_med\n",
    "\n",
    "#step 2: mean_diff\n",
    "mean_ecg_diff_med_hard = np.mean(ecg_diff_med_hard, axis=0)\n",
    "\n",
    "#step 3: standard deviation\n",
    "std_ecg_diff_med_hard = np.std(ecg_diff_med_hard, axis=0)\n",
    "\n",
    "#step4: standard error:\n",
    "se_ecg_diff_med_hard = std_ecg_diff_med_hard/np.sqrt(len(ecg_med))\n",
    "\n",
    "# step 5: t-statistic\n",
    "t_ecg_med_hard = mean_ecg_diff_med_hard/se_ecg_diff_med_hard\n",
    "p_ecg_med_hard = scipy.stats.t.sf(np.abs(t_ecg_med_hard), len(ecg_rest)-1)*2\n",
    "print(t_ecg_med_hard, p_ecg_med_hard)"
   ]
  },
  {
   "cell_type": "code",
   "execution_count": 551,
   "metadata": {},
   "outputs": [
    {
     "name": "stdout",
     "output_type": "stream",
     "text": [
      "High five! You successfully sent some data to your account on plotly. View your plot in your browser at https://plot.ly/~kaunil.dhruv/0 or inside your plot.ly account where it is named 'error-bar-bar'\n"
     ]
    },
    {
     "data": {
      "text/html": [
       "<iframe id=\"igraph\" scrolling=\"no\" style=\"border:none;\" seamless=\"seamless\" src=\"https://plot.ly/~kaunil.dhruv/0.embed\" height=\"525px\" width=\"100%\"></iframe>"
      ],
      "text/plain": [
       "<chart_studio.tools.PlotlyDisplay object>"
      ]
     },
     "execution_count": 551,
     "metadata": {},
     "output_type": "execute_result"
    }
   ],
   "source": [
    "import plotly.plotly as py\n",
    "import plotly.graph_objs as go\n",
    "\n",
    "trace1 = go.Bar(\n",
    "    x=['REST-EASY', 'REST-MED', 'REST-HIGH', 'EASY-MED', 'EASY-HARD', 'MED-HARD'],\n",
    "    y=[mean_ecg_diff_easy[0], mean_ecg_diff_med[0], mean_ecg_diff_hard[0], -mean_ecg_diff_easy_med[0], -mean_ecg_diff_easy_hard[0], mean_ecg_diff_med_hard[0]],\n",
    "    name='meanRR',\n",
    "    error_y=dict(\n",
    "        type='data',\n",
    "        array=[se_ecg_diff_easy[0], se_ecg_diff_med[0], se_ecg_diff_hard[0], se_ecg_diff_easy_med[0], se_ecg_diff_easy_hard[0], se_ecg_diff_med_hard[0]],\n",
    "        visible=True\n",
    "    )\n",
    ")\n",
    "\n",
    "trace2 = go.Bar(\n",
    "    x=['REST-EASY', 'REST-MED', 'REST-HIGH', 'EASY-MED', 'EASY-HARD', 'MED-HARD'],\n",
    "    y=[-mean_ecg_diff_easy[1], -mean_ecg_diff_med[1], -mean_ecg_diff_hard[1], mean_ecg_diff_easy_med[1], mean_ecg_diff_easy_hard[1], mean_ecg_diff_med_hard[1]],\n",
    "    name='meanHR',\n",
    "    error_y=dict(\n",
    "        type='data',\n",
    "        array=[-se_ecg_diff_easy[1], -se_ecg_diff_med[1], -se_ecg_diff_hard[1], se_ecg_diff_easy_med[1], se_ecg_diff_easy_hard[1], se_ecg_diff_med_hard[1]],\n",
    "        visible=True\n",
    "    )\n",
    ")\n",
    "data = [trace1, trace2]\n",
    "layout = go.Layout(\n",
    "    barmode='group',\n",
    "      legend=dict(\n",
    "        x=1,\n",
    "        y=1,\n",
    "        traceorder='normal',\n",
    "        font=dict(\n",
    "            family='sans-serif',\n",
    "            size=16,\n",
    "            color='#000'\n",
    "        ),\n",
    "        bgcolor='#E2E2E2',\n",
    "        bordercolor='#FFFFFF',\n",
    "        borderwidth=2\n",
    "    )\n",
    ")\n",
    "fig = go.Figure(data=data, layout=layout)\n",
    "py.iplot(fig, filename='error-bar-bar')"
   ]
  },
  {
   "cell_type": "markdown",
   "metadata": {},
   "source": [
    "# EEG"
   ]
  },
  {
   "cell_type": "markdown",
   "metadata": {},
   "source": [
    "##### easy"
   ]
  },
  {
   "cell_type": "code",
   "execution_count": 552,
   "metadata": {},
   "outputs": [
    {
     "name": "stdout",
     "output_type": "stream",
     "text": [
      "[-2.57634385 -2.5702453  -2.21836698 -2.223064   -0.49823812 -0.52354605\n",
      "  0.37938936  0.38201891] [0.0328023  0.03311493 0.05732795 0.05690945 0.63172308 0.61478332\n",
      " 0.71427111 0.71239528]\n"
     ]
    }
   ],
   "source": [
    "eeg_rest = np.array([eeg_features[i] for i in range(len(rest)) if rest[i] == 1 ])\n",
    "eeg_easy = np.array([eeg_features[i] for i in range(len(easy)) if easy[i] == 1 ])\n",
    "\n",
    "#step 1: calculate pair diffrernces\n",
    "eeg_diff_easy = - eeg_rest + eeg_easy\n",
    "\n",
    "#step 2: mean_diff\n",
    "mean_eeg_diff_easy = np.mean(eeg_diff_easy, axis=0)\n",
    "\n",
    "#step 3: standard deviation\n",
    "std_eeg_diff_easy = np.std(eeg_diff_easy, axis=0)\n",
    "#step4: standard error:\n",
    "se_eeg_diff_easy = std_eeg_diff_easy/np.sqrt(len(eeg_easy))\n",
    "\n",
    "# step 5: t-statistic\n",
    "t_eeg_easy = mean_eeg_diff_easy/se_eeg_diff_easy\n",
    "p_eeg_easy = scipy.stats.t.sf(np.abs(t_eeg_easy), len(eeg_rest)-1)*2\n",
    "print(t_eeg_easy, p_eeg_easy)"
   ]
  },
  {
   "cell_type": "markdown",
   "metadata": {},
   "source": [
    "##### medium"
   ]
  },
  {
   "cell_type": "code",
   "execution_count": 553,
   "metadata": {},
   "outputs": [
    {
     "name": "stdout",
     "output_type": "stream",
     "text": [
      "[-0.08551155 -0.08645988 -0.32641306 -0.32250765  0.31798203  0.32060595\n",
      "  0.27842289  0.28714203] [0.93395607 0.93322568 0.7524874  0.75533527 0.75864039 0.75672345\n",
      " 0.7877488  0.78130062]\n"
     ]
    }
   ],
   "source": [
    "eeg_rest = np.array([eeg_features[i] for i in range(len(rest)) if rest[i] == 1 ])\n",
    "eeg_med = np.array([eeg_features[i] for i in range(len(med)) if med[i] == 1 ])\n",
    "\n",
    "#step 1: calculate pair diffrernces\n",
    "eeg_diff_med = - eeg_rest + eeg_med\n",
    "\n",
    "#step 2: mean_diff\n",
    "mean_eeg_diff_med = np.mean(eeg_diff_med, axis=0)\n",
    "\n",
    "#step 3: standard deviation\n",
    "std_eeg_diff_med = np.std(eeg_diff_med, axis=0)\n",
    "#step4: standard error:\n",
    "se_eeg_diff_med = std_eeg_diff_med/np.sqrt(len(eeg_med))\n",
    "\n",
    "# step 5: t-statistic\n",
    "t_eeg_med = mean_eeg_diff_med/se_eeg_diff_med\n",
    "p_eeg_med = scipy.stats.t.sf(np.abs(t_eeg_med), len(eeg_rest)-1)*2\n",
    "print(t_eeg_med, p_eeg_med)"
   ]
  },
  {
   "cell_type": "markdown",
   "metadata": {},
   "source": [
    "##### hard"
   ]
  },
  {
   "cell_type": "code",
   "execution_count": 554,
   "metadata": {},
   "outputs": [
    {
     "name": "stdout",
     "output_type": "stream",
     "text": [
      "[-0.11890567 -0.10861038  0.10506229  0.10300216  0.18424418  0.17701167\n",
      " -0.26165966 -0.25819561] [0.90828166 0.91618628 0.91891282 0.92049646 0.85840656 0.86389864\n",
      " 0.80019458 0.80277417]\n"
     ]
    }
   ],
   "source": [
    "eeg_rest = np.array([eeg_features[i] for i in range(len(rest)) if rest[i] == 1 ])\n",
    "eeg_hard = np.array([eeg_features[i] for i in range(len(hard)) if hard[i] == 1 ])\n",
    "\n",
    "#step 1: calculate pair diffrernces\n",
    "eeg_diff_hard = - eeg_rest + eeg_hard\n",
    "\n",
    "#step 2: mean_diff\n",
    "mean_eeg_diff_hard = np.mean(eeg_diff_hard, axis=0)\n",
    "\n",
    "#step 3: standard deviation\n",
    "std_eeg_diff_hard = np.std(eeg_diff_hard, axis=0)\n",
    "#step4: standard error:\n",
    "se_eeg_diff_hard = std_eeg_diff_hard/np.sqrt(len(eeg_hard))\n",
    "\n",
    "# step 5: t-statistic\n",
    "t_eeg_hard = mean_eeg_diff_hard/se_eeg_diff_hard\n",
    "p_eeg_hard = scipy.stats.t.sf(np.abs(t_eeg_hard), len(eeg_rest)-1)*2\n",
    "print(t_eeg_hard, p_eeg_hard)"
   ]
  },
  {
   "cell_type": "markdown",
   "metadata": {},
   "source": [
    "##### easy - med"
   ]
  },
  {
   "cell_type": "code",
   "execution_count": 555,
   "metadata": {},
   "outputs": [
    {
     "name": "stdout",
     "output_type": "stream",
     "text": [
      "[-1.22415358 -1.22079481 -1.21423878 -1.20740578 -1.04566606 -1.08402478\n",
      "  0.18898447  0.18051758] [0.25571926 0.25692118 0.25928072 0.26175901 0.32627852 0.30993937\n",
      " 0.85481139 0.86123539]\n"
     ]
    }
   ],
   "source": [
    "eeg_easy = np.array([eeg_features[i] for i in range(len(easy)) if easy[i] == 1 ])\n",
    "eeg_med = np.array([eeg_features[i] for i in range(len(med)) if med[i] == 1 ])\n",
    "\n",
    "#step 1: calculate pair diffrernces\n",
    "eeg_diff_easy_med = - eeg_med + eeg_easy\n",
    "\n",
    "#step 2: mean_diff\n",
    "mean_eeg_diff_easy_med = np.mean(eeg_diff_easy_med, axis=0)\n",
    "\n",
    "#step 3: standard deviation\n",
    "std_eeg_diff_easy_med = np.std(eeg_diff_easy_med, axis=0)\n",
    "\n",
    "#step4: standard error:\n",
    "se_eeg_diff_easy_med = std_eeg_diff_easy_med/np.sqrt(len(eeg_easy))\n",
    "\n",
    "# step 5: t-statistic\n",
    "t_eeg_easy_med = mean_eeg_diff_easy_med/se_eeg_diff_easy_med\n",
    "p_eeg_easy_med = scipy.stats.t.sf(np.abs(t_eeg_easy_med), len(eeg_rest)-1)*2\n",
    "print(t_eeg_easy_med, p_eeg_easy_med)"
   ]
  },
  {
   "cell_type": "markdown",
   "metadata": {},
   "source": [
    "##### easy-hard"
   ]
  },
  {
   "cell_type": "code",
   "execution_count": 556,
   "metadata": {},
   "outputs": [
    {
     "name": "stdout",
     "output_type": "stream",
     "text": [
      "[-2.83550977 -2.822554   -1.97194107 -1.96393822 -0.43508864 -0.4389144\n",
      "  0.90845045  0.90458561] [0.02196318 0.02240559 0.08409078 0.08513807 0.67499714 0.67233632\n",
      " 0.39018621 0.39211124]\n"
     ]
    }
   ],
   "source": [
    "eeg_easy = np.array([eeg_features[i] for i in range(len(easy)) if easy[i] == 1 ])\n",
    "eeg_hard = np.array([eeg_features[i] for i in range(len(hard)) if hard[i] == 1 ])\n",
    "\n",
    "#step 1: calculate pair diffrernces\n",
    "eeg_diff_easy_hard = - eeg_hard + eeg_easy\n",
    "\n",
    "#step 2: mean_diff\n",
    "mean_eeg_diff_easy_hard = np.mean(eeg_diff_easy_hard, axis=0)\n",
    "\n",
    "#step 3: standard deviation\n",
    "std_eeg_diff_easy_hard = np.std(eeg_diff_easy_hard, axis=0)\n",
    "\n",
    "#step4: standard error:\n",
    "se_eeg_diff_easy_hard = std_eeg_diff_easy_hard/np.sqrt(len(eeg_easy))\n",
    "\n",
    "# step 5: t-statistic\n",
    "t_eeg_easy_hard = mean_eeg_diff_easy_hard/se_eeg_diff_easy_hard\n",
    "p_eeg_easy_hard = scipy.stats.t.sf(np.abs(t_eeg_easy_hard), len(eeg_rest)-1)*2\n",
    "print(t_eeg_easy_hard, p_eeg_easy_hard)"
   ]
  },
  {
   "cell_type": "markdown",
   "metadata": {},
   "source": [
    "##### med-hard"
   ]
  },
  {
   "cell_type": "code",
   "execution_count": 557,
   "metadata": {},
   "outputs": [
    {
     "name": "stdout",
     "output_type": "stream",
     "text": [
      "[-0.00122563 -0.01066933 -0.51803095 -0.50892174 -0.01624553 -0.00469363\n",
      "  0.65494809  0.65984739] [0.9990521  0.99174854 0.61845444 0.62454296 0.98743636 0.99636997\n",
      " 0.53087775 0.52788745]\n"
     ]
    }
   ],
   "source": [
    "eeg_med = np.array([eeg_features[i] for i in range(len(med)) if med[i] == 1 ])\n",
    "eeg_hard = np.array([eeg_features[i] for i in range(len(hard)) if hard[i] == 1 ])\n",
    "\n",
    "#step 1: calculate pair diffrernces\n",
    "eeg_diff_med_hard = - eeg_hard + eeg_med\n",
    "\n",
    "#step 2: mean_diff\n",
    "mean_eeg_diff_med_hard = np.mean(eeg_diff_med_hard, axis=0)\n",
    "\n",
    "#step 3: standard deviation\n",
    "std_eeg_diff_med_hard = np.std(eeg_diff_med_hard, axis=0)\n",
    "\n",
    "#step4: standard error:\n",
    "se_eeg_diff_med_hard = std_eeg_diff_med_hard/np.sqrt(len(eeg_med))\n",
    "\n",
    "# step 5: t-statistic\n",
    "t_eeg_med_hard = mean_eeg_diff_med_hard/se_eeg_diff_med_hard\n",
    "p_eeg_med_hard = scipy.stats.t.sf(np.abs(t_eeg_med_hard), len(eeg_rest)-1)*2\n",
    "print(t_eeg_med_hard, p_eeg_med_hard)"
   ]
  },
  {
   "cell_type": "code",
   "execution_count": 558,
   "metadata": {},
   "outputs": [
    {
     "name": "stdout",
     "output_type": "stream",
     "text": [
      "High five! You successfully sent some data to your account on plotly. View your plot in your browser at https://plot.ly/~kaunil.dhruv/0 or inside your plot.ly account where it is named 'error-bar-bar'\n"
     ]
    },
    {
     "data": {
      "text/html": [
       "<iframe id=\"igraph\" scrolling=\"no\" style=\"border:none;\" seamless=\"seamless\" src=\"https://plot.ly/~kaunil.dhruv/0.embed\" height=\"525px\" width=\"100%\"></iframe>"
      ],
      "text/plain": [
       "<chart_studio.tools.PlotlyDisplay object>"
      ]
     },
     "execution_count": 558,
     "metadata": {},
     "output_type": "execute_result"
    }
   ],
   "source": [
    "import plotly.plotly as py\n",
    "import plotly.graph_objs as go\n",
    "\n",
    "trace1 = go.Bar(\n",
    "    x=['REST-EASY', 'REST-MED', 'REST-HIGH', 'EASY-MED', 'EASY-HARD', 'MED-HARD'],\n",
    "    y=[-mean_eeg_diff_easy[0], -mean_eeg_diff_med[0], -mean_eeg_diff_hard[0], -mean_eeg_diff_easy_med[0], -mean_eeg_diff_easy_hard[0], mean_eeg_diff_med_hard[0]],\n",
    "    name='mean theta CH1',\n",
    "    error_y=dict(\n",
    "        type='data',\n",
    "        array=[-se_eeg_diff_easy[0], -se_eeg_diff_med[0], -se_eeg_diff_hard[0], se_eeg_diff_easy_med[0], se_eeg_diff_easy_hard[0], se_eeg_diff_med_hard[0]],\n",
    "        visible=True\n",
    "    )\n",
    ")\n",
    "\n",
    "trace2 = go.Bar(\n",
    "    x=['REST-EASY', 'REST-MED', 'REST-HIGH', 'EASY-MED', 'EASY-HARD', 'MED-HARD'],\n",
    "    y=[-mean_eeg_diff_easy[1], -mean_eeg_diff_med[1], -mean_eeg_diff_hard[1], -mean_eeg_diff_easy_med[1], -mean_eeg_diff_easy_hard[1], -mean_eeg_diff_med_hard[1]],\n",
    "    name='mean theta CH2',\n",
    "    error_y=dict(\n",
    "        type='data',\n",
    "        array=[-se_eeg_diff_easy[1], -se_eeg_diff_med[1], -se_eeg_diff_hard[1], -se_eeg_diff_easy_med[1], -se_eeg_diff_easy_hard[1], -se_eeg_diff_med_hard[1]],\n",
    "        visible=True\n",
    "    )\n",
    ")\n",
    "data = [trace1, trace2]\n",
    "layout = go.Layout(\n",
    "    barmode='group',\n",
    "      legend=dict(\n",
    "        x=1,\n",
    "        y=1,\n",
    "        traceorder='normal',\n",
    "        font=dict(\n",
    "            family='sans-serif',\n",
    "            size=16,\n",
    "            color='#000'\n",
    "        ),\n",
    "        bgcolor='#E2E2E2',\n",
    "        bordercolor='#FFFFFF',\n",
    "        borderwidth=2\n",
    "    )\n",
    ")\n",
    "fig = go.Figure(data=data, layout=layout)\n",
    "py.iplot(fig, filename='error-bar-bar')"
   ]
  },
  {
   "cell_type": "code",
   "execution_count": 559,
   "metadata": {
    "scrolled": true
   },
   "outputs": [
    {
     "name": "stdout",
     "output_type": "stream",
     "text": [
      "High five! You successfully sent some data to your account on plotly. View your plot in your browser at https://plot.ly/~kaunil.dhruv/0 or inside your plot.ly account where it is named 'error-bar-bar'\n"
     ]
    },
    {
     "data": {
      "text/html": [
       "<iframe id=\"igraph\" scrolling=\"no\" style=\"border:none;\" seamless=\"seamless\" src=\"https://plot.ly/~kaunil.dhruv/0.embed\" height=\"525px\" width=\"100%\"></iframe>"
      ],
      "text/plain": [
       "<chart_studio.tools.PlotlyDisplay object>"
      ]
     },
     "execution_count": 559,
     "metadata": {},
     "output_type": "execute_result"
    }
   ],
   "source": [
    "import plotly.plotly as py\n",
    "import plotly.graph_objs as go\n",
    "\n",
    "trace1 = go.Bar(\n",
    "    x=['REST-EASY', 'REST-MED', 'REST-HIGH', 'EASY-MED', 'EASY-HARD', 'MED-HARD'],\n",
    "    y=[-mean_eeg_diff_easy[2], -mean_eeg_diff_med[2], mean_eeg_diff_hard[2], -mean_eeg_diff_easy_med[2], -mean_eeg_diff_easy_hard[2], -mean_eeg_diff_med_hard[2]],\n",
    "    name='mean alpha CH1',\n",
    "    error_y=dict(\n",
    "        type='data',\n",
    "        array=[-se_eeg_diff_easy[2], -se_eeg_diff_med[2], se_eeg_diff_hard[2], se_eeg_diff_easy_med[2], se_eeg_diff_easy_hard[2], -se_eeg_diff_med_hard[2]],\n",
    "        visible=True\n",
    "    )\n",
    ")\n",
    "\n",
    "trace2 = go.Bar(\n",
    "    x=['REST-EASY', 'REST-MED', 'REST-HIGH', 'EASY-MED', 'EASY-HARD', 'MED-HARD'],\n",
    "    y=[-mean_eeg_diff_easy[3], -mean_eeg_diff_med[3], mean_eeg_diff_hard[3], -mean_eeg_diff_easy_med[3], -mean_eeg_diff_easy_hard[3], -mean_eeg_diff_med_hard[3]],\n",
    "    name='mean alpha CH2',\n",
    "    error_y=dict(\n",
    "        type='data',\n",
    "        array=[-se_eeg_diff_easy[3], -se_eeg_diff_med[3], se_eeg_diff_hard[3], se_eeg_diff_easy_med[3], se_eeg_diff_easy_hard[3], -se_eeg_diff_med_hard[3]],\n",
    "        visible=True\n",
    "    )\n",
    ")\n",
    "data = [trace1, trace2]\n",
    "layout = go.Layout(\n",
    "    barmode='group',\n",
    "      legend=dict(\n",
    "        x=1,\n",
    "        y=1,\n",
    "        traceorder='normal',\n",
    "        font=dict(\n",
    "            family='sans-serif',\n",
    "            size=16,\n",
    "            color='#000'\n",
    "        ),\n",
    "        bgcolor='#E2E2E2',\n",
    "        bordercolor='#FFFFFF',\n",
    "        borderwidth=2\n",
    "    )\n",
    ")\n",
    "fig = go.Figure(data=data, layout=layout)\n",
    "py.iplot(fig, filename='error-bar-bar')"
   ]
  },
  {
   "cell_type": "code",
   "execution_count": 560,
   "metadata": {},
   "outputs": [
    {
     "name": "stdout",
     "output_type": "stream",
     "text": [
      "High five! You successfully sent some data to your account on plotly. View your plot in your browser at https://plot.ly/~kaunil.dhruv/0 or inside your plot.ly account where it is named 'error-bar-bar'\n"
     ]
    },
    {
     "data": {
      "text/html": [
       "<iframe id=\"igraph\" scrolling=\"no\" style=\"border:none;\" seamless=\"seamless\" src=\"https://plot.ly/~kaunil.dhruv/0.embed\" height=\"525px\" width=\"100%\"></iframe>"
      ],
      "text/plain": [
       "<chart_studio.tools.PlotlyDisplay object>"
      ]
     },
     "execution_count": 560,
     "metadata": {},
     "output_type": "execute_result"
    }
   ],
   "source": [
    "import plotly.plotly as py\n",
    "import plotly.graph_objs as go\n",
    "\n",
    "trace1 = go.Bar(\n",
    "    x=['REST-EASY', 'REST-MED', 'REST-HIGH', 'EASY-MED', 'EASY-HARD', 'MED-HARD'],\n",
    "    y=[-mean_eeg_diff_easy[4], mean_eeg_diff_med[4], mean_eeg_diff_hard[4], -mean_eeg_diff_easy_med[4], -mean_eeg_diff_easy_hard[4], -mean_eeg_diff_med_hard[4]],\n",
    "    name='mean beta CH1',\n",
    "    error_y=dict(\n",
    "        type='data',\n",
    "        array=[-se_eeg_diff_easy[4], se_eeg_diff_med[4], se_eeg_diff_hard[4], se_eeg_diff_easy_med[4], se_eeg_diff_easy_hard[4], -se_eeg_diff_med_hard[4]],\n",
    "        visible=True\n",
    "    )\n",
    ")\n",
    "\n",
    "trace2 = go.Bar(\n",
    "    x=['REST-EASY', 'REST-MED', 'REST-HIGH', 'EASY-MED', 'EASY-HARD', 'MED-HARD'],\n",
    "    y=[-mean_eeg_diff_easy[5], mean_eeg_diff_med[5], mean_eeg_diff_hard[5], -mean_eeg_diff_easy_med[5], -mean_eeg_diff_easy_hard[5], -mean_eeg_diff_med_hard[5]],\n",
    "    name='mean beta CH2',\n",
    "    error_y=dict(\n",
    "        type='data',\n",
    "        array=[-se_eeg_diff_easy[5], se_eeg_diff_med[5], se_eeg_diff_hard[5], se_eeg_diff_easy_med[5], se_eeg_diff_easy_hard[5], -se_eeg_diff_med_hard[5]],\n",
    "        visible=True\n",
    "    )\n",
    ")\n",
    "data = [trace1, trace2]\n",
    "layout = go.Layout(\n",
    "    barmode='group',\n",
    "      legend=dict(\n",
    "        x=1,\n",
    "        y=1,\n",
    "        traceorder='normal',\n",
    "        font=dict(\n",
    "            family='sans-serif',\n",
    "            size=16,\n",
    "            color='#000'\n",
    "        ),\n",
    "        bgcolor='#E2E2E2',\n",
    "        bordercolor='#FFFFFF',\n",
    "        borderwidth=2\n",
    "    )\n",
    ")\n",
    "fig = go.Figure(data=data, layout=layout)\n",
    "py.iplot(fig, filename='error-bar-bar')"
   ]
  },
  {
   "cell_type": "code",
   "execution_count": 561,
   "metadata": {},
   "outputs": [
    {
     "name": "stdout",
     "output_type": "stream",
     "text": [
      "High five! You successfully sent some data to your account on plotly. View your plot in your browser at https://plot.ly/~kaunil.dhruv/0 or inside your plot.ly account where it is named 'error-bar-bar'\n"
     ]
    },
    {
     "data": {
      "text/html": [
       "<iframe id=\"igraph\" scrolling=\"no\" style=\"border:none;\" seamless=\"seamless\" src=\"https://plot.ly/~kaunil.dhruv/0.embed\" height=\"525px\" width=\"100%\"></iframe>"
      ],
      "text/plain": [
       "<chart_studio.tools.PlotlyDisplay object>"
      ]
     },
     "execution_count": 561,
     "metadata": {},
     "output_type": "execute_result"
    }
   ],
   "source": [
    "import plotly.plotly as py\n",
    "import plotly.graph_objs as go\n",
    "\n",
    "trace1 = go.Bar(\n",
    "    x=['REST-EASY', 'REST-MED', 'REST-HIGH', 'EASY-MED', 'EASY-HARD', 'MED-HARD'],\n",
    "    y=[mean_eeg_diff_easy[6], mean_eeg_diff_med[6], -mean_eeg_diff_hard[6], mean_eeg_diff_easy_med[6], mean_eeg_diff_easy_hard[6], mean_eeg_diff_med_hard[6]],\n",
    "    name='mean gamma CH1',\n",
    "    error_y=dict(\n",
    "        type='data',\n",
    "        array=[se_eeg_diff_easy[5], se_eeg_diff_med[5], -se_eeg_diff_hard[5], -se_eeg_diff_easy_med[5], -se_eeg_diff_easy_hard[5], se_eeg_diff_med_hard[5]],\n",
    "        visible=True\n",
    "    )\n",
    ")\n",
    "\n",
    "trace2 = go.Bar(\n",
    "    x=['REST-EASY', 'REST-MED', 'REST-HIGH', 'EASY-MED', 'EASY-HARD', 'MED-HARD'],\n",
    "    y=[mean_eeg_diff_easy[7], mean_eeg_diff_med[7], -mean_eeg_diff_hard[7], mean_eeg_diff_easy_med[7], mean_eeg_diff_easy_hard[7], mean_eeg_diff_med_hard[7]],\n",
    "    name='mean gamma CH2',\n",
    "    error_y=dict(\n",
    "        type='data',\n",
    "        array=[se_eeg_diff_easy[5], se_eeg_diff_med[5], -se_eeg_diff_hard[5], -se_eeg_diff_easy_med[5], -se_eeg_diff_easy_hard[5], se_eeg_diff_med_hard[5]],\n",
    "        visible=True\n",
    "    )\n",
    ")\n",
    "data = [trace1, trace2]\n",
    "layout = go.Layout(\n",
    "    barmode='group',\n",
    "      legend=dict(\n",
    "        x=1,\n",
    "        y=1,\n",
    "        traceorder='normal',\n",
    "        font=dict(\n",
    "            family='sans-serif',\n",
    "            size=16,\n",
    "            color='#000'\n",
    "        ),\n",
    "        bgcolor='#E2E2E2',\n",
    "        bordercolor='#FFFFFF',\n",
    "        borderwidth=2\n",
    "    )\n",
    ")\n",
    "fig = go.Figure(data=data, layout=layout)\n",
    "py.iplot(fig, filename='error-bar-bar')"
   ]
  },
  {
   "cell_type": "markdown",
   "metadata": {},
   "source": [
    "# EDA"
   ]
  },
  {
   "cell_type": "markdown",
   "metadata": {},
   "source": [
    "##### easy"
   ]
  },
  {
   "cell_type": "code",
   "execution_count": 562,
   "metadata": {},
   "outputs": [
    {
     "name": "stdout",
     "output_type": "stream",
     "text": [
      "[-1.98347485 -0.37148111] [0.08260326 0.71992503]\n"
     ]
    }
   ],
   "source": [
    "eda_rest = np.array([eda_features[i] for i in range(len(rest)) if rest[i] == 1 ])\n",
    "eda_easy = np.array([eda_features[i] for i in range(len(easy)) if easy[i] == 1 ])\n",
    "\n",
    "#step 1: calculate pair diffrernces\n",
    "eda_diff_easy = - eda_rest + eda_easy\n",
    "\n",
    "#step 2: mean_diff\n",
    "mean_eda_diff_easy = np.mean(eda_diff_easy, axis=0)\n",
    "\n",
    "#step 3: standard deviation\n",
    "std_eda_diff_easy = np.std(eda_diff_easy, axis=0)\n",
    "#step4: standard error:\n",
    "se_eda_diff_easy = std_eda_diff_easy/np.sqrt(len(eda_easy))\n",
    "\n",
    "# step 5: t-statistic\n",
    "t_eda_easy = mean_eda_diff_easy/se_eda_diff_easy\n",
    "p_eda_easy = scipy.stats.t.sf(np.abs(t_eda_easy), len(eda_rest)-1)*2\n",
    "print(t_eda_easy, p_eda_easy)"
   ]
  },
  {
   "cell_type": "markdown",
   "metadata": {},
   "source": [
    "##### medium"
   ]
  },
  {
   "cell_type": "code",
   "execution_count": 563,
   "metadata": {},
   "outputs": [
    {
     "name": "stdout",
     "output_type": "stream",
     "text": [
      "[0.30807609 0.45780969] [0.76589318 0.65926712]\n"
     ]
    }
   ],
   "source": [
    "eda_rest = np.array([eda_features[i] for i in range(len(rest)) if rest[i] == 1 ])\n",
    "eda_med = np.array([eda_features[i] for i in range(len(med)) if med[i] == 1 ])\n",
    "\n",
    "#step 1: calculate pair diffrernces\n",
    "eda_diff_med = - eda_rest + eda_med\n",
    "\n",
    "#step 2: mean_diff\n",
    "mean_eda_diff_med = np.mean(eda_diff_med, axis=0)\n",
    "\n",
    "#step 3: standard deviation\n",
    "std_eda_diff_med = np.std(eda_diff_med, axis=0)\n",
    "#step4: standard error:\n",
    "se_eda_diff_med = std_eda_diff_med/np.sqrt(len(eda_med))\n",
    "\n",
    "# step 5: t-statistic\n",
    "t_eda_med = mean_eda_diff_med/se_eda_diff_med\n",
    "p_eda_med = scipy.stats.t.sf(np.abs(t_eda_med), len(eda_rest)-1)*2\n",
    "print(t_eda_med, p_eda_med)"
   ]
  },
  {
   "cell_type": "markdown",
   "metadata": {},
   "source": [
    "##### hard"
   ]
  },
  {
   "cell_type": "code",
   "execution_count": 564,
   "metadata": {},
   "outputs": [
    {
     "name": "stdout",
     "output_type": "stream",
     "text": [
      "[ 0.01483    -0.03703135] [0.98853098 0.97136739]\n"
     ]
    }
   ],
   "source": [
    "eda_rest = np.array([eda_features[i] for i in range(len(rest)) if rest[i] == 1 ])\n",
    "eda_hard = np.array([eda_features[i] for i in range(len(hard)) if hard[i] == 1 ])\n",
    "\n",
    "#step 1: calculate pair diffrernces\n",
    "eda_diff_hard = - eda_rest + eda_hard\n",
    "\n",
    "#step 2: mean_diff\n",
    "mean_eda_diff_hard = np.mean(eda_diff_hard, axis=0)\n",
    "\n",
    "#step 3: standard deviation\n",
    "std_eda_diff_hard = np.std(eda_diff_hard, axis=0)\n",
    "#step4: standard error:\n",
    "se_eda_diff_hard = std_eda_diff_hard/np.sqrt(len(eda_hard))\n",
    "\n",
    "# step 5: t-statistic\n",
    "t_eda_hard = mean_eda_diff_hard/se_eda_diff_hard\n",
    "p_eda_hard = scipy.stats.t.sf(np.abs(t_eda_hard), len(eda_rest)-1)*2\n",
    "print(t_eda_hard, p_eda_hard)"
   ]
  },
  {
   "cell_type": "markdown",
   "metadata": {},
   "source": [
    "##### easy - med"
   ]
  },
  {
   "cell_type": "code",
   "execution_count": 565,
   "metadata": {},
   "outputs": [
    {
     "name": "stdout",
     "output_type": "stream",
     "text": [
      "[-2.62103734 -1.17657127] [0.03060113 0.27318656]\n"
     ]
    }
   ],
   "source": [
    "eda_easy = np.array([eda_features[i] for i in range(len(easy)) if easy[i] == 1 ])\n",
    "eda_med = np.array([eda_features[i] for i in range(len(med)) if med[i] == 1 ])\n",
    "\n",
    "#step 1: calculate pair diffrernces\n",
    "eda_diff_easy_med = - eda_med + eda_easy\n",
    "\n",
    "#step 2: mean_diff\n",
    "mean_eda_diff_easy_med = np.mean(eda_diff_easy_med, axis=0)\n",
    "\n",
    "#step 3: standard deviation\n",
    "std_eda_diff_easy_med = np.std(eda_diff_easy_med, axis=0)\n",
    "\n",
    "#step4: standard error:\n",
    "se_eda_diff_easy_med = std_eda_diff_easy_med/np.sqrt(len(eda_easy))\n",
    "\n",
    "# step 5: t-statistic\n",
    "t_eda_easy_med = mean_eda_diff_easy_med/se_eda_diff_easy_med\n",
    "p_eda_easy_med = scipy.stats.t.sf(np.abs(t_eda_easy_med), len(eda_rest)-1)*2\n",
    "print(t_eda_easy_med, p_eda_easy_med)"
   ]
  },
  {
   "cell_type": "markdown",
   "metadata": {},
   "source": [
    "##### easy-hard"
   ]
  },
  {
   "cell_type": "code",
   "execution_count": 566,
   "metadata": {},
   "outputs": [
    {
     "name": "stdout",
     "output_type": "stream",
     "text": [
      "[-1.34289754 -0.48799127] [0.21615761 0.63864895]\n"
     ]
    }
   ],
   "source": [
    "eda_easy = np.array([eda_features[i] for i in range(len(easy)) if easy[i] == 1 ])\n",
    "eda_hard = np.array([eda_features[i] for i in range(len(hard)) if hard[i] == 1 ])\n",
    "\n",
    "#step 1: calculate pair diffrernces\n",
    "eda_diff_easy_hard = - eda_hard + eda_easy\n",
    "\n",
    "#step 2: mean_diff\n",
    "mean_eda_diff_easy_hard = np.mean(eda_diff_easy_hard, axis=0)\n",
    "\n",
    "#step 3: standard deviation\n",
    "std_eda_diff_easy_hard = np.std(eda_diff_easy_hard, axis=0)\n",
    "\n",
    "#step4: standard error:\n",
    "se_eda_diff_easy_hard = std_eda_diff_easy_hard/np.sqrt(len(eda_easy))\n",
    "\n",
    "# step 5: t-statistic\n",
    "t_eda_easy_hard = mean_eda_diff_easy_hard/se_eda_diff_easy_hard\n",
    "p_eda_easy_hard = scipy.stats.t.sf(np.abs(t_eda_easy_hard), len(eda_rest)-1)*2\n",
    "print(t_eda_easy_hard, p_eda_easy_hard)"
   ]
  },
  {
   "cell_type": "markdown",
   "metadata": {},
   "source": [
    "##### med-hard"
   ]
  },
  {
   "cell_type": "code",
   "execution_count": 567,
   "metadata": {},
   "outputs": [
    {
     "name": "stdout",
     "output_type": "stream",
     "text": [
      "[0.20124493 0.75993482] [0.84552966 0.46909404]\n"
     ]
    }
   ],
   "source": [
    "eda_med = np.array([eda_features[i] for i in range(len(med)) if med[i] == 1 ])\n",
    "eda_hard = np.array([eda_features[i] for i in range(len(hard)) if hard[i] == 1 ])\n",
    "\n",
    "#step 1: calculate pair diffrernces\n",
    "eda_diff_med_hard = - eda_hard + eda_med\n",
    "\n",
    "#step 2: mean_diff\n",
    "mean_eda_diff_med_hard = np.mean(eda_diff_med_hard, axis=0)\n",
    "\n",
    "#step 3: standard deviation\n",
    "std_eda_diff_med_hard = np.std(eda_diff_med_hard, axis=0)\n",
    "\n",
    "#step4: standard error:\n",
    "se_eda_diff_med_hard = std_eda_diff_med_hard/np.sqrt(len(eda_med))\n",
    "\n",
    "# step 5: t-statistic\n",
    "t_eda_med_hard = mean_eda_diff_med_hard/se_eda_diff_med_hard\n",
    "p_eda_med_hard = scipy.stats.t.sf(np.abs(t_eda_med_hard), len(eda_rest)-1)*2\n",
    "print(t_eda_med_hard, p_eda_med_hard)"
   ]
  },
  {
   "cell_type": "code",
   "execution_count": 568,
   "metadata": {},
   "outputs": [
    {
     "name": "stdout",
     "output_type": "stream",
     "text": [
      "High five! You successfully sent some data to your account on plotly. View your plot in your browser at https://plot.ly/~kaunil.dhruv/0 or inside your plot.ly account where it is named 'error-bar-bar'\n"
     ]
    },
    {
     "data": {
      "text/html": [
       "<iframe id=\"igraph\" scrolling=\"no\" style=\"border:none;\" seamless=\"seamless\" src=\"https://plot.ly/~kaunil.dhruv/0.embed\" height=\"525px\" width=\"100%\"></iframe>"
      ],
      "text/plain": [
       "<chart_studio.tools.PlotlyDisplay object>"
      ]
     },
     "execution_count": 568,
     "metadata": {},
     "output_type": "execute_result"
    }
   ],
   "source": [
    "import plotly.plotly as py\n",
    "import plotly.graph_objs as go\n",
    "\n",
    "trace1 = go.Bar(\n",
    "    x=['REST-EASY', 'REST-MED', 'REST-HIGH', 'EASY-MED', 'EASY-HARD', 'MED-HARD'],\n",
    "    y=[-mean_eda_diff_easy[0], mean_eda_diff_med[0], mean_eda_diff_hard[0], -mean_eda_diff_easy_med[0], -mean_eda_diff_easy_hard[0], mean_eda_diff_med_hard[0]],\n",
    "    name='meanSCR',\n",
    "    error_y=dict(\n",
    "        type='data',\n",
    "        array=[-se_eda_diff_easy[0], se_eda_diff_med[0], se_eda_diff_hard[0], -se_eda_diff_easy_med[0], -se_eda_diff_easy_hard[0], se_eda_diff_med_hard[0]],\n",
    "        visible=True\n",
    "    )\n",
    ")\n",
    "\n",
    "trace2 = go.Bar(\n",
    "    x=['REST-EASY', 'REST-MED', 'REST-HIGH', 'EASY-MED', 'EASY-HARD', 'MED-HARD'],\n",
    "    y=[-mean_eda_diff_easy[1], mean_eda_diff_med[1], mean_eda_diff_hard[1], -mean_eda_diff_easy_med[1], -mean_eda_diff_easy_hard[1], mean_eda_diff_med_hard[1]],\n",
    "    name='meanSCR rise time ',\n",
    "    error_y=dict(\n",
    "        type='data',\n",
    "        array=[-se_eda_diff_easy[1], se_eda_diff_med[1], se_eda_diff_hard[1], -se_eda_diff_easy_med[1], -se_eda_diff_easy_hard[1], se_eda_diff_med_hard[1]],\n",
    "        visible=True\n",
    "    )\n",
    ")\n",
    "data = [trace1, trace2]\n",
    "layout = go.Layout(\n",
    "    barmode='group',\n",
    "      legend=dict(\n",
    "        x=1,\n",
    "        y=1,\n",
    "        traceorder='normal',\n",
    "        font=dict(\n",
    "            family='sans-serif',\n",
    "            size=16,\n",
    "            color='#000'\n",
    "        ),\n",
    "        bgcolor='#E2E2E2',\n",
    "        bordercolor='#FFFFFF',\n",
    "        borderwidth=2\n",
    "    )\n",
    ")\n",
    "fig = go.Figure(data=data, layout=layout)\n",
    "py.iplot(fig, filename='error-bar-bar')"
   ]
  },
  {
   "cell_type": "markdown",
   "metadata": {},
   "source": [
    "# fNIRS"
   ]
  },
  {
   "cell_type": "code",
   "execution_count": 48,
   "metadata": {},
   "outputs": [],
   "source": [
    "def get_fnirs_features(oxy, dxy):\n",
    "    # oxy first half, oxy second half, dxy first half, dxy second half\n",
    "    return np.array([\n",
    "        np.mean(oxy[:300]),\n",
    "        np.mean(oxy[300:]),\n",
    "        np.mean(dxy[:300]),\n",
    "        np.mean(dxy[300:])\n",
    "        \n",
    "    ])"
   ]
  },
  {
   "cell_type": "code",
   "execution_count": 49,
   "metadata": {},
   "outputs": [],
   "source": [
    "conditions_files = sorted(glob.glob('data/plux/*Plux_conditions.csv'))\n",
    "data_files = sorted(glob.glob('data/plux/aptima_*.txt'))"
   ]
  },
  {
   "cell_type": "code",
   "execution_count": 50,
   "metadata": {},
   "outputs": [],
   "source": [
    "fnirs_data = {}\n",
    "\n",
    "for data_f in data_files:\n",
    "    fnirs_raw = {'CH9': [], 'CH10': []}\n",
    "    fnirs_data[data_f] = None\n",
    "    \n",
    "    data = open(data_f, 'r')\n",
    "    \n",
    "    for line in data:\n",
    "        if '#' in line:\n",
    "            continue\n",
    "        else:\n",
    "            val = line.split(\"\\t\")\n",
    "            fnirs_raw['CH9'].append(int(val[2]))\n",
    "            fnirs_raw['CH10'].append(int(val[3]))\n",
    "    fnirs_data[data_f] = fnirs_raw\n",
    "    df = pd.DataFrame.from_dict(fnirs_raw)\n",
    "    df.to_csv(data_f+'.csv')\n",
    "    "
   ]
  },
  {
   "cell_type": "code",
   "execution_count": 51,
   "metadata": {},
   "outputs": [],
   "source": [
    "mat_files = sorted(glob.glob('data/plux/aptima_*.mat'))\n",
    "from scipy.io import loadmat"
   ]
  },
  {
   "cell_type": "code",
   "execution_count": 52,
   "metadata": {},
   "outputs": [],
   "source": [
    "response_fnirs = []\n",
    "fnirs_features = []\n",
    "fnirs_data = []\n",
    "for data_mat, cond_f in zip(mat_files, conditions_files):\n",
    "    m_data = loadmat(data_mat)\n",
    "    dxy_data = m_data['nirs_data'][0][0][0]\n",
    "    oxy_data = m_data['nirs_data'][0][0][1]\n",
    "    \n",
    "    cond = pd.read_csv(cond_f)\n",
    "    for key in cond:\n",
    "        if 'Task' in key:\n",
    "            start = int(cond[key][0])\n",
    "            duration = int(cond[key][1])*10\n",
    "            end = start + duration\n",
    "            \n",
    "            res = str(cond[key][2])\n",
    "            response_fnirs.append(resp_idx[res])\n",
    "            fnirs_data.append([oxy_data[start:end, :], dxy_data[start:end, :]])\n",
    "            fnirs_features.append(get_fnirs_features(oxy_data[start:end, :], dxy_data[start:end, :]))"
   ]
  },
  {
   "cell_type": "code",
   "execution_count": 53,
   "metadata": {},
   "outputs": [],
   "source": [
    "rest = [1 if i == 1 else 0 for i in response_fnirs]\n",
    "easy = [1 if i == 2 else 0 for i in response_fnirs]\n",
    "med = [1 if i == 3 else 0 for i in response_fnirs]\n",
    "hard = [1 if i == 4 else 0 for i in response_fnirs]"
   ]
  },
  {
   "cell_type": "markdown",
   "metadata": {},
   "source": [
    "##### easy"
   ]
  },
  {
   "cell_type": "code",
   "execution_count": 54,
   "metadata": {},
   "outputs": [
    {
     "name": "stdout",
     "output_type": "stream",
     "text": [
      "[ 6.59181181 -4.84678218 -3.28899835 -1.32014165] [8.54195746e-05 6.38533385e-04 5.51926261e-03 1.11653722e-01]\n"
     ]
    }
   ],
   "source": [
    "fnirs_rest = np.array([fnirs_features[i] for i in range(len(rest)) if rest[i] == 1 ])\n",
    "fnirs_easy = np.array([fnirs_features[i] for i in range(len(easy)) if easy[i] == 1 ])\n",
    "\n",
    "#step 1: calculate pair diffrernces\n",
    "fnirs_diff_easy = - fnirs_rest + fnirs_easy\n",
    "\n",
    "#step 2: mean_diff\n",
    "mean_fnirs_diff_easy = np.mean(fnirs_diff_easy, axis=0)\n",
    "\n",
    "#step 3: standard deviation\n",
    "std_fnirs_diff_easy = np.std(fnirs_diff_easy, axis=0)\n",
    "#step4: standard error:\n",
    "se_fnirs_diff_easy = std_fnirs_diff_easy/len(fnirs_easy)\n",
    "\n",
    "# step 5: t-statistic\n",
    "t_fnirs_easy = mean_fnirs_diff_easy/se_fnirs_diff_easy\n",
    "p_fnirs_easy = scipy.stats.t.sf(np.abs(t_fnirs_easy), len(fnirs_rest)-1)\n",
    "print(t_fnirs_easy, p_fnirs_easy)"
   ]
  },
  {
   "cell_type": "markdown",
   "metadata": {},
   "source": [
    "##### med"
   ]
  },
  {
   "cell_type": "code",
   "execution_count": 55,
   "metadata": {},
   "outputs": [
    {
     "name": "stdout",
     "output_type": "stream",
     "text": [
      "[ 6.55802061 -7.50837859 -3.52740427  1.54973817] [1.76981013e-04 6.87302574e-05 7.76139865e-03 1.59799145e-01]\n"
     ]
    }
   ],
   "source": [
    "fnirs_rest = np.array([fnirs_features[i] for i in range(len(rest)) if rest[i] == 1 ])\n",
    "fnirs_med = np.array([fnirs_features[i] for i in range(len(med)) if med[i] == 1 ])\n",
    "\n",
    "#step 1: calculate pair diffrernces\n",
    "fnirs_diff_med = - fnirs_rest + fnirs_med\n",
    "\n",
    "#step 2: mean_diff\n",
    "mean_fnirs_diff_med = np.mean(fnirs_diff_med, axis=0)\n",
    "\n",
    "#step 3: standard deviation\n",
    "std_fnirs_diff_med = np.std(fnirs_diff_med, axis=0)\n",
    "#step4: standard error:\n",
    "se_fnirs_diff_med = std_fnirs_diff_med/len(fnirs_med)\n",
    "\n",
    "# step 5: t-statistic\n",
    "t_fnirs_med = mean_fnirs_diff_med/se_fnirs_diff_med\n",
    "p_fnirs_med = scipy.stats.t.sf(np.abs(t_fnirs_med), len(fnirs_rest)-1)*2\n",
    "print(t_fnirs_med, p_fnirs_med)"
   ]
  },
  {
   "cell_type": "markdown",
   "metadata": {},
   "source": [
    "##### hard"
   ]
  },
  {
   "cell_type": "code",
   "execution_count": 56,
   "metadata": {},
   "outputs": [
    {
     "name": "stdout",
     "output_type": "stream",
     "text": [
      "[ 1.84383429 -0.44786939 -0.97378263  0.00875988] [0.10244118 0.66612733 0.35868478 0.99322523]\n"
     ]
    }
   ],
   "source": [
    "fnirs_rest = np.array([fnirs_features[i] for i in range(len(rest)) if rest[i] == 1 ])\n",
    "fnirs_hard = np.array([fnirs_features[i] for i in range(len(hard)) if hard[i] == 1 ])\n",
    "\n",
    "#step 1: calculate pair diffrernces\n",
    "fnirs_diff_hard = - fnirs_rest + fnirs_hard\n",
    "\n",
    "#step 2: mean_diff\n",
    "mean_fnirs_diff_hard = np.mean(fnirs_diff_hard, axis=0)\n",
    "\n",
    "#step 3: standard deviation\n",
    "std_fnirs_diff_hard = np.var(fnirs_diff_hard, axis=0)\n",
    "#step4: standard error:\n",
    "se_fnirs_diff_hard = std_fnirs_diff_hard/len(fnirs_hard)\n",
    "\n",
    "# step 5: t-statistic\n",
    "t_fnirs_hard = mean_fnirs_diff_hard/np.sqrt(se_fnirs_diff_hard)\n",
    "p_fnirs_hard = scipy.stats.t.sf(np.abs(t_fnirs_hard), len(fnirs_rest)-1)*2\n",
    "print(t_fnirs_hard, p_fnirs_hard)"
   ]
  },
  {
   "cell_type": "markdown",
   "metadata": {},
   "source": [
    "##### easy - med"
   ]
  },
  {
   "cell_type": "code",
   "execution_count": 57,
   "metadata": {},
   "outputs": [
    {
     "name": "stdout",
     "output_type": "stream",
     "text": [
      "[-0.38739403  0.04112243  0.56512757 -2.04231546] [0.70856733 0.96820607 0.58748053 0.07540236]\n"
     ]
    }
   ],
   "source": [
    "fnirs_easy = np.array([fnirs_features[i] for i in range(len(easy)) if easy[i] == 1 ])\n",
    "fnirs_med = np.array([fnirs_features[i] for i in range(len(med)) if med[i] == 1 ])\n",
    "\n",
    "#step 1: calculate pair diffrernces\n",
    "fnirs_diff_easy_med = - fnirs_med + fnirs_easy\n",
    "\n",
    "#step 2: mean_diff\n",
    "mean_fnirs_diff_easy_med = np.mean(fnirs_diff_easy_med, axis=0)\n",
    "\n",
    "#step 3: standard deviation\n",
    "std_fnirs_diff_easy_med = np.std(fnirs_diff_easy_med, axis=0)\n",
    "\n",
    "#step4: standard error:\n",
    "se_fnirs_diff_easy_med = std_fnirs_diff_easy_med/len(fnirs_easy)\n",
    "\n",
    "# step 5: t-statistic\n",
    "t_fnirs_easy_med = mean_fnirs_diff_easy_med/se_fnirs_diff_easy_med\n",
    "p_fnirs_easy_med = scipy.stats.t.sf(np.abs(t_fnirs_easy_med), len(fnirs_rest)-1)*2\n",
    "print(t_fnirs_easy_med, p_fnirs_easy_med)"
   ]
  },
  {
   "cell_type": "markdown",
   "metadata": {},
   "source": [
    "##### easy-hard"
   ]
  },
  {
   "cell_type": "code",
   "execution_count": 58,
   "metadata": {},
   "outputs": [
    {
     "name": "stdout",
     "output_type": "stream",
     "text": [
      "[ 2.18888872 -4.21869309 -0.99879987 -1.51566   ] [0.0600249  0.00292102 0.34714015 0.16807356]\n"
     ]
    }
   ],
   "source": [
    "fnirs_easy = np.array([fnirs_features[i] for i in range(len(easy)) if easy[i] == 1 ])\n",
    "fnirs_hard = np.array([fnirs_features[i] for i in range(len(hard)) if hard[i] == 1 ])\n",
    "\n",
    "#step 1: calculate pair diffrernces\n",
    "fnirs_diff_easy_hard = - fnirs_hard + fnirs_easy\n",
    "\n",
    "#step 2: mean_diff\n",
    "mean_fnirs_diff_easy_hard = np.mean(fnirs_diff_easy_hard, axis=0)\n",
    "\n",
    "#step 3: standard deviation\n",
    "std_fnirs_diff_easy_hard = np.std(fnirs_diff_easy_hard, axis=0)\n",
    "\n",
    "#step4: standard error:\n",
    "se_fnirs_diff_easy_hard = std_fnirs_diff_easy_hard/len(fnirs_easy)\n",
    "\n",
    "# step 5: t-statistic\n",
    "t_fnirs_easy_hard = mean_fnirs_diff_easy_hard/se_fnirs_diff_easy_hard\n",
    "p_fnirs_easy_hard = scipy.stats.t.sf(np.abs(t_fnirs_easy_hard), len(fnirs_rest)-1)*2\n",
    "print(t_fnirs_easy_hard, p_fnirs_easy_hard)"
   ]
  },
  {
   "cell_type": "markdown",
   "metadata": {},
   "source": [
    "##### med-hard"
   ]
  },
  {
   "cell_type": "code",
   "execution_count": 59,
   "metadata": {},
   "outputs": [
    {
     "name": "stdout",
     "output_type": "stream",
     "text": [
      "[ 1.70601424 -2.44704757 -1.59491528  1.3498654 ] [0.12639668 0.04012105 0.14939744 0.21400804]\n"
     ]
    }
   ],
   "source": [
    "fnirs_med = np.array([fnirs_features[i] for i in range(len(med)) if med[i] == 1 ])\n",
    "fnirs_hard = np.array([fnirs_features[i] for i in range(len(hard)) if hard[i] == 1 ])\n",
    "\n",
    "#step 1: calculate pair diffrernces\n",
    "fnirs_diff_med_hard = - fnirs_hard + fnirs_med\n",
    "\n",
    "#step 2: mean_diff\n",
    "mean_fnirs_diff_med_hard = np.mean(fnirs_diff_med_hard, axis=0)\n",
    "\n",
    "#step 3: standard deviation\n",
    "std_fnirs_diff_med_hard = np.std(fnirs_diff_med_hard, axis=0)\n",
    "\n",
    "#step4: standard error:\n",
    "se_fnirs_diff_med_hard = std_fnirs_diff_med_hard/len(fnirs_med)\n",
    "\n",
    "# step 5: t-statistic\n",
    "t_fnirs_med_hard = mean_fnirs_diff_med_hard/se_fnirs_diff_med_hard\n",
    "p_fnirs_med_hard = scipy.stats.t.sf(np.abs(t_fnirs_med_hard), len(fnirs_rest)-1)*2\n",
    "print(t_fnirs_med_hard, p_fnirs_med_hard)"
   ]
  },
  {
   "cell_type": "code",
   "execution_count": 60,
   "metadata": {},
   "outputs": [
    {
     "name": "stdout",
     "output_type": "stream",
     "text": [
      "High five! You successfully sent some data to your account on plotly. View your plot in your browser at https://plot.ly/~kaunil.dhruv/0 or inside your plot.ly account where it is named 'error-bar-bar'\n"
     ]
    },
    {
     "data": {
      "text/html": [
       "<iframe id=\"igraph\" scrolling=\"no\" style=\"border:none;\" seamless=\"seamless\" src=\"https://plot.ly/~kaunil.dhruv/0.embed\" height=\"525px\" width=\"100%\"></iframe>"
      ],
      "text/plain": [
       "<chart_studio.tools.PlotlyDisplay object>"
      ]
     },
     "execution_count": 60,
     "metadata": {},
     "output_type": "execute_result"
    }
   ],
   "source": [
    "import plotly.plotly as py\n",
    "import plotly.graph_objs as go\n",
    "\n",
    "trace1 = go.Bar(\n",
    "    x=['REST-EASY', 'REST-MED', 'REST-HIGH', 'EASY-MED', 'EASY-HARD', 'MED-HARD'],\n",
    "    y=[mean_fnirs_diff_easy[0], mean_fnirs_diff_med[0], mean_fnirs_diff_hard[0], -mean_fnirs_diff_easy_med[0], mean_fnirs_diff_easy_hard[0], mean_fnirs_diff_med_hard[0]],\n",
    "    name='oxy first half',\n",
    "    error_y=dict(\n",
    "        type='data',\n",
    "        array=[se_fnirs_diff_easy[0], se_fnirs_diff_med[0], se_fnirs_diff_hard[0], se_fnirs_diff_easy_med[0], se_fnirs_diff_easy_hard[0], se_fnirs_diff_med_hard[0]],\n",
    "        visible=True\n",
    "    )\n",
    ")\n",
    "\n",
    "trace2 = go.Bar(\n",
    "    x=['REST-EASY', 'REST-MED', 'REST-HIGH', 'EASY-MED', 'EASY-HARD', 'MED-HARD'],\n",
    "    y=[-mean_fnirs_diff_easy[1], -mean_fnirs_diff_med[1], -mean_fnirs_diff_hard[1], mean_fnirs_diff_easy_med[1], -mean_fnirs_diff_easy_hard[1], -mean_fnirs_diff_med_hard[1]],\n",
    "    name='oxy second half ',\n",
    "    error_y=dict(\n",
    "        type='data',\n",
    "        array=[se_fnirs_diff_easy[1], se_fnirs_diff_med[1], se_fnirs_diff_hard[1], se_fnirs_diff_easy_med[1], se_fnirs_diff_easy_hard[1], se_fnirs_diff_med_hard[1]],\n",
    "        visible=True\n",
    "    )\n",
    ")\n",
    "data = [trace1, trace2]\n",
    "layout = go.Layout(\n",
    "    barmode='group',\n",
    "      legend=dict(\n",
    "        x=1,\n",
    "        y=1,\n",
    "        traceorder='normal',\n",
    "        font=dict(\n",
    "            family='sans-serif',\n",
    "            size=16,\n",
    "            color='#000'\n",
    "        ),\n",
    "        bgcolor='#E2E2E2',\n",
    "        bordercolor='#FFFFFF',\n",
    "        borderwidth=2\n",
    "    )\n",
    ")\n",
    "fig = go.Figure(data=data, layout=layout)\n",
    "py.iplot(fig, filename='error-bar-bar')"
   ]
  },
  {
   "cell_type": "code",
   "execution_count": 61,
   "metadata": {},
   "outputs": [
    {
     "name": "stdout",
     "output_type": "stream",
     "text": [
      "High five! You successfully sent some data to your account on plotly. View your plot in your browser at https://plot.ly/~kaunil.dhruv/0 or inside your plot.ly account where it is named 'error-bar-bar'\n"
     ]
    },
    {
     "data": {
      "text/html": [
       "<iframe id=\"igraph\" scrolling=\"no\" style=\"border:none;\" seamless=\"seamless\" src=\"https://plot.ly/~kaunil.dhruv/0.embed\" height=\"525px\" width=\"100%\"></iframe>"
      ],
      "text/plain": [
       "<chart_studio.tools.PlotlyDisplay object>"
      ]
     },
     "execution_count": 61,
     "metadata": {},
     "output_type": "execute_result"
    }
   ],
   "source": [
    "import plotly.plotly as py\n",
    "import plotly.graph_objs as go\n",
    "\n",
    "trace1 = go.Bar(\n",
    "    x=['REST-EASY', 'REST-MED', 'REST-HIGH', 'EASY-MED', 'EASY-HARD', 'MED-HARD'],\n",
    "    y=[-mean_fnirs_diff_easy[2], -mean_fnirs_diff_med[2], -mean_fnirs_diff_hard[2], mean_fnirs_diff_easy_med[2], -mean_fnirs_diff_easy_hard[2], -mean_fnirs_diff_med_hard[2]],\n",
    "    name='dxy first half',\n",
    "    error_y=dict(\n",
    "        type='data',\n",
    "        array=[se_fnirs_diff_easy[2], se_fnirs_diff_med[2], se_fnirs_diff_hard[2], se_fnirs_diff_easy_med[2], se_fnirs_diff_easy_hard[2], se_fnirs_diff_med_hard[2]],\n",
    "        visible=True\n",
    "    )\n",
    ")\n",
    "\n",
    "trace2 = go.Bar(\n",
    "    x=['REST-EASY', 'REST-MED', 'REST-HIGH', 'EASY-MED', 'EASY-HARD', 'MED-HARD'],\n",
    "    y=[-mean_fnirs_diff_easy[3], mean_fnirs_diff_med[3], -mean_fnirs_diff_hard[3],  -mean_fnirs_diff_easy_med[3], -mean_fnirs_diff_easy_hard[3], mean_fnirs_diff_med_hard[3]],\n",
    "    name='dxy second half ',\n",
    "    error_y=dict(\n",
    "        type='data',\n",
    "        array=[se_fnirs_diff_easy[3], se_fnirs_diff_med[3], se_fnirs_diff_hard[3], se_fnirs_diff_easy_med[3], se_fnirs_diff_easy_hard[3], se_fnirs_diff_med_hard[3]],\n",
    "        visible=True\n",
    "    )\n",
    ")\n",
    "data = [trace1, trace2]\n",
    "layout = go.Layout(\n",
    "    barmode='group',\n",
    "      legend=dict(\n",
    "        x=1,\n",
    "        y=1,\n",
    "        traceorder='normal',\n",
    "        font=dict(\n",
    "            family='sans-serif',\n",
    "            size=16,\n",
    "            color='#000'\n",
    "        ),\n",
    "        bgcolor='#E2E2E2',\n",
    "        bordercolor='#FFFFFF',\n",
    "        borderwidth=2\n",
    "    )\n",
    ")\n",
    "fig = go.Figure(data=data, layout=layout)\n",
    "py.iplot(fig, filename='error-bar-bar')"
   ]
  },
  {
   "cell_type": "markdown",
   "metadata": {},
   "source": [
    "# fNIRS Pilot 2.0"
   ]
  },
  {
   "cell_type": "code",
   "execution_count": 3,
   "metadata": {},
   "outputs": [],
   "source": [
    "conditions_files = sorted(glob.glob('data/plux_2.0_data/aptima*conditions.csv'))\n",
    "data_files = sorted(glob.glob('data/plux_2.0_data/pilot_explorer_cleaned_*.csv'))"
   ]
  },
  {
   "cell_type": "code",
   "execution_count": 4,
   "metadata": {},
   "outputs": [],
   "source": [
    "fnirs_data = {}\n",
    "\n",
    "for data_f in data_files:\n",
    "    fnirs_raw = {'r1': [], 'ir1': [], 'r2': [], 'ir2': []}\n",
    "    fnirs_data[data_f] = None\n",
    "    \n",
    "    data = open(data_f, 'r')\n",
    "    \n",
    "    for line in data:\n",
    "        if 'r' in line:\n",
    "            continue\n",
    "        else:\n",
    "            val = line.split(\"\\n\")[0].split(\",\")\n",
    "            \n",
    "            fnirs_raw['r1'].append(int(val[0]))\n",
    "            fnirs_raw['ir1'].append(int(val[1]))\n",
    "            fnirs_raw['r2'].append(int(val[2]))\n",
    "            fnirs_raw['ir2'].append(int(val[3]))\n",
    "    fnirs_data[data_f] = fnirs_raw\n",
    "    df = pd.DataFrame.from_dict(fnirs_raw)\n",
    "    df.to_csv(data_f+'.csv')\n",
    "    "
   ]
  },
  {
   "cell_type": "code",
   "execution_count": 5,
   "metadata": {},
   "outputs": [],
   "source": [
    "response_fnirs = []\n",
    "fnirs_features = {\"CH1\":[], \"CH2\":[]}\n",
    "fnirs_data = {\"CH1\":[], \"CH2\":[]}"
   ]
  },
  {
   "cell_type": "code",
   "execution_count": 6,
   "metadata": {},
   "outputs": [
    {
     "name": "stdout",
     "output_type": "stream",
     "text": [
      "['data/plux_2.0_data/aptima_1_ch1.mat', 'data/plux_2.0_data/aptima_1_ch2.mat']\n"
     ]
    },
    {
     "ename": "NameError",
     "evalue": "name 'loadmat' is not defined",
     "output_type": "error",
     "traceback": [
      "\u001b[1;31m---------------------------------------------------------------------------\u001b[0m",
      "\u001b[1;31mNameError\u001b[0m                                 Traceback (most recent call last)",
      "\u001b[1;32m<ipython-input-6-290ede2724c5>\u001b[0m in \u001b[0;36m<module>\u001b[1;34m()\u001b[0m\n\u001b[0;32m      7\u001b[0m     \u001b[0mprint\u001b[0m\u001b[1;33m(\u001b[0m\u001b[0mdata_mat\u001b[0m\u001b[1;33m)\u001b[0m\u001b[1;33m\u001b[0m\u001b[0m\n\u001b[0;32m      8\u001b[0m \u001b[1;33m\u001b[0m\u001b[0m\n\u001b[1;32m----> 9\u001b[1;33m     \u001b[0mm_data_ch1\u001b[0m \u001b[1;33m=\u001b[0m \u001b[0mloadmat\u001b[0m\u001b[1;33m(\u001b[0m\u001b[0mdata_mat\u001b[0m\u001b[1;33m[\u001b[0m\u001b[1;36m0\u001b[0m\u001b[1;33m]\u001b[0m\u001b[1;33m)\u001b[0m\u001b[1;33m\u001b[0m\u001b[0m\n\u001b[0m\u001b[0;32m     10\u001b[0m     \u001b[0mm_data_ch2\u001b[0m \u001b[1;33m=\u001b[0m \u001b[0mloadmat\u001b[0m\u001b[1;33m(\u001b[0m\u001b[0mdata_mat\u001b[0m\u001b[1;33m[\u001b[0m\u001b[1;36m1\u001b[0m\u001b[1;33m]\u001b[0m\u001b[1;33m)\u001b[0m\u001b[1;33m\u001b[0m\u001b[0m\n\u001b[0;32m     11\u001b[0m \u001b[1;33m\u001b[0m\u001b[0m\n",
      "\u001b[1;31mNameError\u001b[0m: name 'loadmat' is not defined"
     ]
    }
   ],
   "source": [
    "for data_mat, cond_f in zip([\n",
    "        ['data/plux_2.0_data/aptima_1_ch1.mat', 'data/plux_2.0_data/aptima_1_ch2.mat'],\n",
    "        ['data/plux_2.0_data/aptima_2_ch1.mat', 'data/plux_2.0_data/aptima_2_ch2.mat']\n",
    "    ], \n",
    "    ['data/plux_2.0_data/aptima_explorer_1_conditions.csv', 'data/plux_2.0_data/aptima_explorer_2_conditions.csv']):\n",
    "    \n",
    "    print(data_mat)\n",
    "    \n",
    "    m_data_ch1 = loadmat(data_mat[0])\n",
    "    m_data_ch2 = loadmat(data_mat[1])\n",
    "    \n",
    "    dxy_data_ch1 = m_data_ch1['nirs_data'][0][0][0]\n",
    "    oxy_data_ch1 = m_data_ch1['nirs_data'][0][0][1]\n",
    "    \n",
    "    dxy_data_ch2 = m_data_ch2['nirs_data'][0][0][0]\n",
    "    oxy_data_ch2 = m_data_ch2['nirs_data'][0][0][1]\n",
    "    \n",
    "    cond = pd.read_csv(cond_f)\n",
    "    for key in cond:\n",
    "        if 'Task' in key:\n",
    "            start = int(cond[key][0])\n",
    "            duration = int(cond[key][1])\n",
    "            end = start + duration\n",
    "            \n",
    "            res = str(cond[key][2])\n",
    "            \n",
    "            response_fnirs.append(resp_idx[res])\n",
    "            fnirs_data[\"CH1\"].append([oxy_data_ch1[start:end, :], dxy_data_ch1[start:end, :]])\n",
    "            fnirs_data[\"CH2\"].append([oxy_data_ch2[start:end, :], dxy_data_ch2[start:end, :]])\n",
    "            \n",
    "            fnirs_features[\"CH1\"].append(get_fnirs_features(oxy_data_ch1[start:end, :], dxy_data_ch1[start:end, :]))\n",
    "            fnirs_features[\"CH2\"].append(get_fnirs_features(oxy_data_ch2[start:end, :], dxy_data_ch2[start:end, :]))\n",
    "            "
   ]
  },
  {
   "cell_type": "code",
   "execution_count": 66,
   "metadata": {},
   "outputs": [
    {
     "data": {
      "text/plain": [
       "24"
      ]
     },
     "execution_count": 66,
     "metadata": {},
     "output_type": "execute_result"
    }
   ],
   "source": [
    "len(fnirs_features[\"CH1\"])"
   ]
  },
  {
   "cell_type": "code",
   "execution_count": 67,
   "metadata": {},
   "outputs": [],
   "source": [
    "rest = [1 if i == 1 else 0 for i in response_fnirs]\n",
    "easy = [1 if i == 2 else 0 for i in response_fnirs]\n",
    "med = [1 if i == 3 else 0 for i in response_fnirs]\n",
    "hard = [1 if i == 4 else 0 for i in response_fnirs]"
   ]
  },
  {
   "cell_type": "markdown",
   "metadata": {},
   "source": [
    "##### easy"
   ]
  },
  {
   "cell_type": "code",
   "execution_count": 102,
   "metadata": {},
   "outputs": [
    {
     "name": "stdout",
     "output_type": "stream",
     "text": [
      "[-1.37440702 -4.31639379  1.76715757 -2.38370882] [0.11385994 0.00379824 0.06872499 0.03143774]\n"
     ]
    }
   ],
   "source": [
    "fnirs_rest = np.array([fnirs_features[\"CH1\"][i] for i in range(len(rest)) if rest[i] == 1 ])\n",
    "fnirs_easy = np.array([fnirs_features[\"CH1\"][i] for i in range(len(easy)) if easy[i] == 1 ])\n",
    "\n",
    "#step 1: calculate pair diffrernces\n",
    "fnirs_diff_easy = - fnirs_rest + fnirs_easy\n",
    "\n",
    "#step 2: mean_diff\n",
    "mean_fnirs_diff_easy = np.mean(fnirs_diff_easy, axis=0)\n",
    "\n",
    "#step 3: standard deviation\n",
    "std_fnirs_diff_easy = np.std(fnirs_diff_easy, axis=0)\n",
    "#step4: standard error:\n",
    "se_fnirs_diff_easy = std_fnirs_diff_easy/len(fnirs_easy)\n",
    "\n",
    "# step 5: t-statistic\n",
    "t_fnirs_easy = mean_fnirs_diff_easy/se_fnirs_diff_easy\n",
    "p_fnirs_easy = scipy.stats.t.sf(np.abs(t_fnirs_easy), len(fnirs_rest)-1)\n",
    "print(t_fnirs_easy, p_fnirs_easy)"
   ]
  },
  {
   "cell_type": "markdown",
   "metadata": {},
   "source": [
    "##### med"
   ]
  },
  {
   "cell_type": "code",
   "execution_count": 103,
   "metadata": {},
   "outputs": [
    {
     "name": "stdout",
     "output_type": "stream",
     "text": [
      "[-0.3360369  -1.40223737 -2.51002227 -0.8182466 ] [0.75048599 0.21977496 0.05382653 0.45043703]\n"
     ]
    }
   ],
   "source": [
    "fnirs_rest = np.array([fnirs_features[\"CH1\"][i] for i in range(len(rest)) if rest[i] == 1 ])\n",
    "fnirs_med = np.array([fnirs_features[\"CH1\"][i] for i in range(len(med)) if med[i] == 1 ])\n",
    "\n",
    "#step 1: calculate pair diffrernces\n",
    "fnirs_diff_med = - fnirs_rest + fnirs_med\n",
    "\n",
    "#step 2: mean_diff\n",
    "mean_fnirs_diff_med = np.mean(fnirs_diff_med, axis=0)\n",
    "\n",
    "#step 3: standard deviation\n",
    "std_fnirs_diff_med = np.std(fnirs_diff_med, axis=0)\n",
    "#step4: standard error:\n",
    "se_fnirs_diff_med = std_fnirs_diff_med/len(fnirs_med)\n",
    "\n",
    "# step 5: t-statistic\n",
    "t_fnirs_med = mean_fnirs_diff_med/se_fnirs_diff_med\n",
    "p_fnirs_med = scipy.stats.t.sf(np.abs(t_fnirs_med), len(fnirs_rest)-1)*2\n",
    "print(t_fnirs_med, p_fnirs_med)"
   ]
  },
  {
   "cell_type": "markdown",
   "metadata": {},
   "source": [
    "##### hard"
   ]
  },
  {
   "cell_type": "code",
   "execution_count": 104,
   "metadata": {},
   "outputs": [
    {
     "name": "stdout",
     "output_type": "stream",
     "text": [
      "[-1.23585789 -0.6936926   3.40563391 -0.21413632] [0.27140349 0.51877515 0.01913372 0.83889956]\n"
     ]
    }
   ],
   "source": [
    "fnirs_rest = np.array([fnirs_features[\"CH1\"][i] for i in range(len(rest)) if rest[i] == 1 ])\n",
    "fnirs_hard = np.array([fnirs_features[\"CH1\"][i] for i in range(len(hard)) if hard[i] == 1 ])\n",
    "\n",
    "#step 1: calculate pair diffrernces\n",
    "fnirs_diff_hard = - fnirs_rest + fnirs_hard\n",
    "\n",
    "#step 2: mean_diff\n",
    "mean_fnirs_diff_hard = np.mean(fnirs_diff_hard, axis=0)\n",
    "\n",
    "#step 3: standard deviation\n",
    "std_fnirs_diff_hard = np.var(fnirs_diff_hard, axis=0)\n",
    "#step4: standard error:\n",
    "se_fnirs_diff_hard = std_fnirs_diff_hard/len(fnirs_hard)\n",
    "\n",
    "# step 5: t-statistic\n",
    "t_fnirs_hard = mean_fnirs_diff_hard/np.sqrt(se_fnirs_diff_hard)\n",
    "p_fnirs_hard = scipy.stats.t.sf(np.abs(t_fnirs_hard), len(fnirs_rest)-1)*2\n",
    "print(t_fnirs_hard, p_fnirs_hard)"
   ]
  },
  {
   "cell_type": "markdown",
   "metadata": {},
   "source": [
    "##### easy - med"
   ]
  },
  {
   "cell_type": "code",
   "execution_count": 105,
   "metadata": {},
   "outputs": [
    {
     "name": "stdout",
     "output_type": "stream",
     "text": [
      "[-0.85451422 -1.47329128  2.99699495  0.18303133] [0.43184723 0.20066631 0.03020338 0.86196378]\n"
     ]
    }
   ],
   "source": [
    "fnirs_easy = np.array([fnirs_features[\"CH1\"][i] for i in range(len(easy)) if easy[i] == 1 ])\n",
    "fnirs_med = np.array([fnirs_features[\"CH1\"][i] for i in range(len(med)) if med[i] == 1 ])\n",
    "\n",
    "#step 1: calculate pair diffrernces\n",
    "fnirs_diff_easy_med = - fnirs_med + fnirs_easy\n",
    "\n",
    "#step 2: mean_diff\n",
    "mean_fnirs_diff_easy_med = np.mean(fnirs_diff_easy_med, axis=0)\n",
    "\n",
    "#step 3: standard deviation\n",
    "std_fnirs_diff_easy_med = np.std(fnirs_diff_easy_med, axis=0)\n",
    "\n",
    "#step4: standard error:\n",
    "se_fnirs_diff_easy_med = std_fnirs_diff_easy_med/len(fnirs_easy)\n",
    "\n",
    "# step 5: t-statistic\n",
    "t_fnirs_easy_med = mean_fnirs_diff_easy_med/se_fnirs_diff_easy_med\n",
    "p_fnirs_easy_med = scipy.stats.t.sf(np.abs(t_fnirs_easy_med), len(fnirs_rest)-1)*2\n",
    "print(t_fnirs_easy_med, p_fnirs_easy_med)"
   ]
  },
  {
   "cell_type": "markdown",
   "metadata": {},
   "source": [
    "##### easy-hard"
   ]
  },
  {
   "cell_type": "code",
   "execution_count": 106,
   "metadata": {},
   "outputs": [
    {
     "name": "stdout",
     "output_type": "stream",
     "text": [
      "[ 2.39251155 -1.62819128 -1.92368657 -0.18572568] [0.06219412 0.16441306 0.11239618 0.85995936]\n"
     ]
    }
   ],
   "source": [
    "fnirs_easy = np.array([fnirs_features[\"CH1\"][i] for i in range(len(easy)) if easy[i] == 1 ])\n",
    "fnirs_hard = np.array([fnirs_features[\"CH1\"][i] for i in range(len(hard)) if hard[i] == 1 ])\n",
    "\n",
    "#step 1: calculate pair diffrernces\n",
    "fnirs_diff_easy_hard = - fnirs_hard + fnirs_easy\n",
    "\n",
    "#step 2: mean_diff\n",
    "mean_fnirs_diff_easy_hard = np.mean(fnirs_diff_easy_hard, axis=0)\n",
    "\n",
    "#step 3: standard deviation\n",
    "std_fnirs_diff_easy_hard = np.std(fnirs_diff_easy_hard, axis=0)\n",
    "\n",
    "#step4: standard error:\n",
    "se_fnirs_diff_easy_hard = std_fnirs_diff_easy_hard/len(fnirs_easy)\n",
    "\n",
    "# step 5: t-statistic\n",
    "t_fnirs_easy_hard = mean_fnirs_diff_easy_hard/se_fnirs_diff_easy_hard\n",
    "p_fnirs_easy_hard = scipy.stats.t.sf(np.abs(t_fnirs_easy_hard), len(fnirs_rest)-1)*2\n",
    "print(t_fnirs_easy_hard, p_fnirs_easy_hard)"
   ]
  },
  {
   "cell_type": "markdown",
   "metadata": {},
   "source": [
    "##### med-hard"
   ]
  },
  {
   "cell_type": "code",
   "execution_count": 107,
   "metadata": {},
   "outputs": [
    {
     "name": "stdout",
     "output_type": "stream",
     "text": [
      "[ 4.57566501 -0.19035674 -6.41199889 -0.80731218] [0.005971   0.85651695 0.00136878 0.45615813]\n"
     ]
    }
   ],
   "source": [
    "fnirs_med = np.array([fnirs_features[\"CH1\"][i] for i in range(len(med)) if med[i] == 1 ])\n",
    "fnirs_hard = np.array([fnirs_features[\"CH1\"][i] for i in range(len(hard)) if hard[i] == 1 ])\n",
    "\n",
    "#step 1: calculate pair diffrernces\n",
    "fnirs_diff_med_hard = - fnirs_hard + fnirs_med\n",
    "\n",
    "#step 2: mean_diff\n",
    "mean_fnirs_diff_med_hard = np.mean(fnirs_diff_med_hard, axis=0)\n",
    "\n",
    "#step 3: standard deviation\n",
    "std_fnirs_diff_med_hard = np.std(fnirs_diff_med_hard, axis=0)\n",
    "\n",
    "#step4: standard error:\n",
    "se_fnirs_diff_med_hard = std_fnirs_diff_med_hard/len(fnirs_med)\n",
    "\n",
    "# step 5: t-statistic\n",
    "t_fnirs_med_hard = mean_fnirs_diff_med_hard/se_fnirs_diff_med_hard\n",
    "p_fnirs_med_hard = scipy.stats.t.sf(np.abs(t_fnirs_med_hard), len(fnirs_rest)-1)*2\n",
    "print(t_fnirs_med_hard, p_fnirs_med_hard)"
   ]
  },
  {
   "cell_type": "code",
   "execution_count": 110,
   "metadata": {},
   "outputs": [
    {
     "name": "stdout",
     "output_type": "stream",
     "text": [
      "High five! You successfully sent some data to your account on plotly. View your plot in your browser at https://plot.ly/~kaunil.dhruv/0 or inside your plot.ly account where it is named 'error-bar-bar'\n"
     ]
    },
    {
     "data": {
      "text/html": [
       "<iframe id=\"igraph\" scrolling=\"no\" style=\"border:none;\" seamless=\"seamless\" src=\"https://plot.ly/~kaunil.dhruv/0.embed\" height=\"525px\" width=\"100%\"></iframe>"
      ],
      "text/plain": [
       "<chart_studio.tools.PlotlyDisplay object>"
      ]
     },
     "execution_count": 110,
     "metadata": {},
     "output_type": "execute_result"
    }
   ],
   "source": [
    "import plotly.plotly as py\n",
    "import plotly.graph_objs as go\n",
    "\n",
    "trace1 = go.Bar(\n",
    "    x=['REST-EASY', 'REST-MED', 'REST-HIGH', 'EASY-MED', 'EASY-HARD', 'MED-HARD'],\n",
    "    y=[-mean_fnirs_diff_easy[0], -mean_fnirs_diff_med[0], -mean_fnirs_diff_hard[0], -mean_fnirs_diff_easy_med[0], mean_fnirs_diff_easy_hard[0], mean_fnirs_diff_med_hard[0]],\n",
    "    name='oxy first half',\n",
    "    error_y=dict(\n",
    "        type='data',\n",
    "        array=[se_fnirs_diff_easy[0], se_fnirs_diff_med[0], se_fnirs_diff_hard[0], se_fnirs_diff_easy_med[0], se_fnirs_diff_easy_hard[0], se_fnirs_diff_med_hard[0]],\n",
    "        visible=True\n",
    "    )\n",
    ")\n",
    "\n",
    "trace2 = go.Bar(\n",
    "    x=['REST-EASY', 'REST-MED', 'REST-HIGH', 'EASY-MED', 'EASY-HARD', 'MED-HARD'],\n",
    "    y=[-mean_fnirs_diff_easy[1], -mean_fnirs_diff_med[1], -mean_fnirs_diff_hard[1], -mean_fnirs_diff_easy_med[1], -mean_fnirs_diff_easy_hard[1], -mean_fnirs_diff_med_hard[1]],\n",
    "    name='oxy second half ',\n",
    "    error_y=dict(\n",
    "        type='data',\n",
    "        array=[se_fnirs_diff_easy[1], se_fnirs_diff_med[1], se_fnirs_diff_hard[1], se_fnirs_diff_easy_med[1], se_fnirs_diff_easy_hard[1], se_fnirs_diff_med_hard[1]],\n",
    "        visible=True\n",
    "    )\n",
    ")\n",
    "data = [trace1, trace2]\n",
    "layout = go.Layout(\n",
    "    barmode='group',\n",
    "      legend=dict(\n",
    "        x=1,\n",
    "        y=1,\n",
    "        traceorder='normal',\n",
    "        font=dict(\n",
    "            family='sans-serif',\n",
    "            size=16,\n",
    "            color='#000'\n",
    "        ),\n",
    "        bgcolor='#E2E2E2',\n",
    "        bordercolor='#FFFFFF',\n",
    "        borderwidth=2\n",
    "    )\n",
    ")\n",
    "fig = go.Figure(data=data, layout=layout)\n",
    "py.iplot(fig, filename='error-bar-bar')"
   ]
  },
  {
   "cell_type": "code",
   "execution_count": 109,
   "metadata": {
    "scrolled": true
   },
   "outputs": [
    {
     "name": "stdout",
     "output_type": "stream",
     "text": [
      "High five! You successfully sent some data to your account on plotly. View your plot in your browser at https://plot.ly/~kaunil.dhruv/0 or inside your plot.ly account where it is named 'error-bar-bar'\n"
     ]
    },
    {
     "data": {
      "text/html": [
       "<iframe id=\"igraph\" scrolling=\"no\" style=\"border:none;\" seamless=\"seamless\" src=\"https://plot.ly/~kaunil.dhruv/0.embed\" height=\"525px\" width=\"100%\"></iframe>"
      ],
      "text/plain": [
       "<chart_studio.tools.PlotlyDisplay object>"
      ]
     },
     "execution_count": 109,
     "metadata": {},
     "output_type": "execute_result"
    }
   ],
   "source": [
    "import plotly.plotly as py\n",
    "import plotly.graph_objs as go\n",
    "\n",
    "trace1 = go.Bar(\n",
    "    x=['REST-EASY', 'REST-MED', 'REST-HIGH', 'EASY-MED', 'EASY-HARD', 'MED-HARD'],\n",
    "    y=[mean_fnirs_diff_easy[2], mean_fnirs_diff_med[2], mean_fnirs_diff_hard[2], -mean_fnirs_diff_easy_med[2], -mean_fnirs_diff_easy_hard[2], -mean_fnirs_diff_med_hard[2]],\n",
    "    name='dxy first half',\n",
    "    error_y=dict(\n",
    "        type='data',\n",
    "        array=[se_fnirs_diff_easy[2], se_fnirs_diff_med[2], se_fnirs_diff_hard[2], se_fnirs_diff_easy_med[2], se_fnirs_diff_easy_hard[2], se_fnirs_diff_med_hard[2]],\n",
    "        visible=True\n",
    "    )\n",
    ")\n",
    "\n",
    "trace2 = go.Bar(\n",
    "    x=['REST-EASY', 'REST-MED', 'REST-HIGH', 'EASY-MED', 'EASY-HARD', 'MED-HARD'],\n",
    "    y=[mean_fnirs_diff_easy[3], -mean_fnirs_diff_med[3], mean_fnirs_diff_hard[3],  mean_fnirs_diff_easy_med[3], -mean_fnirs_diff_easy_hard[3], -mean_fnirs_diff_med_hard[3]],\n",
    "    name='dxy second half ',\n",
    "    error_y=dict(\n",
    "        type='data',\n",
    "        array=[se_fnirs_diff_easy[3], se_fnirs_diff_med[3], se_fnirs_diff_hard[3], se_fnirs_diff_easy_med[3], se_fnirs_diff_easy_hard[3], se_fnirs_diff_med_hard[3]],\n",
    "        visible=True\n",
    "    )\n",
    ")\n",
    "data = [trace1, trace2]\n",
    "layout = go.Layout(\n",
    "    barmode='group',\n",
    "      legend=dict(\n",
    "        x=1,\n",
    "        y=1,\n",
    "        traceorder='normal',\n",
    "        font=dict(\n",
    "            family='sans-serif',\n",
    "            size=16,\n",
    "            color='#000'\n",
    "        ),\n",
    "        bgcolor='#E2E2E2',\n",
    "        bordercolor='#FFFFFF',\n",
    "        borderwidth=2\n",
    "    )\n",
    ")\n",
    "fig = go.Figure(data=data, layout=layout)\n",
    "py.iplot(fig, filename='error-bar-bar')"
   ]
  },
  {
   "cell_type": "code",
   "execution_count": 15,
   "metadata": {},
   "outputs": [
    {
     "data": {
      "text/html": [
       "<iframe id=\"igraph\" scrolling=\"no\" style=\"border:none;\" seamless=\"seamless\" src=\"https://plot.ly/~kaunil.dhruv/10.embed\" height=\"525px\" width=\"100%\"></iframe>"
      ],
      "text/plain": [
       "<chart_studio.tools.PlotlyDisplay object>"
      ]
     },
     "execution_count": 15,
     "metadata": {},
     "output_type": "execute_result"
    }
   ],
   "source": [
    "import plotly.plotly as py\n",
    "import plotly.graph_objs as go\n",
    "\n",
    "# Create random data with numpy\n",
    "import numpy as np\n",
    "\n",
    "N = 60\n",
    "random_x = np.linspace(1, 60, N)\n",
    "random_y0 = [\n",
    "    1.34648,\n",
    "1.33411,\n",
    "1.29829,\n",
    "1.29186,\n",
    "1.29524,\n",
    "1.29797,\n",
    "1.30117,\n",
    "1.29663,\n",
    "1.31897,\n",
    "1.29465,\n",
    "1.31414,\n",
    "1.31422,\n",
    "1.28256,\n",
    "1.28019,\n",
    "1.28241,\n",
    "1.29724,\n",
    "1.28371,\n",
    "1.29117,\n",
    "1.29627,\n",
    "1.27900,\n",
    "1.28454,\n",
    "1.28277,\n",
    "1.29230,\n",
    "1.28028,\n",
    "1.30342,\n",
    "1.26599,\n",
    "1.26198,\n",
    "1.27821,\n",
    "1.28498,\n",
    "1.26159,\n",
    "1.24917,\n",
    "1.28961,\n",
    "1.28288,\n",
    "1.27569,\n",
    "1.29057,\n",
    "1.29779,\n",
    "1.25431,\n",
    "1.26641,\n",
    "1.29438,\n",
    "1.27668,\n",
    "1.28479,\n",
    "1.28436,\n",
    "1.28955,\n",
    "1.29543,\n",
    "1.28935,\n",
    "1.25135,\n",
    "1.30474,\n",
    "1.28303,\n",
    "1.28860,\n",
    "1.25118,\n",
    "1.26059,\n",
    "1.29528,\n",
    "1.28116,\n",
    "1.26597,\n",
    "1.26972,\n",
    "1.28120,\n",
    "1.24838,\n",
    "1.26271,\n",
    "1.25449,\n",
    "1.28004,\n",
    "1.30318]\n",
    "\n",
    "random_y1 = [\n",
    "    1.23879,\n",
    "1.21062,\n",
    "1.21484,\n",
    "1.23342,\n",
    "1.23115,\n",
    "1.22866,\n",
    "1.21703,\n",
    "1.21243,\n",
    "1.23794,\n",
    "1.24890,\n",
    "1.20151,\n",
    "1.22043,\n",
    "1.21859,\n",
    "1.22508,\n",
    "1.21036,\n",
    "1.25251,\n",
    "1.22006,\n",
    "1.22874,\n",
    "1.22777,\n",
    "1.21169,\n",
    "1.22626,\n",
    "1.22249,\n",
    "1.23665,\n",
    "1.23876,\n",
    "1.25340,\n",
    "1.22446,\n",
    "1.21737,\n",
    "1.23419,\n",
    "1.22026,\n",
    "1.22701,\n",
    "1.22611,\n",
    "1.23917,\n",
    "1.24014,\n",
    "1.22375,\n",
    "1.21839,\n",
    "1.21530,\n",
    "1.21398,\n",
    "1.21990,\n",
    "1.21100,\n",
    "1.21370,\n",
    "1.21627,\n",
    "1.23707,\n",
    "1.21375,\n",
    "1.21312,\n",
    "1.22055,\n",
    "1.21986,\n",
    "1.21895,\n",
    "1.21667,\n",
    "1.21448,\n",
    "1.23741,\n",
    "1.21442,\n",
    "1.24003,\n",
    "1.22053,\n",
    "1.22809,\n",
    "1.21411,\n",
    "1.23259,\n",
    "1.23858,\n",
    "1.26782,\n",
    "1.21836,\n",
    "1.23132,\n",
    "1.22168\n",
    "]\n",
    "# Create traces\n",
    "trace0 = go.Scatter(\n",
    "    x = random_x,\n",
    "    y = random_y0,\n",
    "    mode = 'lines+markers',\n",
    "    name = 'train-loss'\n",
    ")\n",
    "\n",
    "trace1 = go.Scatter(\n",
    "    x = random_x,\n",
    "    y = random_y1,\n",
    "    mode = 'lines+markers',\n",
    "    name = 'validation-loss'\n",
    ")\n",
    "data = [trace0, trace1]\n",
    "layout = go.Layout(\n",
    "    title= 'TRAINING SNAPSHOT',\n",
    "    hovermode= 'closest', \n",
    "    xaxis= dict(\n",
    "        title= 'EPOCHS',\n",
    "        ticklen= 5,\n",
    "        zeroline= False,\n",
    "        gridwidth= 2,\n",
    "    ),\n",
    "    yaxis=dict(\n",
    "        title= 'LOSS',\n",
    "        ticklen= 5,\n",
    "        gridwidth= 2,\n",
    "    ),)\n",
    "fig = go.Figure(data, layout=layout)\n",
    "py.iplot(fig)"
   ]
  },
  {
   "cell_type": "markdown",
   "metadata": {},
   "source": [
    "# ANOVA"
   ]
  }
 ],
 "metadata": {
  "kernelspec": {
   "display_name": "Python (pytorch)",
   "language": "python",
   "name": "pytorch"
  },
  "language_info": {
   "codemirror_mode": {
    "name": "ipython",
    "version": 3
   },
   "file_extension": ".py",
   "mimetype": "text/x-python",
   "name": "python",
   "nbconvert_exporter": "python",
   "pygments_lexer": "ipython3",
   "version": "3.5.6"
  }
 },
 "nbformat": 4,
 "nbformat_minor": 2
}
