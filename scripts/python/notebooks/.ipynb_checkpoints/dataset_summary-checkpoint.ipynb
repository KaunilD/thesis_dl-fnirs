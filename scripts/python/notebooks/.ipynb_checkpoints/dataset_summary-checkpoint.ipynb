{
 "cells": [
  {
   "cell_type": "code",
   "execution_count": 1,
   "metadata": {},
   "outputs": [],
   "source": [
    "import glob\n",
    "import pandas as pd"
   ]
  },
  {
   "cell_type": "code",
   "execution_count": 3,
   "metadata": {},
   "outputs": [],
   "source": [
    "files = glob.glob(\"C:\\\\Users\\\\dhruv\\\\Development\\\\grad_school\\\\thesis\\\\datasets\\\\multilabel\\\\nback\\\\*Probe1*.csv\")"
   ]
  },
  {
   "cell_type": "code",
   "execution_count": 11,
   "metadata": {},
   "outputs": [
    {
     "name": "stdout",
     "output_type": "stream",
     "text": [
      "['\\n', 'File Version,1.22\\n']\n",
      "['\\n', 'File Version,1.22\\n']\n",
      "['\\n', 'File Version,1.22\\n']\n",
      "['\\n', 'File Version,1.22\\n']\n",
      "['\\n', 'File Version,1.22\\n']\n",
      "['\\n', 'File Version,1.22\\n']\n",
      "['\\n', 'File Version,1.22\\n']\n",
      "['\\n', 'File Version,1.22\\n']\n",
      "['\\n', 'File Version,1.22\\n']\n",
      "['\\n', 'File Version,1.22\\n']\n",
      "['\\n', 'File Version,1.22\\n']\n",
      "['\\n', 'File Version,1.22\\n']\n",
      "['\\n', 'File Version,1.22\\n']\n",
      "['\\n', 'File Version,1.22\\n']\n",
      "['\\n', 'File Version,1.22\\n']\n",
      "['\\n', 'File Version,1.22\\n']\n",
      "['\\n', 'File Version,1.22\\n']\n",
      "['\\n', 'File Version,1.22\\n']\n",
      "['\\n', 'File Version,1.22\\n']\n",
      "['\\n', 'File Version,1.22\\n']\n",
      "['\\n', 'File Version,1.22\\n']\n",
      "['\\n', 'File Version,1.22\\n']\n",
      "['\\n', 'File Version,1.22\\n']\n",
      "['\\n', 'File Version,1.22\\n']\n",
      "['\\n', 'File Version,1.22\\n']\n",
      "['\\n', 'File Version,1.22\\n']\n",
      "['\\n', 'File Version,1.22\\n']\n",
      "['\\n', 'File Version,1.22\\n']\n",
      "['\\n', 'File Version,1.22\\n']\n",
      "['\\n', 'File Version,1.22\\n']\n",
      "['\\n', 'File Version,1.22\\n']\n",
      "['\\n', 'File Version,1.22\\n']\n",
      "['\\n', 'File Version,1.22\\n']\n",
      "['\\n', 'File Version,1.22\\n']\n",
      "['\\n', 'File Version,1.22\\n']\n",
      "['\\n', 'File Version,1.22\\n']\n",
      "['\\n', 'File Version,1.22\\n']\n",
      "['\\n', 'File Version,1.22\\n']\n",
      "['\\n', 'File Version,1.22\\n']\n",
      "['\\n', 'File Version,1.22\\n']\n",
      "['\\n', 'File Version,1.22\\n']\n",
      "['\\n', 'File Version,1.22\\n']\n",
      "['\\n', 'File Version,1.22\\n']\n",
      "['\\n', 'File Version,1.22\\n']\n",
      "['\\n', 'File Version,1.22\\n']\n",
      "['\\n', 'File Version,1.22\\n']\n"
     ]
    }
   ],
   "source": [
    "for file in files:\n",
    "    file = open(file, 'r')\n",
    "    file.seek(7)\n",
    "    print(file.readlines(1))"
   ]
  },
  {
   "cell_type": "code",
   "execution_count": null,
   "metadata": {},
   "outputs": [],
   "source": []
  }
 ],
 "metadata": {
  "kernelspec": {
   "display_name": "Python 3",
   "language": "python",
   "name": "python3"
  },
  "language_info": {
   "codemirror_mode": {
    "name": "ipython",
    "version": 3
   },
   "file_extension": ".py",
   "mimetype": "text/x-python",
   "name": "python",
   "nbconvert_exporter": "python",
   "pygments_lexer": "ipython3",
   "version": "3.5.6"
  }
 },
 "nbformat": 4,
 "nbformat_minor": 2
}
