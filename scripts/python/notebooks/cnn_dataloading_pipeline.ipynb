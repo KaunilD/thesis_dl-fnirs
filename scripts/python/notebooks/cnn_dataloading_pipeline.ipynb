{
 "cells": [
  {
   "cell_type": "code",
   "execution_count": 1,
   "metadata": {},
   "outputs": [],
   "source": [
    "import pandas as pd\n",
    "from scipy.io import loadmat\n",
    "import tables\n",
    "import matplotlib.pyplot as plt\n",
    "import numpy as np\n",
    "import seaborn as sns; sns.set()\n",
    "import glob"
   ]
  },
  {
   "cell_type": "code",
   "execution_count": 2,
   "metadata": {},
   "outputs": [],
   "source": [
    "channel_52_mat = {\n",
    "           1:[0,1],  2:[0,2],  3:[0,3],  4:[0,4],  5:[0,5],  6:[0,6],  7:[0,7],  8:[0,8],  9:[0,9], 10:[0,10], \n",
    "11:[1,0], 12:[1,1], 13:[1,2], 14:[1,3], 15:[1,4], 16:[1,5], 17:[1,6], 18:[1,7], 19:[1,8], 20:[1,9], 21:[1,10], \n",
    "          22:[2,1], 23:[2,2], 24:[2,3], 25:[2,4], 26:[2,5], 27:[2,6], 28:[2,7], 29:[2,8], 30:[2,9], 31:[2,10], \n",
    "32:[3,0], 33:[3,1], 34:[3,2], 35:[3,3], 36:[3,4], 37:[3,5], 38:[3,6], 39:[3,7], 40:[3,8], 41:[3,9], 42:[3,10], \n",
    "          43:[4,1], 44:[4,2], 45:[4,3], 46:[4,4], 47:[4,5], 48:[4,6], 49:[4,7], 50:[4,8], 51:[4,9], 52:[4,10]\n",
    "}\n",
    "\n",
    "def get_52_mat(data):\n",
    "    # returns a matrix of size 5x11.\n",
    "    mat = np.zeros((5, 11))\n",
    "    for idx, i in enumerate((data)):\n",
    "        loc = channel_52_mat[idx+1]\n",
    "        mat[loc[0], loc[1]] = i\n",
    "    return mat"
   ]
  },
  {
   "cell_type": "code",
   "execution_count": 3,
   "metadata": {},
   "outputs": [],
   "source": [
    "conditions = glob.glob('./data/mindfulness/benchmark_tasks/data/fNIRS_Data/*_conditions*')\n",
    "data = glob.glob('./data/working_memory_fnirs/data/preprocessed/mat/mindfulness/*.mat')"
   ]
  },
  {
   "cell_type": "code",
   "execution_count": 4,
   "metadata": {},
   "outputs": [
    {
     "name": "stderr",
     "output_type": "stream",
     "text": [
      "C:\\Users\\dhruv\\AppData\\Local\\conda\\conda\\envs\\pytorch\\lib\\site-packages\\numpy\\core\\fromnumeric.py:2920: RuntimeWarning: Mean of empty slice.\n",
      "  out=out, **kwargs)\n",
      "C:\\Users\\dhruv\\AppData\\Local\\conda\\conda\\envs\\pytorch\\lib\\site-packages\\numpy\\core\\_methods.py:78: RuntimeWarning: invalid value encountered in true_divide\n",
      "  ret, rcount, out=ret, casting='unsafe', subok=False)\n"
     ]
    }
   ],
   "source": [
    "cr_cnt = 0\n",
    "wm_cnt = 0\n",
    "for idx, (cond, dat) in enumerate(zip(conditions, data)):\n",
    "    c_data = pd.read_csv(cond)\n",
    "    m_data = loadmat(dat)\n",
    "    \n",
    "    oxyDaya = m_data['nirs_data'][0][0][0]\n",
    "    dxyData = m_data['nirs_data'][0][0][1]\n",
    "    \n",
    "    # iterate through all the tasks here now.\n",
    "    for idx, key in enumerate(list(c_data.keys())):\n",
    "        if 'Task' in key:\n",
    "            # get start and end index of the task\n",
    "            start = int(c_data[key][0])\n",
    "            end = start + int(c_data[key][1])\n",
    "            # visualize heatmap: sns.heatmap(get_52_mat(oxyDaya[0]))\n",
    "            oxy_slice = oxyDaya[start:end, :]\n",
    "            dxy_slice = dxyData[start:end, :]\n",
    "            \n",
    "            oxy_mean = np.mean(oxy_slice, axis = 0)\n",
    "            dxy_mean = np.mean(dxy_slice, axis = 0)\n",
    "            \n",
    "            oxy_mat = get_52_mat(oxy_mean)\n",
    "            dxy_mat = get_52_mat(dxy_mean)\n",
    "            \n",
    "            oxy_dxy_mean = np.hstack([oxy_mat, dxy_mat])\n",
    "            \n",
    "            plt.figure(figsize=(20,10))\n",
    "            plot = sns.heatmap(oxy_dxy_mean)\n",
    "                \n",
    "            if c_data[key][2] == 'cr':    \n",
    "                np.save('./datasets/binary_wl/train/0/{}'.format(str(cr_cnt)), oxy_dxy_mean)\n",
    "                plt.savefig('./datasets/binary_wl/train/0/{}.png'.format(str(cr_cnt)))\n",
    "                cr_cnt+=1\n",
    "            else:\n",
    "                np.save('./datasets/binary_wl/train/1/{}'.format(str(wm_cnt)), oxy_dxy_mean)\n",
    "                plt.savefig('./datasets/binary_wl/train/1/{}.png'.format(str(wm_cnt)))\n",
    "                wm_cnt+=1\n",
    "            plt.close()"
   ]
  },
  {
   "cell_type": "code",
   "execution_count": null,
   "metadata": {},
   "outputs": [],
   "source": []
  }
 ],
 "metadata": {
  "kernelspec": {
   "display_name": "Python (pytorch)",
   "language": "python",
   "name": "pytorch"
  },
  "language_info": {
   "codemirror_mode": {
    "name": "ipython",
    "version": 3
   },
   "file_extension": ".py",
   "mimetype": "text/x-python",
   "name": "python",
   "nbconvert_exporter": "python",
   "pygments_lexer": "ipython3",
   "version": "3.5.6"
  }
 },
 "nbformat": 4,
 "nbformat_minor": 2
}
