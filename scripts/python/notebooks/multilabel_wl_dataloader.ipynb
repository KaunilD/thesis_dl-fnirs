{
 "cells": [
  {
   "cell_type": "code",
   "execution_count": 1,
   "metadata": {},
   "outputs": [],
   "source": [
    "import numpy as np\n",
    "import torch\n",
    "import torch.utils.data as torch_data\n",
    "import torch.nn as nn\n",
    "import torch.nn.init as init\n",
    "import torch.nn.functional as F\n",
    "import os\n",
    "import glob\n",
    "from PIL import Image\n",
    "import numpy as np\n",
    "import torch\n",
    "import os\n",
    "import sys\n",
    "import shutil\n",
    "import math"
   ]
  },
  {
   "cell_type": "code",
   "execution_count": null,
   "metadata": {},
   "outputs": [],
   "source": [
    "class BinaryWMLoader(torch_data.Dataset):\n",
    "    def __init__(self, data_dir, split, num_classes = 1 ):\n",
    "        self.data_dir = data_dir\n",
    "        self.split = split\n",
    "        \n",
    "        self.num_classes = num_classes\n",
    "        self.image_list, self.label_list = [], []\n",
    "        \n",
    "        self.read_lists()\n",
    "        \n",
    "    def read_lists(self):\n",
    "        data_bins = os.path.join(self.data_dir, self.split)\n",
    "        assert os.path.exists(data_bins)\n",
    "        folders = [i for i in next(os.walk(data_bins))[1]]\n",
    "        for folder in folders:\n",
    "            for each_file in glob.glob(os.path.join(data_bins , folder) + '/npy/*.npy'):\n",
    "                self.image_list.append(each_file)\n",
    "                self.label_list.append(int(folder))\n",
    "                \n",
    "    def __getitem__(self, index):\n",
    "        im = np.load(self.image_list[index])\n",
    "        data = [im]\n",
    "        data.append(self.label_list[index])\n",
    "        return tuple(data)\n",
    "\n",
    "\n",
    "    def __len__(self):\n",
    "        return len(self.image_list)"
   ]
  }
 ],
 "metadata": {
  "kernelspec": {
   "display_name": "Python (pytorch)",
   "language": "python",
   "name": "pytorch"
  },
  "language_info": {
   "codemirror_mode": {
    "name": "ipython",
    "version": 3
   },
   "file_extension": ".py",
   "mimetype": "text/x-python",
   "name": "python",
   "nbconvert_exporter": "python",
   "pygments_lexer": "ipython3",
   "version": "3.5.6"
  }
 },
 "nbformat": 4,
 "nbformat_minor": 2
}
