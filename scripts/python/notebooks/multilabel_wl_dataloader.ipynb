{
 "cells": [
  {
   "cell_type": "code",
   "execution_count": 1,
   "metadata": {},
   "outputs": [],
   "source": [
    "import numpy as np\n",
    "import torch\n",
    "import torch.utils.data as torch_data\n",
    "import torch.nn as nn\n",
    "import torch.nn.init as init\n",
    "import torch.nn.functional as F\n",
    "import os\n",
    "import glob\n",
    "from PIL import Image\n",
    "import numpy as np\n",
    "import torch\n",
    "import os\n",
    "import sys\n",
    "import shutil\n",
    "import math"
   ]
  },
  {
   "cell_type": "code",
   "execution_count": 2,
   "metadata": {},
   "outputs": [],
   "source": [
    "class BinaryWMLoader(torch_data.Dataset):\n",
    "    def __init__(self, data_dir, split, num_classes = 1 ):\n",
    "        self.data_dir = data_dir\n",
    "        self.split = split\n",
    "        \n",
    "        self.num_classes = num_classes\n",
    "        self.image_list, self.label_list = [], []\n",
    "        \n",
    "        self.read_lists()\n",
    "        \n",
    "    def read_lists(self):\n",
    "        data_bins = os.path.join(self.data_dir, self.split)\n",
    "        assert os.path.exists(data_bins)\n",
    "        folders = [i for i in next(os.walk(data_bins))[1]]\n",
    "        for folder in folders:\n",
    "            for each_file in glob.glob(os.path.join(data_bins , folder) + '/npy/*.npy'):\n",
    "                self.image_list.append(each_file)\n",
    "                self.label_list.append(int(folder))\n",
    "                \n",
    "    def __getitem__(self, index):\n",
    "        im = np.load(self.image_list[index])\n",
    "        data = [im]\n",
    "        data.append(self.label_list[index])\n",
    "        return tuple(data)\n",
    "\n",
    "\n",
    "    def __len__(self):\n",
    "        return len(self.image_list)"
   ]
  },
  {
   "cell_type": "code",
   "execution_count": 7,
   "metadata": {},
   "outputs": [],
   "source": [
    "b = BinaryWMLoader('../../../data/binary/', \"train\")"
   ]
  },
  {
   "cell_type": "code",
   "execution_count": 8,
   "metadata": {},
   "outputs": [
    {
     "data": {
      "text/plain": [
       "(array([[ 0.00000000e+00,  1.21304595e+00, -3.03141387e+00,\n",
       "         -4.94920774e+00,  1.23181975e-01,  7.56616389e-01,\n",
       "          9.79636526e-01, -1.95054179e-01, -6.51297086e-01,\n",
       "         -1.19166635e+00, -4.83624563e+00,  0.00000000e+00,\n",
       "          1.85191071e+00,  1.82175488e+00,  6.10628529e-02,\n",
       "         -5.66525377e-01,  6.12013942e-03,  1.23018625e+00,\n",
       "         -1.03946533e+00,  2.22175020e-02,  4.07615733e-01,\n",
       "          7.35767036e-01],\n",
       "        [ 7.70352582e-01,  2.13787686e+00, -1.40983821e+00,\n",
       "         -2.72381648e-01,  5.63635174e-02,  1.91381170e-01,\n",
       "          6.74774425e-01, -6.31291429e-01,  4.51193056e-01,\n",
       "          1.22624092e-01, -6.68506153e+00,  3.99972167e-01,\n",
       "          1.26291359e+00, -2.51894390e-01, -8.46977123e-01,\n",
       "         -7.46586145e-01, -6.12411355e-01,  1.28032890e-01,\n",
       "         -3.34116388e-01,  4.86446506e-01, -1.94681655e-01,\n",
       "          1.30740919e+00],\n",
       "        [ 0.00000000e+00,  1.41796695e+00,  1.13142327e+00,\n",
       "          1.61497100e-01, -1.60309980e-01, -9.96841157e-02,\n",
       "          1.62679616e-02,  3.05211912e-01, -4.91871485e-02,\n",
       "          6.33073155e-01,  5.65676513e-01,  0.00000000e+00,\n",
       "         -2.04646954e-01, -7.31871714e-02, -2.97259565e-01,\n",
       "         -6.24642413e-01, -8.18594381e-01, -3.67843234e-01,\n",
       "          3.23645444e-01,  7.59538002e-01, -2.47673419e-01,\n",
       "         -3.33950155e-01],\n",
       "        [-3.73749803e+00,  1.81572639e+00,  7.31694034e-01,\n",
       "         -1.47519152e-02,  2.28640037e-01,  6.06997611e-02,\n",
       "          1.02897014e-01,  7.47259295e-01,  4.04512386e-01,\n",
       "          7.94791224e-01,  7.82311553e-01,  3.52059227e-01,\n",
       "         -2.54798718e-02, -2.43744307e-01, -7.26980515e-01,\n",
       "         -8.02536926e-01, -5.39777869e-01, -5.04325632e-01,\n",
       "         -5.78604365e-01,  1.36712071e-01, -3.72140820e-01,\n",
       "         -1.03762127e+00],\n",
       "        [ 0.00000000e+00, -7.93306070e+00,  7.59860746e-01,\n",
       "          3.02369033e-01,  3.55715206e-01,  3.80221045e-01,\n",
       "          9.46892857e-02, -5.24305608e-02,  7.38537342e-02,\n",
       "          1.03397739e-01,  5.32436792e-01,  0.00000000e+00,\n",
       "          1.90056223e+00, -3.49802427e-01, -6.01198520e-01,\n",
       "         -9.48278600e-01, -5.18647833e-01, -6.66036622e-01,\n",
       "         -7.20803190e-01, -1.65724475e-01, -1.87449844e-01,\n",
       "         -1.07416951e+00]]), 0)"
      ]
     },
     "execution_count": 8,
     "metadata": {},
     "output_type": "execute_result"
    }
   ],
   "source": [
    "c = b.__getitem__(0)"
   ]
  },
  {
   "cell_type": "code",
   "execution_count": null,
   "metadata": {},
   "outputs": [],
   "source": []
  },
  {
   "cell_type": "code",
   "execution_count": null,
   "metadata": {},
   "outputs": [],
   "source": []
  }
 ],
 "metadata": {
  "kernelspec": {
   "display_name": "Python (pytorch)",
   "language": "python",
   "name": "pytorch"
  },
  "language_info": {
   "codemirror_mode": {
    "name": "ipython",
    "version": 3
   },
   "file_extension": ".py",
   "mimetype": "text/x-python",
   "name": "python",
   "nbconvert_exporter": "python",
   "pygments_lexer": "ipython3",
   "version": "3.5.6"
  }
 },
 "nbformat": 4,
 "nbformat_minor": 2
}
