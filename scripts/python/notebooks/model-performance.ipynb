{
 "cells": [
  {
   "cell_type": "code",
   "execution_count": 56,
   "metadata": {},
   "outputs": [],
   "source": [
    "import os\n",
    "import sys\n",
    "import glob\n",
    "import math\n",
    "import json\n",
    "import shutil\n",
    "import numpy as np\n",
    "# pytorch stuff\n",
    "import torch\n",
    "import torch.utils.data as torch_data\n",
    "import torch.nn as nn\n",
    "import torch.nn.init as init\n",
    "import torch.nn.functional as F\n",
    "# sklearn\n",
    "from sklearn.metrics import confusion_matrix"
   ]
  },
  {
   "cell_type": "markdown",
   "metadata": {},
   "source": [
    "##### Model"
   ]
  },
  {
   "cell_type": "code",
   "execution_count": 40,
   "metadata": {},
   "outputs": [],
   "source": [
    "class CNN3D(nn.Module):\n",
    "    def __init__(self, num_classes=9, in_planes=2):\n",
    "        super(CNN3D, self).__init__()\n",
    "        # N, C, D, H, W = 1, 1, 160, 5, 22\n",
    "        self.conv1 = nn.Conv3d(in_channels=in_planes, out_channels=5, kernel_size=(65, 1, 2))\n",
    "        self.bn1 = nn.BatchNorm3d(5)\n",
    "        self.conv2 = nn.Conv3d(in_channels=5, out_channels=10, kernel_size=(1, 1, 1))\n",
    "        self.bn2 = nn.BatchNorm3d(10)\n",
    "        self.conv3 = nn.Conv3d(in_channels=10, out_channels=5, kernel_size=(1, 1, 1))\n",
    "        self.bn3 = nn.BatchNorm3d(5)\n",
    "        self.conv4 = nn.Conv3d(in_channels=5, out_channels=1, kernel_size=(1, 1, 1))\n",
    "        self.bn4 = nn.BatchNorm3d(1)\n",
    "        self.dropout1 = nn.Dropout(p=0.6)\n",
    "        self.dropout2 = nn.Dropout(p=0.4)\n",
    "        self.fc1   = nn.Linear(11 , 3)\n",
    "        self.softmax = nn.Sigmoid()\n",
    "\n",
    "\n",
    "    def forward(self, x):\n",
    "        out = self.conv1(x)\n",
    "        out = F.max_pool3d(out, 2)\n",
    "        out = self.bn1(out)\n",
    "\n",
    "        if self.training:\n",
    "            out = self.dropout1(out)\n",
    "\n",
    "\n",
    "        out = self.conv2(out)\n",
    "        out = F.max_pool3d(out, 2)\n",
    "        out = self.bn2(out)\n",
    "\n",
    "        if self.training:\n",
    "            out = self.dropout1(out)\n",
    "\n",
    "        out = self.conv3(out)\n",
    "        out = F.max_pool3d(out, 2)\n",
    "        out = self.bn3(out)\n",
    "\n",
    "        if self.training:\n",
    "            out = self.dropout1(out)\n",
    "\n",
    "        out = self.conv4(out)\n",
    "        out = F.max_pool3d(out, 2)\n",
    "        out = self.bn4(out)\n",
    "\n",
    "        if self.training:\n",
    "            out = self.dropout1(out)\n",
    "\n",
    "\n",
    "        out = out.view(out.size(0), -1)\n",
    "\n",
    "        if self.training:\n",
    "            out = self.dropout1(out)\n",
    "\n",
    "\n",
    "        out = self.fc1(out)\n",
    "\n",
    "        \"\"\"\n",
    "        if self.training:\n",
    "            out = self.dropout2(out)\n",
    "        \"\"\"\n",
    "        #out = F.log_softmax(out)\n",
    "\n",
    "        return out\n"
   ]
  },
  {
   "cell_type": "markdown",
   "metadata": {},
   "source": [
    "##### Load data"
   ]
  },
  {
   "cell_type": "code",
   "execution_count": 97,
   "metadata": {},
   "outputs": [],
   "source": [
    "class MultilabelWMLoader(torch_data.Dataset):\n",
    "    def __init__(self, data_dir, split, num_classes = 1, time_steps = 160 ):\n",
    "        self.data_dir = data_dir\n",
    "        self.split = split\n",
    "        self.time_steps = time_steps\n",
    "\n",
    "        self.num_classes = num_classes\n",
    "        self.image_list, self.label_list = [], []\n",
    "\n",
    "        self.read_lists()\n",
    "\n",
    "    def read_lists(self):\n",
    "        data_bins = os.path.join(self.data_dir, self.split)\n",
    "        assert os.path.exists(data_bins)\n",
    "        for each_file in glob.glob(data_bins + '\\\\' + '*.npy'):\n",
    "            data = np.load(each_file)\n",
    "            # .reshape((160, 5, 22, 1))\n",
    "            self.image_list.append(\n",
    "                data[0].reshape((2, self.time_steps, 5, data[0].shape[3]))\n",
    "            )\n",
    "\n",
    "            self.label_list.append(data[1][2])\n",
    "\n",
    "    def __getitem__(self, index):\n",
    "\n",
    "        return (self.image_list[index], self.label_list[index])\n",
    "\n",
    "    def __len__(self):\n",
    "        return len(self.image_list)\n",
    "    \n",
    "def get_dataset_distribution(dataset_loader):\n",
    "\n",
    "    label_bins = {0:0, 1:0, 2:0}\n",
    "\n",
    "    for data, target in dataset_loader:\n",
    "        target = target.numpy()\n",
    "        for t in target:\n",
    "            label_bins[t]+=1\n",
    "\n",
    "    return json.dumps(label_bins, indent=1, sort_keys=True)\n"
   ]
  },
  {
   "cell_type": "code",
   "execution_count": 98,
   "metadata": {},
   "outputs": [],
   "source": [
    "val_dataset = MultilabelWMLoader(\n",
    "        data_dir='C:/Users/dhruv/Downloads/thesis_dl-fnirs-b9882cd9c405022d5e447de45a406334d56d671b/thesis_dl-fnirs-b9882cd9c405022d5e447de45a406334d56d671b/data/multilabel/',\n",
    "        split='val', time_steps = 250\n",
    "        )\n",
    "\n",
    "val_loader = torch_data.DataLoader(\n",
    "    val_dataset,\n",
    "    batch_size=1, shuffle=True, num_workers=0\n",
    "    )"
   ]
  },
  {
   "cell_type": "code",
   "execution_count": 99,
   "metadata": {},
   "outputs": [
    {
     "name": "stdout",
     "output_type": "stream",
     "text": [
      "{\n",
      " \"0\": 35,\n",
      " \"1\": 7,\n",
      " \"2\": 0\n",
      "}\n"
     ]
    }
   ],
   "source": [
    "print(get_dataset_distribution(dataset_loader=val_loader))"
   ]
  },
  {
   "cell_type": "markdown",
   "metadata": {},
   "source": [
    "##### Testing Working Memory"
   ]
  },
  {
   "cell_type": "code",
   "execution_count": 114,
   "metadata": {},
   "outputs": [
    {
     "data": {
      "text/plain": [
       "CNN3D(\n",
       "  (conv1): Conv3d(2, 5, kernel_size=(65, 1, 2), stride=(1, 1, 1))\n",
       "  (bn1): BatchNorm3d(5, eps=1e-05, momentum=0.1, affine=True, track_running_stats=True)\n",
       "  (conv2): Conv3d(5, 10, kernel_size=(1, 1, 1), stride=(1, 1, 1))\n",
       "  (bn2): BatchNorm3d(10, eps=1e-05, momentum=0.1, affine=True, track_running_stats=True)\n",
       "  (conv3): Conv3d(10, 5, kernel_size=(1, 1, 1), stride=(1, 1, 1))\n",
       "  (bn3): BatchNorm3d(5, eps=1e-05, momentum=0.1, affine=True, track_running_stats=True)\n",
       "  (conv4): Conv3d(5, 1, kernel_size=(1, 1, 1), stride=(1, 1, 1))\n",
       "  (bn4): BatchNorm3d(1, eps=1e-05, momentum=0.1, affine=True, track_running_stats=True)\n",
       "  (dropout1): Dropout(p=0.6)\n",
       "  (dropout2): Dropout(p=0.4)\n",
       "  (fc1): Linear(in_features=11, out_features=3, bias=True)\n",
       "  (softmax): Sigmoid()\n",
       ")"
      ]
     },
     "execution_count": 114,
     "metadata": {},
     "output_type": "execute_result"
    }
   ],
   "source": [
    "model_path = '../deep-learning/experiments/cnn3d/011/model-cnn3d-epoch-59.pth'\n",
    "model = CNN3D()\n",
    "model.load_state_dict(torch.load(model_path)[\"model\"])\n",
    "model.eval()"
   ]
  },
  {
   "cell_type": "code",
   "execution_count": 115,
   "metadata": {},
   "outputs": [
    {
     "data": {
      "text/plain": [
       "array([[35,  0],\n",
       "       [ 7,  0]], dtype=int64)"
      ]
     },
     "execution_count": 115,
     "metadata": {},
     "output_type": "execute_result"
    }
   ],
   "source": [
    "pred = []\n",
    "true = []\n",
    "with torch.no_grad():\n",
    "    for data, target in val_loader:\n",
    "        data, target = data.float(), target.long()\n",
    "        output = model(data)\n",
    "        _, predicted = torch.max(output.data, 1)\n",
    "        pred.append(predicted.item())\n",
    "        true.append(target.item())\n",
    "confusion_matrix(y_pred=pred, y_true=true)"
   ]
  },
  {
   "cell_type": "code",
   "execution_count": null,
   "metadata": {},
   "outputs": [],
   "source": []
  }
 ],
 "metadata": {
  "kernelspec": {
   "display_name": "Python (pytorch)",
   "language": "python",
   "name": "pytorch"
  },
  "language_info": {
   "codemirror_mode": {
    "name": "ipython",
    "version": 3
   },
   "file_extension": ".py",
   "mimetype": "text/x-python",
   "name": "python",
   "nbconvert_exporter": "python",
   "pygments_lexer": "ipython3",
   "version": "3.5.6"
  }
 },
 "nbformat": 4,
 "nbformat_minor": 2
}
