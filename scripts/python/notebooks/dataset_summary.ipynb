{
 "cells": [
  {
   "cell_type": "code",
   "execution_count": 45,
   "metadata": {},
   "outputs": [],
   "source": [
    "import glob\n",
    "import pandas as pd\n",
    "import numpy as np"
   ]
  },
  {
   "cell_type": "code",
   "execution_count": 46,
   "metadata": {},
   "outputs": [],
   "source": [
    "files = glob.glob(\"C:\\\\Users\\\\dhruv\\\\Development\\\\grad_school\\\\thesis\\\\datasets\\\\multilabel\\\\nback\\\\*Probe1*.csv\")"
   ]
  },
  {
   "cell_type": "code",
   "execution_count": 47,
   "metadata": {},
   "outputs": [
    {
     "name": "stdout",
     "output_type": "stream",
     "text": [
      "{'Female': 34, 'Male': 12} 25.75 2.947456530637899\n"
     ]
    }
   ],
   "source": [
    "ages = []\n",
    "sexes = {\"Male\":0, \"Female\": 0}\n",
    "for file in files:\n",
    "    file = open(file, 'r')\n",
    "    lines = file.read().split('\\n')\n",
    "    age_col = lines[7].split(\",\")[-1].strip()\n",
    "    if len(age_col) > 1:\n",
    "        \"\"\"\n",
    "        print(len(age_col))\n",
    "        print(int(age_col[:-1]))\n",
    "        \"\"\"\n",
    "        age = int(age_col[:-1])\n",
    "        # print(age)\n",
    "        if (age) > 0:\n",
    "            ages.append(age)\n",
    "    sex = lines[8].split(\",\")[-1].strip()\n",
    "    sexes[sex]+=1\n",
    "print(sexes, np.mean(ages), np.std(ages))"
   ]
  },
  {
   "cell_type": "code",
   "execution_count": null,
   "metadata": {},
   "outputs": [],
   "source": []
  }
 ],
 "metadata": {
  "kernelspec": {
   "display_name": "Python 3",
   "language": "python",
   "name": "python3"
  },
  "language_info": {
   "codemirror_mode": {
    "name": "ipython",
    "version": 3
   },
   "file_extension": ".py",
   "mimetype": "text/x-python",
   "name": "python",
   "nbconvert_exporter": "python",
   "pygments_lexer": "ipython3",
   "version": "3.5.6"
  }
 },
 "nbformat": 4,
 "nbformat_minor": 2
}
